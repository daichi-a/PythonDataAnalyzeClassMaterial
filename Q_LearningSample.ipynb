{
  "nbformat": 4,
  "nbformat_minor": 0,
  "metadata": {
    "colab": {
      "name": "Q_LearningSample.ipynb",
      "provenance": [],
      "collapsed_sections": []
    },
    "kernelspec": {
      "name": "python3",
      "display_name": "Python 3"
    }
  },
  "cells": [
    {
      "cell_type": "markdown",
      "metadata": {
        "id": "n6j-ayfTC8RA",
        "colab_type": "text"
      },
      "source": [
        "状態が常に同じで報酬が変化しない場合（状態が1つしかない）場合は，Qテーブルを使わなくてもいける"
      ]
    },
    {
      "cell_type": "code",
      "metadata": {
        "id": "qnoXMFtH0ryi",
        "colab_type": "code",
        "colab": {
          "base_uri": "https://localhost:8080/",
          "height": 265
        },
        "outputId": "0da9b70c-cf35-495b-a389-9df240445d9b"
      },
      "source": [
        "import numpy as np\n",
        "import random\n",
        "\n",
        "# 現在のQ値を保持する．状態は常に同じ選択肢は常に同じものが2\n",
        "Q = np.zeros((2), dtype=np.float)\n",
        "\n",
        "# グラフの描画のために過去のQ値の変遷を100試行分格納する配列\n",
        "Qpast = np.zeros((100, 2), dtype=np.float)\n",
        "\n",
        "#Qの初期値．両方とも半々に設定する\n",
        "Q[0] = 0.5\n",
        "Q[1] = 0.5\n",
        "\n",
        "Qpast[0][0] = Q[0]\n",
        "Qpast[0][1] = Q[1]\n",
        "\n",
        "# 報酬は，選択肢0の時は常に1.0, 選択肢1の時は常に1.2\n",
        "rewards = np.array([1.0, 1.2], dtype=np.float)\n",
        "\n",
        "# 学習率アルファ\n",
        "learning_rate = 0.8\n",
        "\n",
        "# 減衰割引率ガンマ\n",
        "decay_discount_factor = 0.8\n",
        "\n",
        "for t in range(0, 100, 1):\n",
        "  # 現在の試行回数がtに入る\n",
        "  # ルーレット方式で選択肢を決定する　（一般的にはε-グリーディ法を使うので，ちょっと違うが，わかりやすくするため）\n",
        "  # 現在のQ値のルーレットを作成\n",
        "  sumQ = np.sum(Q)\n",
        "  roulette_number = random.random() * sumQ\n",
        "  if roulette_number < Q[0]:\n",
        "    # 選択肢0が選ばれた\n",
        "    current_rewards = rewards[0]\n",
        "    # この計算では状態によって報酬は変わらないとしているので，次の状態の報酬の最大値は常に選択肢1の報酬になる\n",
        "    nextQ0 = Q[0] + learning_rate * (current_rewards + decay_discount_factor * rewards[1] - Q[0])\n",
        "    # 選択肢0のQ値を更新\n",
        "    Qpast[t][0] = Q[0] = nextQ0\n",
        "    # 選択肢1のQ値は変わらない\n",
        "    Qpast[t][1] = Q[1]\n",
        "\n",
        "  else:\n",
        "    # 選択肢1が選ばれた\n",
        "    current_rewards = rewards[1]\n",
        "    # この計算では状態によって報酬は変わらないとしているので，次の状態の報酬の最大値は常に選択肢1の報酬になる\n",
        "    nextQ1 = Q[1] + learning_rate * (current_rewards + decay_discount_factor * rewards[1] - Q[1])\n",
        "    # 選択肢1のQ値を更新\n",
        "    Qpast[t][1] = Q[1] = nextQ1\n",
        "    # 選択肢0のQ値は変わらない\n",
        "    Qpast[t][0] = Q[0]\n",
        "\n",
        "import matplotlib.pyplot as plt\n",
        "x_array = np.array([range(0, 100, 1)]).ravel()\n",
        "# 描画のために選択肢0と1の系列を引っ張り出すため，transposeで次元をひっくり返す\n",
        "Qpast = Qpast.transpose()\n",
        "plt.plot(x_array, Qpast[0].ravel(), label='Q:choice0')\n",
        "plt.plot(x_array, Qpast[1].ravel(), label='Q:choice1')\n",
        "plt.legend()\n",
        "plt.show()\n",
        "# あっという間に収束する"
      ],
      "execution_count": 41,
      "outputs": [
        {
          "output_type": "display_data",
          "data": {
            "image/png": "[encoded data removed]",
            "text/plain": [
              "<Figure size 432x288 with 1 Axes>"
            ]
          },
          "metadata": {
            "tags": []
          }
        }
      ]
    },
    {
      "cell_type": "markdown",
      "metadata": {
        "id": "XQLA8Ty3Rikt",
        "colab_type": "text"
      },
      "source": [
        "状態が複数あり，かつ報酬が状態によって変わるので，Q-tableを使う場合"
      ]
    },
    {
      "cell_type": "code",
      "metadata": {
        "id": "p3VB-pzzRkqZ",
        "colab_type": "code",
        "colab": {
          "base_uri": "https://localhost:8080/",
          "height": 333
        },
        "outputId": "d7dd57cc-ccf7-4ee9-bcc7-069ee19f32fa"
      },
      "source": [
        "import numpy as np\n",
        "import random\n",
        "\n",
        "# 現在のQ値を保持するQ-table．状態数4，選択肢数3(0~3), 初期値を0.1で入れておく\n",
        "# 最初の選択をするために，最初のQ値が必要となるから\n",
        "Q = np.full((4, 3), 0.1, dtype=np.float)\n",
        "\n",
        "# グラフの描画のために過去のQ値の変遷を100試行分格納する配列\n",
        "# 状態数*選択肢数分保持する\n",
        "Qpast = np.zeros((100, 4, 3), dtype=np.float)\n",
        "\n",
        "# この計算では，報酬は，状態数*選択肢数の配列で，固定しておく\n",
        "# つまり，選択した行動の報酬は現在の状態によって変わるが，探索中に動いたりはしない\n",
        "# 1~1.5のランダムな値を入れておく\n",
        "rewards = np.zeros((4, 3), dtype=np.float)\n",
        "for i in range(4):\n",
        "  for j in range(3):\n",
        "    rewards[i][j] = random.random() * 0.5 + 1.0\n",
        "print(rewards)\n",
        "\n",
        "# 学習率アルファ\n",
        "learning_rate = 0.8\n",
        "\n",
        "# 減衰割引率ガンマ\n",
        "decay_discount_factor = 0.8\n",
        "\n",
        "# 初期状態は，状態0とする\n",
        "current_status = 0\n",
        "# 100試行分の状態を記録する配列を作っておく\n",
        "status_past = np.zeros((100), dtype=np.int)\n",
        "status_past[0] = current_status\n",
        "\n",
        "# 状態遷移テーブルを作る\n",
        "# この状態の時，この選択肢が選択されたら，次の状態が決まるというやつ\n",
        "# これは確率にしても良いし，現在の状態とか状態の蓄積から決定木を書いても良い\n",
        "# とりあえず確率にしておく\n",
        "# 確率なので，1つの状態から1つの選択肢で移動する状態の確率は1.0である必要がある．\n",
        "# 状態は再帰の場合もあることとする\n",
        "status_transition_ratio = np.zeros((4, 3, 4), dtype=np.float)\n",
        "\n",
        "# 一つの状態で一つの選択肢からの状態遷移の総和が1.0になるように，ランダムに値を入れる\n",
        "for i in range(4):\n",
        "  for j in range(3):\n",
        "    s_array = np.zeros((4), dtype=np.float)\n",
        "    for k in range(4):\n",
        "      s_array[k] = random.random()\n",
        "    for k in range(4):\n",
        "      if k != 3:\n",
        "        status_transition_ratio[i][j][k] = 1.0 /  sum(s_array) * s_array[k]\n",
        "      else:\n",
        "        status_transition_ratio[i][j][k] = 1.0 - (sum(s_array) - s_array[3])\n",
        "\n",
        "# 終端状態が存在する場合は，初期状態に戻ることを確率として書いておけば良い\n",
        "\n",
        "for t in range(0, 100, 1):\n",
        "  # 現在の試行回数がtに入る\n",
        "\n",
        "  # ε-グリーディ法で行動を選択する\n",
        "\n",
        "  # ある適当な定数を用意（ε = 0.3）\n",
        "  # 行動選択の際、0~1の間の乱数を生成し、その値がε以下であればランダムに行動を選択する\n",
        "  # εより大きければQ値の大きい行動を選択する(ルーレット選択)\n",
        "  epsilon = 0.3\n",
        "  if random.random() < epsilon:\n",
        "    current_choice = random.randint(0, 2)\n",
        "    # randint(a, b)は a <= x <= bであることに注意\n",
        "  else:\n",
        "    # 現在の状態におけるQ値の各選択肢のルーレットを作成\n",
        "    sumQ = np.sum(Q[current_status])\n",
        "    roulette_number = random.random() * sumQ\n",
        "\n",
        "    # 選択肢の決定\n",
        "    if roulette_number < Q[current_status][0]:\n",
        "      current_choice = 0    \n",
        "    elif roulette_number < Q[current_status][0] + Q[current_status][1]:\n",
        "      current_choice = 1\n",
        "    else:\n",
        "      current_chice = 2\n",
        "\n",
        "  # 選択肢による報酬の決定\n",
        "  current_rewards = rewards[current_status][current_choice]\n",
        "  # 次の状態を状態遷移確率テーブルから選ぶ\n",
        "\n",
        "  transition_ratio_in_current_status = status_transition_ratio[current_status][current_choice]\n",
        "  sum_transition_ratio = np.sum(transition_ratio_in_current_status)\n",
        "  roulette_number = random.random() * sum_transition_ratio\n",
        "  if roulette_number < transition_ratio_in_current_status[0]:\n",
        "    next_status = 0\n",
        "  elif roulette_number < transition_ratio_in_current_status[1]:\n",
        "    next_status = 1\n",
        "  elif roulette_number < transition_ratio_in_current_status[2]:\n",
        "    next_status = 2\n",
        "  else:\n",
        "    next_status = 3\n",
        "\n",
        "  # 次の状態での報酬の最大値を決定する\n",
        "  max_next_step_rewards = np.max(rewards[next_status])\n",
        "  nextQ = Q[current_status][current_choice] + learning_rate * (current_rewards + decay_discount_factor * max_next_step_rewards - Q[current_status][current_choice])\n",
        "\n",
        "  # Q-tableを更新\n",
        "  Q[current_status][current_choice] = nextQ\n",
        "\n",
        "  # Q値の変遷を記録\n",
        "  for i in range(4):\n",
        "    for j in range(3):\n",
        "      Qpast[t][i][j] = Q[i][j]\n",
        "\n",
        "\n",
        "import matplotlib.pyplot as plt\n",
        "x_array = np.array([range(0, 100, 1)]).ravel()\n",
        "\n",
        "for i in range(4):\n",
        "  for j in range(3):\n",
        "    # y軸の配列，つまり，その状態とその選択肢のQ値の変遷を取り出す\n",
        "    Qpast_in_one_array = np.zeros((100), dtype=np.float)\n",
        "    for t in range(100):\n",
        "      Qpast_in_one_array[t] = Qpast[t][i][j]\n",
        "    # 表示用ラベルを作る\n",
        "    display_label = 'Q:' + 'status' + str(i) + ',choice' + str(j)\n",
        "    plt.plot(x_array, Qpast_in_one_array, label=display_label)\n",
        "\n",
        "plt.legend()\n",
        "plt.show()"
      ],
      "execution_count": 66,
      "outputs": [
        {
          "output_type": "stream",
          "text": [
            "[[1.06045153 1.1773006  1.15891213]\n",
            " [1.4046756  1.17568825 1.09659657]\n",
            " [1.00351411 1.34634186 1.06058429]\n",
            " [1.4246189  1.07051322 1.34614736]]\n"
          ],
          "name": "stdout"
        },
        {
          "output_type": "display_data",
          "data": {
            "image/png": "[encoded data removed]",
            "text/plain": [
              "<Figure size 432x288 with 1 Axes>"
            ]
          },
          "metadata": {
            "tags": []
          }
        }
      ]
    }
  ]
}