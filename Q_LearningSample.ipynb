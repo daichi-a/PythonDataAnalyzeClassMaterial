{
  "nbformat": 4,
  "nbformat_minor": 0,
  "metadata": {
    "colab": {
      "name": "Q_LearningSample.ipynb",
      "provenance": [],
      "collapsed_sections": [],
      "include_colab_link": true
    },
    "kernelspec": {
      "name": "python3",
      "display_name": "Python 3"
    }
  },
  "cells": [
    {
      "cell_type": "markdown",
      "metadata": {
        "id": "view-in-github",
        "colab_type": "text"
      },
      "source": [
        "<a href=\"https://colab.research.google.com/github/daichi-a/PythonDataAnalyzeClassMaterial/blob/master/Q_LearningSample.ipynb\" target=\"_parent\"><img src=\"https://colab.research.google.com/assets/colab-badge.svg\" alt=\"Open In Colab\"/></a>"
      ]
    },
    {
      "cell_type": "markdown",
      "metadata": {
        "id": "n6j-ayfTC8RA",
        "colab_type": "text"
      },
      "source": [
        "状態が常に同じで報酬が変化しない場合（状態が1つしかない）場合は，Qテーブルを使わなくてもいける"
      ]
    },
    {
      "cell_type": "code",
      "metadata": {
        "id": "qnoXMFtH0ryi",
        "colab_type": "code",
        "outputId": "13da427e-02aa-4572-b2dd-2fa9f3355d89",
        "colab": {
          "base_uri": "https://localhost:8080/",
          "height": 513
        }
      },
      "source": [
        "import numpy as np\n",
        "import random\n",
        "import math\n",
        "\n",
        "num_of_trial = 100\n",
        "num_of_choice = 2\n",
        "\n",
        "# 現在のQ値を保持する．状態は常に同じ選択肢は常に同じものが2\n",
        "Q = np.zeros((num_of_choice), dtype=np.float)\n",
        "\n",
        "# 最尤推定のために選択肢を記録する\n",
        "choice_array = np.zeros((num_of_trial), dtype=np.int)\n",
        "\n",
        "# グラフの描画のために過去のQ値の変遷を100試行分格納する配列\n",
        "Qpast = np.zeros((num_of_trial, num_of_choice), dtype=np.float)\n",
        "\n",
        "#Qの初期値．両方とも同じに設定する\n",
        "Q[0] = 0.1\n",
        "Q[1] = 0.1\n",
        "\n",
        "Qpast[0][0] = Q[0]\n",
        "Qpast[0][1] = Q[1]\n",
        "\n",
        "# その時点での選択確率を記録する配列\n",
        "Qp = np.zeros((num_of_trial, num_of_choice), dtype=np.float)\n",
        "\n",
        "# 報酬は，選択肢0の時は常に1.0, 選択肢1の時は常に1.2\n",
        "rewards = np.array([1.0, 1.2], dtype=np.float)\n",
        "\n",
        "# 学習率アルファ\n",
        "learning_rate = 0.8\n",
        "\n",
        "# 減衰割引率ガンマ\n",
        "decay_discount_factor = 0.8\n",
        "\n",
        "# 選択方法\n",
        "choice_algorithm = 'Softmax'\n",
        "\n",
        "for t in range(0, num_of_trial, 1):\n",
        "  # 現在の試行回数がtに入る\n",
        "  if choice_algorithm == 'Roulette':\n",
        "    # ルーレット方式で選択肢を決定する　（一般的にはε-グリーディ法を使うので，ちょっと違うが，わかりやすくするため）\n",
        "    # 現在のQ値のルーレットを作成\n",
        "    sumQ = np.sum(Q)\n",
        "    roulette_number = random.random() * sumQ\n",
        "    if roulette_number < Q[0]:\n",
        "      current_choice = 0\n",
        "    else:\n",
        "      current_choice = 1\n",
        "  else:\n",
        "    # Softmaxで行動を選択する\n",
        "    p_choice_sm = np.zeros((num_of_choice), dtype=np.float)\n",
        "    deno = 0.0\n",
        "    for i in range(num_of_choice):\n",
        "      # Softmaxの分母部分の計算\n",
        "      deno += math.exp(inverse_temperature * Q[i])\n",
        "    for i in range(num_of_choice): # 現在の状態において2つの選択を取る確率をそれぞれ計算\n",
        "      Qp[t][i] = p_choice_sm[i] = math.exp(inverse_temperature * Q[i]) / deno\n",
        "\n",
        "\n",
        "    # 乱数を振ってどの選択か決める\n",
        "    softmax_num = random.random()\n",
        "    current_choice = num_of_choice - 1\n",
        "    sum_p = 0.0\n",
        "    for i in range(num_of_choice-1):\n",
        "      sum_p += p_choice_sm[i]\n",
        "      if softmax_num < sum_p:\n",
        "        current_choice = i\n",
        "        break\n",
        "\n",
        "    if current_choice == 0:\n",
        "      # 選択肢0が選ばれた\n",
        "      current_rewards = rewards[0]\n",
        "      # この計算では状態によって報酬は変わらないとしているので，次の状態の報酬の最大値は常に選択肢1の報酬になる\n",
        "      nextQ0 = Q[0] + learning_rate * (current_rewards + decay_discount_factor * rewards[1] - Q[0])\n",
        "      # 選択肢0のQ値を更新\n",
        "      Qpast[t][0] = Q[0] = nextQ0\n",
        "      # 選択肢1のQ値は変わらない\n",
        "      Qpast[t][1] = Q[1]\n",
        "\n",
        "    else:\n",
        "      # 選択肢1が選ばれた\n",
        "      current_rewards = rewards[1]\n",
        "      # この計算では状態によって報酬は変わらないとしているので，次の状態の報酬の最大値は常に選択肢1の報酬になる\n",
        "      nextQ1 = Q[1] + learning_rate * (current_rewards + decay_discount_factor * rewards[1] - Q[1])\n",
        "      # 選択肢1のQ値を更新\n",
        "      Qpast[t][1] = Q[1] = nextQ1\n",
        "      # 選択肢0のQ値は変わらない\n",
        "      Qpast[t][0] = Q[0]\n",
        "\n",
        "  choice_array[t] = current_choice\n",
        "\n",
        "import matplotlib.pyplot as plt\n",
        "x_array = np.array([range(0, num_of_trial, 1)]).ravel()\n",
        "# 描画のために選択肢0と1の系列を引っ張り出すため，transposeで次元をひっくり返す\n",
        "Qpast = Qpast.transpose()\n",
        "plt.plot(x_array, Qpast[0].ravel(), label='Q:choice0')\n",
        "plt.plot(x_array, Qpast[1].ravel(), label='Q:choice1')\n",
        "\n",
        "plt.legend()\n",
        "plt.show()\n",
        "# あっという間に収束する\n",
        "\n",
        "\n",
        "plt.plot(x_array, choice_array, label='Choice')\n",
        "plt.show()"
      ],
      "execution_count": 36,
      "outputs": [
        {
          "output_type": "display_data",
          "data": {
            "image/png": "[encoded data removed]",
            "text/plain": [
              "<Figure size 432x288 with 1 Axes>"
            ]
          },
          "metadata": {
            "tags": []
          }
        },
        {
          "output_type": "display_data",
          "data": {
            "image/png": "[encoded data removed]",
            "text/plain": [
              "<Figure size 432x288 with 1 Axes>"
            ]
          },
          "metadata": {
            "tags": []
          }
        }
      ]
    },
    {
      "cell_type": "markdown",
      "metadata": {
        "id": "OjqL9fDOfi2m",
        "colab_type": "text"
      },
      "source": [
        "こいつの学習率と割引率のパラメータを、最尤推定で推定してみる"
      ]
    },
    {
      "cell_type": "code",
      "metadata": {
        "id": "fxgNnymAfiPz",
        "colab_type": "code",
        "colab": {
          "base_uri": "https://localhost:8080/",
          "height": 34
        },
        "outputId": "3ecd4b61-3388-4e15-b418-f62ea7866837"
      },
      "source": [
        "t_array = x_array\n",
        "Q0array = Qpast[0].ravel()\n",
        "Q1array = Qpast[1].ravel()\n",
        "print(rewards)\n",
        "#求める式 Q[t+1] = Q[t] + learning_rate α * (current_rewards + discount_factor β * max(rewards) - Q[t])\n",
        "# この式のαとβを，それぞれQ0arrayとQ1arrayから求める\n",
        "\n",
        "# https://mathtrain.jp/mle"
      ],
      "execution_count": 37,
      "outputs": [
        {
          "output_type": "stream",
          "text": [
            "[1.  1.2]\n"
          ],
          "name": "stdout"
        }
      ]
    },
    {
      "cell_type": "markdown",
      "metadata": {
        "id": "HjpLIXIPMrBd",
        "colab_type": "text"
      },
      "source": [
        "Q学習の対数尤度は，\n",
        "$\\sum_{t=1}^{T} log P(a_{t}) $\n",
        "で表される．\n",
        "\n",
        "この時，$P(a_{t})$は，各試行の実際の選択$a_t$の選択確率であり，Softmax関数を使う場合はSoftmax関数そのままの値となる．\n",
        "Softmax関数は，確率を出してくれるので合計1である．素晴らしい！\n",
        "\n",
        "Rouletteの場合は，合計1にするように計算したrouletteの数値を記録しておく．\n",
        "\n",
        "E-Greedyは0~1で発生させた乱数が$\\epsilon$以下の時，選択肢がランダムに選ばれるので，\n",
        "Q値が小さい方の選択肢が$\\epsilon \\times 0.5$,\n",
        "Q値が大きい方の選択肢が$1-\\epsilon\\times 0.5$ となる（はず)\n",
        "\n",
        "対数尤度を最大化するのが最尤推定なので，対数尤度の式でそのままいける\n"
      ]
    },
    {
      "cell_type": "code",
      "metadata": {
        "id": "pPKPB06jlkZf",
        "colab_type": "code",
        "colab": {
          "base_uri": "https://localhost:8080/",
          "height": 51
        },
        "outputId": "ab429824-5b7c-474f-bc0a-005f4d1aa202"
      },
      "source": [
        "# まず普通に上記のαとβを与えたものの系列から，対数尤度を求めてみる\n",
        "# Softmax関数を行動選択に使った時の対数尤度関数は，Softmax関数そのままなので，\n",
        "def log_likelifood_softmax(q_array):\n",
        "  log_sum = 0.0\n",
        "  for t in range(num_of_trial):\n",
        "    log_sum += math.log(q_array[t])\n",
        "  return log_sum\n",
        "\n",
        "choice0_array = Qp.transpose()[0]\n",
        "choice1_array = Qp.transpose()[1]\n",
        "\n",
        "print(log_likelifood_softmax(choice0_array))\n",
        "print(log_likelifood_softmax(choice1_array))"
      ],
      "execution_count": 39,
      "outputs": [
        {
          "output_type": "stream",
          "text": [
            "-71.25769187245366\n",
            "-77.06924810882644\n"
          ],
          "name": "stdout"
        }
      ]
    },
    {
      "cell_type": "code",
      "metadata": {
        "id": "9gmH-veMii32",
        "colab_type": "code",
        "outputId": "7fd827c0-6a75-4251-8b7b-b2b734fb760b",
        "colab": {
          "base_uri": "https://localhost:8080/",
          "height": 281
        }
      },
      "source": [
        "# http://palloc.hateblo.jp/entry/2016/01/17/231245\n",
        "# を参照\n",
        "\n",
        "import numpy as np\n",
        "import matplotlib.pyplot as plt\n",
        "import pandas as pd\n",
        "from pandas import Series, DataFrame\n",
        "from numpy.random import normal\n",
        "\n",
        "N=0 #学習用のデータ数\n",
        "M=[0,0,0,0] #多項式の次数\n",
        "\n",
        "#元の多項式\n",
        "def h(t):\n",
        "    y = 10 * (x - 0.5) ** 2\n",
        "    return y\n",
        "\n",
        "#データセットを作成\n",
        "def create_data(num):\n",
        "    dataset = DataFrame(columns=['x', 'y'])\n",
        "    for i in range(num):\n",
        "        x = float(i) / float(num-1) #0~1の間をデータ数で区切る\n",
        "        y = h(x) + normal(scale=0.7) #正規分布の標準偏差0.7の乱数に従った雑音を付加\n",
        "        dataset = dataset.append(Series([x,y], index=['x', 'y']), ignore_index=True)\n",
        "    return dataset\n",
        "\n",
        "#最尤推定でパラメータを出す\n",
        "def M_l_estimation(dataset, m):\n",
        "    t = dataset.y\n",
        "    phi = DataFrame()\n",
        "    #Φ行列を作成\n",
        "    for i in range(0, m+1):\n",
        "        p = dataset.x ** i\n",
        "        p.name = \"x ** %d\" % i\n",
        "        phi = pd.concat([phi, p], axis = 1)\n",
        "    ws = np.dot(np.dot(np.linalg.inv(np.dot(phi.T, phi)), phi.T), t) #w=(Φ^T*Φ)^(−1)*Φ^T*tを計算\n",
        "\n",
        "    #仮に置く多項式\n",
        "    def f(x):\n",
        "        y = 0.0\n",
        "        for i, w in enumerate(ws):\n",
        "            y += w * (x ** i)\n",
        "        return y\n",
        "\n",
        "    #s=平方平均二乗誤差(すなわち標準偏差σ)\n",
        "    s = 0.0\n",
        "    for index, line in dataset.iterrows():\n",
        "        s += (f(line.x) - line.y) ** 2\n",
        "    s /= len(dataset)\n",
        "\n",
        "    return(f, ws, np.sqrt(s))\n",
        "\n",
        "def main():\n",
        "    # N = int(raw_input(\"学習用データの個数N:\"))\n",
        "    N = 10\n",
        "    #M = [int(i) for i in (raw_input(\"多項式の次数M(スペース区切りで４つ入力):\")).split(\" \")]\n",
        "    M = [1, 3, 5, 9]\n",
        "    training_set = create_data(N)\n",
        "    df_ws = DataFrame()\n",
        "    #グラフの作成\n",
        "    fig = plt.figure()\n",
        "    for c, m in enumerate(M):\n",
        "        f, ws, s = M_l_estimation(training_set, m)\n",
        "        df_ws = df_ws.append(Series(ws, name=\"M=%d\" % m))\n",
        "\n",
        "                \n",
        "        #subplotで複数のグラフを表示\n",
        "        subplot = fig.add_subplot(2, 2, c+1)\n",
        "        subplot.set_xlim(-0.1, 1.1)\n",
        "        subplot.set_ylim(-7, 7)\n",
        "        subplot.set_title(\"M:%d\" % m)\n",
        "        \n",
        "        #元のグラフy=(x-0.5)^2を緑で表示の破線で表示\n",
        "        line_x = np.linspace(0, 1, 101)\n",
        "        line_y = h(line_x)\n",
        "        subplot.plot(line_x, line_y, color = \"green\", linestyle = \"--\")\n",
        "\n",
        "        #データの点を青いバツ印で表示\n",
        "        subplot.scatter(training_set.x, training_set.y, marker = \"x\", color = \"blue\")\n",
        "\n",
        "        #最尤推定で得られた多項式のグラフを表示\n",
        "        line_x = np.linspace(0, 1, 101)\n",
        "        line_y = f(line_x)\n",
        "        label = \"simga=%.2f\" % s\n",
        "        subplot.plot(line_x, line_y, color = \"red\", label = label)\n",
        "        #誤差範囲の表示\n",
        "        subplot.plot(line_x, line_y + s, color = \"red\", linestyle = \"--\")\n",
        "        subplot.plot(line_x, line_y - s, color = \"red\", linestyle = \"--\")\n",
        "        subplot.legend(loc = 1)\n",
        "\n",
        "    fig.show()\n",
        "    #raw_input(\"enter.\")\n",
        "\n",
        "if __name__ == '__main__':\n",
        "    main()"
      ],
      "execution_count": 1,
      "outputs": [
        {
          "output_type": "display_data",
          "data": {
            "image/png": "[encoded data removed]",
            "text/plain": [
              "<Figure size 432x288 with 4 Axes>"
            ]
          },
          "metadata": {
            "tags": []
          }
        }
      ]
    },
    {
      "cell_type": "markdown",
      "metadata": {
        "id": "XQLA8Ty3Rikt",
        "colab_type": "text"
      },
      "source": [
        "状態が複数あり，かつ報酬が状態によって変わるので，Q-tableを使う場合"
      ]
    },
    {
      "cell_type": "code",
      "metadata": {
        "id": "p3VB-pzzRkqZ",
        "colab_type": "code",
        "outputId": "02fbea6b-ff06-4a1e-96a1-4ab07b7e7209",
        "colab": {
          "base_uri": "https://localhost:8080/",
          "height": 401
        }
      },
      "source": [
        "import numpy as np\n",
        "import random\n",
        "\n",
        "num_of_state = 4 #状態数\n",
        "num_of_choice = 3 #選択肢数\n",
        "num_of_trials = 50 # 試行回数\n",
        "\n",
        "# 現在のQ値を保持するQ-table．状態数4，選択肢数3(0~3), 初期値を0.1で入れておく\n",
        "# 最初の選択をするために，最初のQ値が必要となるから\n",
        "Q = np.full((num_of_state, num_of_choice), 0.1, dtype=np.float)\n",
        "\n",
        "# グラフの描画のために過去のQ値の変遷を100試行分格納する配列\n",
        "# 状態数*選択肢数分保持する\n",
        "Qpast = np.zeros((num_of_trials, num_of_state, num_of_choice), dtype=np.float)\n",
        "\n",
        "# この計算では，報酬は，状態数*選択肢数の配列で，固定しておく\n",
        "# つまり，選択した行動の報酬は現在の状態によって変わるが，探索中に動いたりはしない\n",
        "# 1~1.5のランダムな値を入れておく\n",
        "rewards = np.zeros((num_of_state, num_of_choice), dtype=np.float)\n",
        "for i in range(num_of_state):\n",
        "  for j in range(num_of_choice):\n",
        "    rewards[i][j] = random.random() * 0.5 + 1.0\n",
        "print(rewards)\n",
        "\n",
        "# 学習率アルファ\n",
        "learning_rate = 0.8\n",
        "\n",
        "# 減衰割引率ガンマ\n",
        "decay_discount_factor = 0.8\n",
        "\n",
        "# 初期状態は，状態0とする\n",
        "current_status = 0\n",
        "# 100試行分の状態を記録する配列を作っておく\n",
        "status_past = np.zeros((num_of_trials), dtype=np.int)\n",
        "status_past[0] = current_status\n",
        "\n",
        "# 選択アルゴリズム\n",
        "# E-Greeddy, Roulette or Softmax\n",
        "# ε-グリーディの，通常選択のアルゴリズム， Roulette or Softmax\n",
        "choice_algorithm = 'Softmax'\n",
        "# Softmaxの逆温度 1.0以上の値が入る．逆温度が大きいとSoftmaxがスレッショルドに近くなる\n",
        "inverse_temperature = 1.0\n",
        "\n",
        "# 状態遷移テーブルを作る\n",
        "# この状態の時，この選択肢が選択されたら，次の状態が決まるというやつ\n",
        "# これは確率にしても良いし，現在の状態とか状態の蓄積から決定木を書いても良い\n",
        "# とりあえず確率にしておく\n",
        "# 確率なので，1つの状態から1つの選択肢で移動する状態の確率は1.0である必要がある．\n",
        "# 状態は再帰の場合もあることとする\n",
        "status_transition_ratio = np.zeros((num_of_state, num_of_choice, num_of_state), dtype=np.float)\n",
        "\n",
        "# 一つの状態で一つの選択肢からの状態遷移の総和が1.0になるように，ランダムに値を入れる\n",
        "for i in range(num_of_state):\n",
        "  for j in range(num_of_choice):\n",
        "    s_array = np.zeros((num_of_state), dtype=np.float)\n",
        "    for k in range(num_of_state):\n",
        "      s_array[k] = random.random()\n",
        "    for k in range(num_of_state):\n",
        "      status_transition_ratio[i][j][k] = 1.0 / np.sum(s_array) * s_array[k]\n",
        "\n",
        "# 状態遷移確率テーブルの出力\n",
        "#for i in range(num_of_state):\n",
        "#  print(status_transition_ratio[i])\n",
        "\n",
        "# 終端状態が存在する場合は，初期状態に戻ることを確率として書いておけば良い\n",
        "\n",
        "for t in range(0, num_of_trials, 1):\n",
        "  # 現在の試行回数がtに入る\n",
        "  \n",
        "  if choice_algorithm == 'E-Greedy':\n",
        "    # ε-グリーディ法で行動を選択する\n",
        "\n",
        "    # ある適当な定数を用意（ε = 0.3）\n",
        "    # 行動選択の際、0~1の間の乱数を生成し、その値がε以下であればランダムに行動を選択する\n",
        "    # εより大きければQ値の大きい行動を選択する(ルーレット選択かSoftmax)ようにする\n",
        "    epsilon = 0.3\n",
        "    if random.random() < epsilon:\n",
        "      current_choice = random.randint(0, num_of_choice-1)\n",
        "      # randint(a, b)は a <= x <= bであることに注意\n",
        "    else:\n",
        "      # 0~1乱数がEpsilonより大きい時は，現在の一番Q値が大きい選択肢を選ぶ\n",
        "      current_choice = np.argmax(Q[current_status])\n",
        "\n",
        "  elif choice_algorithm == 'Roulette':\n",
        "    # ルーレットで行動を選択する\n",
        "    # 現在の状態におけるQ値の各選択肢のルーレットを作成\n",
        "    sumQ = np.sum(Q[current_status])\n",
        "    roulette_number = random.random() * sumQ\n",
        "\n",
        "    # 選択肢の決定\n",
        "    current_choice = num_of_choice -1\n",
        "    sum_p = 0.0\n",
        "    for i in range(num_of_choice -1):\n",
        "      sum_p += Q[current_status][i]\n",
        "      if roulette_number < sum_p:\n",
        "        current_choice = i\n",
        "        break\n",
        "  else:\n",
        "    # Softmaxで行動を選択する\n",
        "    p_choice_sm = np.zeros((num_of_choice), dtype=np.float)\n",
        "    deno = 0.0\n",
        "    for i in range(num_of_choice):\n",
        "      # Softmaxの分母部分の計算\n",
        "      deno += math.exp(inverse_temperature * Q[current_status][i])\n",
        "    for i in range(num_of_choice): # 現在の状態において3つの選択を取る確率をそれぞれ計算\n",
        "      p_choice_sm[i] = math.exp(inverse_temperature * Q[current_status][i]) / deno\n",
        "    # 乱数を振ってどの選択か決める\n",
        "    softmax_num = random.random()\n",
        "    current_choice = num_of_choice - 1\n",
        "    sum_p = 0.0\n",
        "    for i in range(num_of_choice-1):\n",
        "      sum_p += p_choice_sm[i]\n",
        "      if softmax_num < sum_p:\n",
        "        current_choice = i\n",
        "        break\n",
        "\n",
        "  # 選択肢による報酬の決定\n",
        "  current_rewards = rewards[current_status][current_choice]\n",
        "  # 次の状態を状態遷移確率テーブルから選ぶ\n",
        "\n",
        "  transition_ratio_in_current_status = status_transition_ratio[current_status][current_choice]\n",
        "  sum_transition_ratio = np.sum(transition_ratio_in_current_status)\n",
        "  roulette_number = random.random() * sum_transition_ratio\n",
        "  sum_p = 0.0\n",
        "  next_status = num_of_state - 1\n",
        "  for i in range(num_of_state-1):\n",
        "    sum_p += transition_ratio_in_current_status[i]\n",
        "    if roulette_number < sum_p:\n",
        "      next_status = i\n",
        "      break\n",
        "\n",
        "  # 次の状態での報酬の最大値を決定する\n",
        "  max_next_step_rewards = np.max(rewards[next_status])\n",
        "  nextQ = Q[current_status][current_choice] + learning_rate * (current_rewards + decay_discount_factor * max_next_step_rewards - Q[current_status][current_choice])\n",
        "\n",
        "  # Q-tableを更新\n",
        "  Q[current_status][current_choice] = nextQ\n",
        "\n",
        "  # Q値の変遷を記録\n",
        "  for i in range(num_of_state):\n",
        "    for j in range(num_of_choice):\n",
        "      Qpast[t][i][j] = Q[i][j]\n",
        "  \n",
        "  # 現在の状態を置き換え\n",
        "  current_status = next_status\n",
        "\n",
        "#最終的なQ-tablewを出力\n",
        "print(Q)\n",
        "\n",
        "import matplotlib.pyplot as plt\n",
        "x_array = np.array([range(0, num_of_trials, 1)]).ravel()\n",
        "\n",
        "for i in range(num_of_state):\n",
        "  for j in range(num_of_choice):\n",
        "    # y軸の配列，つまり，その状態とその選択肢のQ値の変遷を取り出す\n",
        "    Qpast_in_one_array = np.zeros((num_of_trials), dtype=np.float)\n",
        "    for t in range(num_of_trials):\n",
        "      Qpast_in_one_array[t] = Qpast[t][i][j]\n",
        "    # 表示用ラベルを作る\n",
        "    display_label = 'Q:' + 'status' + str(i) + ',choice' + str(j)\n",
        "    plt.plot(x_array, Qpast_in_one_array, label=display_label)\n",
        "\n",
        "# plt.legend()\n",
        "plt.show()"
      ],
      "execution_count": 12,
      "outputs": [
        {
          "output_type": "stream",
          "text": [
            "[[1.13394025 1.36613644 1.02506122]\n",
            " [1.41145615 1.43326173 1.22024845]\n",
            " [1.09589599 1.20368855 1.41071561]\n",
            " [1.10477714 1.14051966 1.37240686]]\n",
            "[[2.27359767 2.45546375 0.1       ]\n",
            " [2.55650707 2.56541474 1.87052608]\n",
            " [0.1        1.90023835 2.55456834]\n",
            " [1.7821621  0.1        2.50929399]]\n"
          ],
          "name": "stdout"
        },
        {
          "output_type": "display_data",
          "data": {
            "image/png": "[encoded data removed]",
            "text/plain": [
              "<Figure size 432x288 with 1 Axes>"
            ]
          },
          "metadata": {
            "tags": []
          }
        }
      ]
    }
  ]
}