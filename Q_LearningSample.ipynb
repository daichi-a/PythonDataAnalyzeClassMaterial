{
  "nbformat": 4,
  "nbformat_minor": 0,
  "metadata": {
    "colab": {
      "name": "Q_LearningSample.ipynb",
      "provenance": [],
      "collapsed_sections": []
    },
    "kernelspec": {
      "name": "python3",
      "display_name": "Python 3"
    }
  },
  "cells": [
    {
      "cell_type": "markdown",
      "metadata": {
        "id": "n6j-ayfTC8RA",
        "colab_type": "text"
      },
      "source": [
        "状態が常に同じで報酬が変化しない場合（状態が1つしかない）場合は，Qテーブルを使わなくてもいける"
      ]
    },
    {
      "cell_type": "code",
      "metadata": {
        "id": "qnoXMFtH0ryi",
        "colab_type": "code",
        "outputId": "b19348cb-ddde-4955-c40f-56b72bd342cb",
        "colab": {
          "base_uri": "https://localhost:8080/",
          "height": 513
        }
      },
      "source": [
        "import numpy as np\n",
        "import random\n",
        "import math\n",
        "\n",
        "num_of_trial = 100\n",
        "num_of_choice = 2\n",
        "\n",
        "# 現在のQ値を保持する．状態は常に同じ選択肢は常に同じものが2\n",
        "Q = np.zeros((num_of_choice), dtype=np.float)\n",
        "\n",
        "# 最尤推定のために選択肢を記録する\n",
        "choice_array = np.zeros((num_of_trial), dtype=np.int)\n",
        "\n",
        "# グラフの描画のために過去のQ値の変遷を100試行分格納する配列\n",
        "Qpast = np.zeros((num_of_trial, num_of_choice), dtype=np.float)\n",
        "\n",
        "#Qの初期値．両方とも同じに設定する\n",
        "Q[0] = 0.1\n",
        "Q[1] = 0.1\n",
        "\n",
        "Qpast[0][0] = Q[0]\n",
        "Qpast[0][1] = Q[1]\n",
        "\n",
        "# その時点での選択確率を記録する配列\n",
        "p_choice_array = np.zeros((num_of_trial, num_of_choice), dtype=np.float)\n",
        "\n",
        "# 報酬は，選択肢0の時は常に1.0, 選択肢1の時は常に1.2\n",
        "rewards = np.array([1.0, 1.2], dtype=np.float)\n",
        "\n",
        "# 学習率アルファ\n",
        "learning_rate = 0.3\n",
        "\n",
        "# 減衰割引率ガンマ\n",
        "decay_discount_factor = 2.0\n",
        "\n",
        "# 選択方法\n",
        "choice_algorithm = 'Softmax'\n",
        "\n",
        "# Softmaxの逆温度\n",
        "inverse_temperature = 1.0\n",
        "\n",
        "for t in range(0, num_of_trial, 1):\n",
        "  # 現在の試行回数がtに入る\n",
        "  if choice_algorithm == 'Roulette':\n",
        "    # ルーレット方式で選択肢を決定する　（一般的にはε-グリーディ法を使うので，ちょっと違うが，わかりやすくするため）\n",
        "    # 現在のQ値のルーレットを作成\n",
        "    sumQ = np.sum(Q)\n",
        "    roulette_number = random.random() * sumQ\n",
        "    if roulette_number < Q[0]:\n",
        "      current_choice = 0\n",
        "    else:\n",
        "      current_choice = 1\n",
        "  else:\n",
        "    # Softmaxで行動を選択する\n",
        "    p_choice_sm = np.zeros((num_of_choice), dtype=np.float)\n",
        "    deno = 0.0\n",
        "    for i in range(num_of_choice):\n",
        "      # Softmaxの分母部分の計算\n",
        "      deno += math.exp(inverse_temperature * Q[i])\n",
        "    for i in range(num_of_choice): # 現在の状態において2つの選択を取る確率をそれぞれ計算\n",
        "      p_choice_array[t][i] = p_choice_sm[i] = math.exp(inverse_temperature * Q[i]) / deno\n",
        "\n",
        "\n",
        "    # 乱数を振ってどの選択か決める\n",
        "    softmax_num = random.random()\n",
        "    current_choice = num_of_choice - 1\n",
        "    sum_p = 0.0\n",
        "    for i in range(num_of_choice-1):\n",
        "      sum_p += p_choice_sm[i]\n",
        "      if softmax_num < sum_p:\n",
        "        current_choice = i\n",
        "        break\n",
        "\n",
        "    if current_choice == 0:\n",
        "      # 選択肢0が選ばれた\n",
        "      current_rewards = rewards[0]\n",
        "      # この計算では状態によって報酬は変わらないとしているので，次の状態の報酬の最大値は常に選択肢1の報酬になる\n",
        "      nextQ0 = Q[0] + learning_rate * (current_rewards + decay_discount_factor * rewards[1] - Q[0])\n",
        "      # 選択肢0のQ値を更新\n",
        "      Qpast[t][0] = Q[0] = nextQ0\n",
        "      # 選択肢1のQ値は変わらない\n",
        "      Qpast[t][1] = Q[1]\n",
        "\n",
        "    else:\n",
        "      # 選択肢1が選ばれた\n",
        "      current_rewards = rewards[1]\n",
        "      # この計算では状態によって報酬は変わらないとしているので，次の状態の報酬の最大値は常に選択肢1の報酬になる\n",
        "      nextQ1 = Q[1] + learning_rate * (current_rewards + decay_discount_factor * rewards[1] - Q[1])\n",
        "      # 選択肢1のQ値を更新\n",
        "      Qpast[t][1] = Q[1] = nextQ1\n",
        "      # 選択肢0のQ値は変わらない\n",
        "      Qpast[t][0] = Q[0]\n",
        "\n",
        "  choice_array[t] = current_choice\n",
        "\n",
        "import matplotlib.pyplot as plt\n",
        "x_array = np.array([range(0, num_of_trial, 1)]).ravel()\n",
        "# 描画のために選択肢0と1の系列を引っ張り出すため，transposeで次元をひっくり返す\n",
        "Qpast = Qpast.transpose()\n",
        "plt.plot(x_array, Qpast[0].ravel(), label='Q:choice0')\n",
        "plt.plot(x_array, Qpast[1].ravel(), label='Q:choice1')\n",
        "\n",
        "plt.legend()\n",
        "plt.show()\n",
        "# あっという間に収束する\n",
        "\n",
        "\n",
        "plt.plot(x_array, choice_array, label='Choice')\n",
        "plt.show()"
      ],
      "execution_count": 107,
      "outputs": [
        {
          "output_type": "display_data",
          "data": {
            "image/png": "[encoded data removed]",
            "text/plain": [
              "<Figure size 432x288 with 1 Axes>"
            ]
          },
          "metadata": {
            "tags": []
          }
        },
        {
          "output_type": "display_data",
          "data": {
            "image/png": "[encoded data removed]",
            "text/plain": [
              "<Figure size 432x288 with 1 Axes>"
            ]
          },
          "metadata": {
            "tags": []
          }
        }
      ]
    },
    {
      "cell_type": "markdown",
      "metadata": {
        "id": "OjqL9fDOfi2m",
        "colab_type": "text"
      },
      "source": [
        "こいつの学習率と割引率のパラメータを、最尤推定で推定してみる"
      ]
    },
    {
      "cell_type": "markdown",
      "metadata": {
        "id": "HjpLIXIPMrBd",
        "colab_type": "text"
      },
      "source": [
        "Q学習の対数尤度は，\n",
        "$\\sum_{t=1}^{T} log P(a_{t}) $\n",
        "で表される．\n",
        "\n",
        "この時，$P(a_{t})$は，各試行の実際の選択$a_t$の選択確率であり，Softmax関数を使う場合はSoftmax関数そのままの値となる．\n",
        "Softmax関数は，確率を出してくれるので合計1である．素晴らしい！\n",
        "\n",
        "Rouletteの場合は，合計1にするように計算したrouletteの数値を記録しておく．\n",
        "\n",
        "E-Greedyは0~1で発生させた乱数が$\\epsilon$以下の時，選択肢がランダムに選ばれるので，\n",
        "Q値が小さい方の選択肢が$\\epsilon \\times 0.5$,\n",
        "Q値が大きい方の選択肢が$1-\\epsilon\\times 0.5$ となる（はず)\n",
        "\n",
        "負の対数尤度を最小化するのが最尤推定なので，対数尤度の合計*-1でそのままいけるはず\n"
      ]
    },
    {
      "cell_type": "code",
      "metadata": {
        "id": "pPKPB06jlkZf",
        "colab_type": "code",
        "outputId": "e0bf6e15-d231-4958-dc7e-c33f77952ef9",
        "colab": {
          "base_uri": "https://localhost:8080/",
          "height": 282
        }
      },
      "source": [
        "# まず普通にαとβを変数化したモデルで，Softmax関数を選択に使い，対数尤度を求めてみる\n",
        "# Softmax関数を行動選択に使った時の対数尤度関数は，Softmax関数そのままなので，記録したQの選択行動\n",
        "\n",
        "# まず関数化\n",
        "def func_qlearning(param, choice, rewards):\n",
        "\n",
        "  log_sum = 0.0 # 対数尤度を格納する\n",
        "  alpha = param[0] #求めるパラメータ\n",
        "  beta = param[1]\n",
        "\n",
        "  # choiceは選択肢0か選択肢1かのどちらかが格納されている\n",
        "\n",
        "  # Q値の初期化\n",
        "  Q = np.zeros((len(choice), 2), dtype=np.float)\n",
        "  # 一番最初だけ入れておく\n",
        "  Q[0][0] = Q[0][1] = 0.01\n",
        "\n",
        "  # 選択確率を格納する配列\n",
        "  # ここでは選択肢は2つなので，選択肢０の場合の確率のみを記録すれば，もう片方は算出できることになる\n",
        "  p_choice = np.zeros((len(choice)), dtype=np.float)\n",
        "\n",
        "  # 試行回数ぶん回す\n",
        "  for t in range(len(choice)):\n",
        "    #deno = 0.0\n",
        "    #for i in range(num_of_choice):\n",
        "    #  # Softmaxの分母部分の計算\n",
        "    #  deno += math.exp(inverse_temperature * Q[i])\n",
        "    #for i in range(num_of_choice): # 現在の状態において2つの選択を取る確率をそれぞれ計算\n",
        "    #  p_choice_array[t][i] = p_choice_sm[i] = math.exp(inverse_temperature * Q[i]) / deno\n",
        "\n",
        "    # Softmax関数は，あらかじめ計算しておくと，以下の１行でまとまるらしい\n",
        "    # （分子と分母を同じ数で割っておくのか）\n",
        "    p_choice[t] = 1.0 / (1.0 + math.exp( -1 * beta *(Q[t][0] - Q[t][1])))\n",
        "\n",
        "    # 試行tの対数尤度は\n",
        "    # 実際の選択が，選択肢0であれば log(p_choice[t]), \n",
        "    # 選択肢１であればlog(1 - p_choice[t]) となる\n",
        "    # この対数尤度を合計していく\n",
        "    log_sum += math.log(p_choice[t]) if choice[t] == 0 else math.log(1 - p_choice[t])\n",
        "\n",
        "    # ラスト試行でなければQ値を更新\n",
        "    if t != (len(choice)-1):\n",
        "      Q[t+1][choice[t]] = Q[t][choice[t]] + alpha * (rewards[choice[t]] - Q[t][choice[t]])\n",
        "      # 選択されたかった方のQ値はそのまま継続\n",
        "      Q[t+1][1-choice[t]] = Q[t][1-choice[t]]\n",
        "    negative_log_sum = -1 * log_sum\n",
        "  return negative_log_sum, Q, p_choice\n",
        "\n",
        "# plotして同じになるか確認する\n",
        "negative_log_sum, Q, p_choice = func_qlearning((0.3, 2.0), choice_array, (1.0, 1.2))\n",
        "print('負の対数尤度', negative_log_sum)\n",
        "Q0array = Q.transpose()[0]\n",
        "Q1array = Q.transpose()[1]\n",
        "plt.plot(x_array, Q0array, label='Q:Choice0')\n",
        "plt.plot(x_array, Q1array, label='Q:Choice1')\n",
        "plt.show()\n"
      ],
      "execution_count": 116,
      "outputs": [
        {
          "output_type": "stream",
          "text": [
            "負の対数尤度 71.97359902281211\n"
          ],
          "name": "stdout"
        },
        {
          "output_type": "display_data",
          "data": {
            "image/png": "[encoded data removed]",
            "text/plain": [
              "<Figure size 432x288 with 1 Axes>"
            ]
          },
          "metadata": {
            "tags": []
          }
        }
      ]
    },
    {
      "cell_type": "code",
      "metadata": {
        "id": "_aplHtN_3Zz3",
        "colab_type": "code",
        "colab": {
          "base_uri": "https://localhost:8080/",
          "height": 282
        },
        "outputId": "ab650985-0207-4bff-b77e-d406995e790d"
      },
      "source": [
        "# とりあえずグリッドサーチで，αとβを求めてみる\n",
        "mesh_alpha = np.linspace(0.1, 2.0, 100)\n",
        "mesh_beta = np.linspace(0.1, 2.0, 100)\n",
        "mesh_result_negative_log_likelifood = np.zeros((100, 100), dtype=np.float)\n",
        "\n",
        "alpha_index = 0\n",
        "for alpha in mesh_alpha:\n",
        "  beta_index = 0\n",
        "  for beta in mesh_beta:\n",
        "    mesh_result_negative_log_likelifood[alpha_index][beta_index], Q, p_choice = func_qlearning((alpha, beta), choice_array, (1.0, 1.2))\n",
        "    beta_index += 1\n",
        "  alpha_index += 1\n",
        "\n",
        "# 一番負の対数尤度が低いのは\n",
        "result_indexes = np.unravel_index(np.argmin(mesh_result_negative_log_likelifood), mesh_result_log_likelifood.shape)\n",
        "\n",
        "# 同じになるか確認する\n",
        "result_negative_log_sum, Q, p_choice = func_qlearning((mesh_alpha[result_indexes[0]], mesh_beta[result_indexes[1]]), choice_array, (1.0, 1.2))\n",
        "print('負の対数尤度:', result_negative_log_sum, 'Alpha:', mesh_alpha[result_indexes[0]], 'Beta:', mesh_beta[result_indexes[1]])\n",
        "plt.plot(x_array, Q.transpose()[0], label='Q:Choice0')\n",
        "plt.plot(x_array, Q.transpose()[1], label='Q:Choice1')\n",
        "plt.show()"
      ],
      "execution_count": 117,
      "outputs": [
        {
          "output_type": "stream",
          "text": [
            "負の対数尤度: 69.34974138725978 Alpha: 0.17676767676767677 Beta: 0.1\n"
          ],
          "name": "stdout"
        },
        {
          "output_type": "display_data",
          "data": {
            "image/png": "[encoded data removed]",
            "text/plain": [
              "<Figure size 432x288 with 1 Axes>"
            ]
          },
          "metadata": {
            "tags": []
          }
        }
      ]
    },
    {
      "cell_type": "code",
      "metadata": {
        "id": "9gmH-veMii32",
        "colab_type": "code",
        "outputId": "3f753938-03f0-46cc-e5bf-b0ae13995cd2",
        "colab": {
          "base_uri": "https://localhost:8080/",
          "height": 464
        }
      },
      "source": [
        "# scipyのoptimizeを使った数値最適化\n",
        "# 最尤推定\n",
        "# https://github.com/kkatahira/cmbd-book/blob/master/chapter2/qlearning_simulation.R\n",
        "# http://palloc.hateblo.jp/entry/2016/01/17/231245\n",
        "# https://qiita.com/fukuit/items/c7ae3f71898399530dc1\n",
        "# を参照\n",
        "\n",
        "import numpy as np\n",
        "import matplotlib.pyplot as plt\n",
        "import pandas as pd\n",
        "from pandas import Series, DataFrame\n",
        "from scipy.optimize import fmin\n",
        "\n",
        "# 最小値だけを取り出すラッパ関数を作っておく\n",
        "def func_minimize(param, choice, rewards):\n",
        "  negative_log_sum, Q, p_choice = func_qlearning(param, choice, rewards)\n",
        "  return negative_log_sum\n",
        "\n",
        "arg=(choice_array, rewards)\n",
        "\n",
        "\n",
        "print(fmin(func_minimize, (1.0, 1.0), args=arg))\n",
        "\n",
        "# 初期値を一様乱数で適当に定めて10回分回す\n",
        "min_negative_log_sum = 1000000\n",
        "result_alpha = None\n",
        "result_beta = None\n",
        "for i in range(10):\n",
        "  # どうも最適化途中で，logでmath domain errorが起きるらしい．つまりlogに0が入る状況になる\n",
        "  # どうやって解決したものか\n",
        "  initial_alpha = np.random.random() * 1.0 + 1.0\n",
        "  initial_beta = np.random.random() * 1.0 + 1.0\n",
        "  result_array = fmin(func_minimize, (initial_alpha, initial_beta), args=arg, retall=True, full_output=True)\n",
        "  if result_array[1] < min_negative_log_sum:\n",
        "    # Full Outputのとき，結果配列の0番目が最適化されたパラメータ，1番目が最小化された戻り値である\n",
        "    min_negative_log_sum = result_array[1]\n",
        "    reulst_alpha = result_array[0][0]\n",
        "    result_beta = result_array[0][1]\n",
        "print('Alpha:', result_alpha, 'Beta:', result_beta, 'Negative_LL:', min_negative_log_sum)"
      ],
      "execution_count": 128,
      "outputs": [
        {
          "output_type": "stream",
          "text": [
            "Optimization terminated successfully.\n",
            "         Current function value: 68.349791\n",
            "         Iterations: 41\n",
            "         Function evaluations: 79\n",
            "[ 1.46165346 -1.02779416]\n"
          ],
          "name": "stdout"
        },
        {
          "output_type": "error",
          "ename": "ValueError",
          "evalue": "ignored",
          "traceback": [
            "\u001b[0;31m---------------------------------------------------------------------------\u001b[0m",
            "\u001b[0;31mValueError\u001b[0m                                Traceback (most recent call last)",
            "\u001b[0;32m<ipython-input-128-4990702a5ec9>\u001b[0m in \u001b[0;36m<module>\u001b[0;34m()\u001b[0m\n\u001b[1;32m     23\u001b[0m   \u001b[0minitial_alpha\u001b[0m \u001b[0;34m=\u001b[0m \u001b[0mnp\u001b[0m\u001b[0;34m.\u001b[0m\u001b[0mrandom\u001b[0m\u001b[0;34m.\u001b[0m\u001b[0mrandom\u001b[0m\u001b[0;34m(\u001b[0m\u001b[0;34m)\u001b[0m \u001b[0;34m*\u001b[0m \u001b[0;36m1.0\u001b[0m \u001b[0;34m+\u001b[0m \u001b[0;36m1.0\u001b[0m\u001b[0;34m\u001b[0m\u001b[0;34m\u001b[0m\u001b[0m\n\u001b[1;32m     24\u001b[0m   \u001b[0minitial_beta\u001b[0m \u001b[0;34m=\u001b[0m \u001b[0mnp\u001b[0m\u001b[0;34m.\u001b[0m\u001b[0mrandom\u001b[0m\u001b[0;34m.\u001b[0m\u001b[0mrandom\u001b[0m\u001b[0;34m(\u001b[0m\u001b[0;34m)\u001b[0m \u001b[0;34m*\u001b[0m \u001b[0;36m1.0\u001b[0m \u001b[0;34m+\u001b[0m \u001b[0;36m1.0\u001b[0m\u001b[0;34m\u001b[0m\u001b[0;34m\u001b[0m\u001b[0m\n\u001b[0;32m---> 25\u001b[0;31m   \u001b[0mresult_array\u001b[0m \u001b[0;34m=\u001b[0m \u001b[0mfmin\u001b[0m\u001b[0;34m(\u001b[0m\u001b[0mfunc_minimize\u001b[0m\u001b[0;34m,\u001b[0m \u001b[0;34m(\u001b[0m\u001b[0minitial_alpha\u001b[0m\u001b[0;34m,\u001b[0m \u001b[0minitial_beta\u001b[0m\u001b[0;34m)\u001b[0m\u001b[0;34m,\u001b[0m \u001b[0margs\u001b[0m\u001b[0;34m=\u001b[0m\u001b[0marg\u001b[0m\u001b[0;34m,\u001b[0m \u001b[0mretall\u001b[0m\u001b[0;34m=\u001b[0m\u001b[0;32mTrue\u001b[0m\u001b[0;34m,\u001b[0m \u001b[0mfull_output\u001b[0m\u001b[0;34m=\u001b[0m\u001b[0;32mTrue\u001b[0m\u001b[0;34m)\u001b[0m\u001b[0;34m\u001b[0m\u001b[0;34m\u001b[0m\u001b[0m\n\u001b[0m\u001b[1;32m     26\u001b[0m   \u001b[0;32mif\u001b[0m \u001b[0mresult_array\u001b[0m\u001b[0;34m[\u001b[0m\u001b[0;36m1\u001b[0m\u001b[0;34m]\u001b[0m \u001b[0;34m<\u001b[0m \u001b[0mmin_negative_log_sum\u001b[0m\u001b[0;34m:\u001b[0m\u001b[0;34m\u001b[0m\u001b[0;34m\u001b[0m\u001b[0m\n\u001b[1;32m     27\u001b[0m     \u001b[0;31m# Full Outputのとき，結果配列の0番目が最適化されたパラメータ，1番目が最小化された戻り値である\u001b[0m\u001b[0;34m\u001b[0m\u001b[0;34m\u001b[0m\u001b[0;34m\u001b[0m\u001b[0m\n",
            "\u001b[0;32m/usr/local/lib/python3.6/dist-packages/scipy/optimize/optimize.py\u001b[0m in \u001b[0;36mfmin\u001b[0;34m(func, x0, args, xtol, ftol, maxiter, maxfun, full_output, disp, retall, callback, initial_simplex)\u001b[0m\n\u001b[1;32m    441\u001b[0m             'initial_simplex': initial_simplex}\n\u001b[1;32m    442\u001b[0m \u001b[0;34m\u001b[0m\u001b[0m\n\u001b[0;32m--> 443\u001b[0;31m     \u001b[0mres\u001b[0m \u001b[0;34m=\u001b[0m \u001b[0m_minimize_neldermead\u001b[0m\u001b[0;34m(\u001b[0m\u001b[0mfunc\u001b[0m\u001b[0;34m,\u001b[0m \u001b[0mx0\u001b[0m\u001b[0;34m,\u001b[0m \u001b[0margs\u001b[0m\u001b[0;34m,\u001b[0m \u001b[0mcallback\u001b[0m\u001b[0;34m=\u001b[0m\u001b[0mcallback\u001b[0m\u001b[0;34m,\u001b[0m \u001b[0;34m**\u001b[0m\u001b[0mopts\u001b[0m\u001b[0;34m)\u001b[0m\u001b[0;34m\u001b[0m\u001b[0;34m\u001b[0m\u001b[0m\n\u001b[0m\u001b[1;32m    444\u001b[0m     \u001b[0;32mif\u001b[0m \u001b[0mfull_output\u001b[0m\u001b[0;34m:\u001b[0m\u001b[0;34m\u001b[0m\u001b[0;34m\u001b[0m\u001b[0m\n\u001b[1;32m    445\u001b[0m         \u001b[0mretlist\u001b[0m \u001b[0;34m=\u001b[0m \u001b[0mres\u001b[0m\u001b[0;34m[\u001b[0m\u001b[0;34m'x'\u001b[0m\u001b[0;34m]\u001b[0m\u001b[0;34m,\u001b[0m \u001b[0mres\u001b[0m\u001b[0;34m[\u001b[0m\u001b[0;34m'fun'\u001b[0m\u001b[0;34m]\u001b[0m\u001b[0;34m,\u001b[0m \u001b[0mres\u001b[0m\u001b[0;34m[\u001b[0m\u001b[0;34m'nit'\u001b[0m\u001b[0;34m]\u001b[0m\u001b[0;34m,\u001b[0m \u001b[0mres\u001b[0m\u001b[0;34m[\u001b[0m\u001b[0;34m'nfev'\u001b[0m\u001b[0;34m]\u001b[0m\u001b[0;34m,\u001b[0m \u001b[0mres\u001b[0m\u001b[0;34m[\u001b[0m\u001b[0;34m'status'\u001b[0m\u001b[0;34m]\u001b[0m\u001b[0;34m\u001b[0m\u001b[0;34m\u001b[0m\u001b[0m\n",
            "\u001b[0;32m/usr/local/lib/python3.6/dist-packages/scipy/optimize/optimize.py\u001b[0m in \u001b[0;36m_minimize_neldermead\u001b[0;34m(func, x0, args, callback, maxiter, maxfev, disp, return_all, initial_simplex, xatol, fatol, adaptive, **unknown_options)\u001b[0m\n\u001b[1;32m    584\u001b[0m \u001b[0;34m\u001b[0m\u001b[0m\n\u001b[1;32m    585\u001b[0m     \u001b[0;32mfor\u001b[0m \u001b[0mk\u001b[0m \u001b[0;32min\u001b[0m \u001b[0mrange\u001b[0m\u001b[0;34m(\u001b[0m\u001b[0mN\u001b[0m \u001b[0;34m+\u001b[0m \u001b[0;36m1\u001b[0m\u001b[0;34m)\u001b[0m\u001b[0;34m:\u001b[0m\u001b[0;34m\u001b[0m\u001b[0;34m\u001b[0m\u001b[0m\n\u001b[0;32m--> 586\u001b[0;31m         \u001b[0mfsim\u001b[0m\u001b[0;34m[\u001b[0m\u001b[0mk\u001b[0m\u001b[0;34m]\u001b[0m \u001b[0;34m=\u001b[0m \u001b[0mfunc\u001b[0m\u001b[0;34m(\u001b[0m\u001b[0msim\u001b[0m\u001b[0;34m[\u001b[0m\u001b[0mk\u001b[0m\u001b[0;34m]\u001b[0m\u001b[0;34m)\u001b[0m\u001b[0;34m\u001b[0m\u001b[0;34m\u001b[0m\u001b[0m\n\u001b[0m\u001b[1;32m    587\u001b[0m \u001b[0;34m\u001b[0m\u001b[0m\n\u001b[1;32m    588\u001b[0m     \u001b[0mind\u001b[0m \u001b[0;34m=\u001b[0m \u001b[0mnumpy\u001b[0m\u001b[0;34m.\u001b[0m\u001b[0margsort\u001b[0m\u001b[0;34m(\u001b[0m\u001b[0mfsim\u001b[0m\u001b[0;34m)\u001b[0m\u001b[0;34m\u001b[0m\u001b[0;34m\u001b[0m\u001b[0m\n",
            "\u001b[0;32m/usr/local/lib/python3.6/dist-packages/scipy/optimize/optimize.py\u001b[0m in \u001b[0;36mfunction_wrapper\u001b[0;34m(*wrapper_args)\u001b[0m\n\u001b[1;32m    325\u001b[0m     \u001b[0;32mdef\u001b[0m \u001b[0mfunction_wrapper\u001b[0m\u001b[0;34m(\u001b[0m\u001b[0;34m*\u001b[0m\u001b[0mwrapper_args\u001b[0m\u001b[0;34m)\u001b[0m\u001b[0;34m:\u001b[0m\u001b[0;34m\u001b[0m\u001b[0;34m\u001b[0m\u001b[0m\n\u001b[1;32m    326\u001b[0m         \u001b[0mncalls\u001b[0m\u001b[0;34m[\u001b[0m\u001b[0;36m0\u001b[0m\u001b[0;34m]\u001b[0m \u001b[0;34m+=\u001b[0m \u001b[0;36m1\u001b[0m\u001b[0;34m\u001b[0m\u001b[0;34m\u001b[0m\u001b[0m\n\u001b[0;32m--> 327\u001b[0;31m         \u001b[0;32mreturn\u001b[0m \u001b[0mfunction\u001b[0m\u001b[0;34m(\u001b[0m\u001b[0;34m*\u001b[0m\u001b[0;34m(\u001b[0m\u001b[0mwrapper_args\u001b[0m \u001b[0;34m+\u001b[0m \u001b[0margs\u001b[0m\u001b[0;34m)\u001b[0m\u001b[0;34m)\u001b[0m\u001b[0;34m\u001b[0m\u001b[0;34m\u001b[0m\u001b[0m\n\u001b[0m\u001b[1;32m    328\u001b[0m \u001b[0;34m\u001b[0m\u001b[0m\n\u001b[1;32m    329\u001b[0m     \u001b[0;32mreturn\u001b[0m \u001b[0mncalls\u001b[0m\u001b[0;34m,\u001b[0m \u001b[0mfunction_wrapper\u001b[0m\u001b[0;34m\u001b[0m\u001b[0;34m\u001b[0m\u001b[0m\n",
            "\u001b[0;32m<ipython-input-128-4990702a5ec9>\u001b[0m in \u001b[0;36mfunc_minimize\u001b[0;34m(param, choice, rewards)\u001b[0m\n\u001b[1;32m      8\u001b[0m \u001b[0;31m# 最小値だけを取り出すラッパ関数を作っておく\u001b[0m\u001b[0;34m\u001b[0m\u001b[0;34m\u001b[0m\u001b[0;34m\u001b[0m\u001b[0m\n\u001b[1;32m      9\u001b[0m \u001b[0;32mdef\u001b[0m \u001b[0mfunc_minimize\u001b[0m\u001b[0;34m(\u001b[0m\u001b[0mparam\u001b[0m\u001b[0;34m,\u001b[0m \u001b[0mchoice\u001b[0m\u001b[0;34m,\u001b[0m \u001b[0mrewards\u001b[0m\u001b[0;34m)\u001b[0m\u001b[0;34m:\u001b[0m\u001b[0;34m\u001b[0m\u001b[0;34m\u001b[0m\u001b[0m\n\u001b[0;32m---> 10\u001b[0;31m   \u001b[0mnegative_log_sum\u001b[0m\u001b[0;34m,\u001b[0m \u001b[0mQ\u001b[0m\u001b[0;34m,\u001b[0m \u001b[0mp_choice\u001b[0m \u001b[0;34m=\u001b[0m \u001b[0mfunc_qlearning\u001b[0m\u001b[0;34m(\u001b[0m\u001b[0mparam\u001b[0m\u001b[0;34m,\u001b[0m \u001b[0mchoice\u001b[0m\u001b[0;34m,\u001b[0m \u001b[0mrewards\u001b[0m\u001b[0;34m)\u001b[0m\u001b[0;34m\u001b[0m\u001b[0;34m\u001b[0m\u001b[0m\n\u001b[0m\u001b[1;32m     11\u001b[0m   \u001b[0;32mreturn\u001b[0m \u001b[0mnegative_log_sum\u001b[0m\u001b[0;34m\u001b[0m\u001b[0;34m\u001b[0m\u001b[0m\n\u001b[1;32m     12\u001b[0m \u001b[0;34m\u001b[0m\u001b[0m\n",
            "\u001b[0;32m<ipython-input-116-200d2b5ccd19>\u001b[0m in \u001b[0;36mfunc_qlearning\u001b[0;34m(param, choice, rewards)\u001b[0m\n\u001b[1;32m     33\u001b[0m     \u001b[0;31m# 選択肢１であればlog(1 - p_choice[t]) となる\u001b[0m\u001b[0;34m\u001b[0m\u001b[0;34m\u001b[0m\u001b[0;34m\u001b[0m\u001b[0m\n\u001b[1;32m     34\u001b[0m     \u001b[0;31m# この対数尤度を合計していく\u001b[0m\u001b[0;34m\u001b[0m\u001b[0;34m\u001b[0m\u001b[0;34m\u001b[0m\u001b[0m\n\u001b[0;32m---> 35\u001b[0;31m     \u001b[0mlog_sum\u001b[0m \u001b[0;34m+=\u001b[0m \u001b[0mmath\u001b[0m\u001b[0;34m.\u001b[0m\u001b[0mlog\u001b[0m\u001b[0;34m(\u001b[0m\u001b[0mp_choice\u001b[0m\u001b[0;34m[\u001b[0m\u001b[0mt\u001b[0m\u001b[0;34m]\u001b[0m\u001b[0;34m)\u001b[0m \u001b[0;32mif\u001b[0m \u001b[0mchoice\u001b[0m\u001b[0;34m[\u001b[0m\u001b[0mt\u001b[0m\u001b[0;34m]\u001b[0m \u001b[0;34m==\u001b[0m \u001b[0;36m0\u001b[0m \u001b[0;32melse\u001b[0m \u001b[0mmath\u001b[0m\u001b[0;34m.\u001b[0m\u001b[0mlog\u001b[0m\u001b[0;34m(\u001b[0m\u001b[0;36m1\u001b[0m \u001b[0;34m-\u001b[0m \u001b[0mp_choice\u001b[0m\u001b[0;34m[\u001b[0m\u001b[0mt\u001b[0m\u001b[0;34m]\u001b[0m\u001b[0;34m)\u001b[0m\u001b[0;34m\u001b[0m\u001b[0;34m\u001b[0m\u001b[0m\n\u001b[0m\u001b[1;32m     36\u001b[0m \u001b[0;34m\u001b[0m\u001b[0m\n\u001b[1;32m     37\u001b[0m     \u001b[0;31m# ラスト試行でなければQ値を更新\u001b[0m\u001b[0;34m\u001b[0m\u001b[0;34m\u001b[0m\u001b[0;34m\u001b[0m\u001b[0m\n",
            "\u001b[0;31mValueError\u001b[0m: math domain error"
          ]
        }
      ]
    },
    {
      "cell_type": "markdown",
      "metadata": {
        "id": "XQLA8Ty3Rikt",
        "colab_type": "text"
      },
      "source": [
        "状態が複数あり，かつ報酬が状態によって変わるので，Q-tableを使う場合"
      ]
    },
    {
      "cell_type": "code",
      "metadata": {
        "id": "p3VB-pzzRkqZ",
        "colab_type": "code",
        "outputId": "02fbea6b-ff06-4a1e-96a1-4ab07b7e7209",
        "colab": {
          "base_uri": "https://localhost:8080/",
          "height": 401
        }
      },
      "source": [
        "import numpy as np\n",
        "import random\n",
        "\n",
        "num_of_state = 4 #状態数\n",
        "num_of_choice = 3 #選択肢数\n",
        "num_of_trials = 50 # 試行回数\n",
        "\n",
        "# 現在のQ値を保持するQ-table．状態数4，選択肢数3(0~3), 初期値を0.1で入れておく\n",
        "# 最初の選択をするために，最初のQ値が必要となるから\n",
        "Q = np.full((num_of_state, num_of_choice), 0.1, dtype=np.float)\n",
        "\n",
        "# グラフの描画のために過去のQ値の変遷を100試行分格納する配列\n",
        "# 状態数*選択肢数分保持する\n",
        "Qpast = np.zeros((num_of_trials, num_of_state, num_of_choice), dtype=np.float)\n",
        "\n",
        "# この計算では，報酬は，状態数*選択肢数の配列で，固定しておく\n",
        "# つまり，選択した行動の報酬は現在の状態によって変わるが，探索中に動いたりはしない\n",
        "# 1~1.5のランダムな値を入れておく\n",
        "rewards = np.zeros((num_of_state, num_of_choice), dtype=np.float)\n",
        "for i in range(num_of_state):\n",
        "  for j in range(num_of_choice):\n",
        "    rewards[i][j] = random.random() * 0.5 + 1.0\n",
        "print(rewards)\n",
        "\n",
        "# 学習率アルファ\n",
        "learning_rate = 0.8\n",
        "\n",
        "# 減衰割引率ガンマ\n",
        "decay_discount_factor = 0.8\n",
        "\n",
        "# 初期状態は，状態0とする\n",
        "current_status = 0\n",
        "# 100試行分の状態を記録する配列を作っておく\n",
        "status_past = np.zeros((num_of_trials), dtype=np.int)\n",
        "status_past[0] = current_status\n",
        "\n",
        "# 選択アルゴリズム\n",
        "# E-Greeddy, Roulette or Softmax\n",
        "# ε-グリーディの，通常選択のアルゴリズム， Roulette or Softmax\n",
        "choice_algorithm = 'Softmax'\n",
        "# Softmaxの逆温度 1.0以上の値が入る．逆温度が大きいとSoftmaxがスレッショルドに近くなる\n",
        "inverse_temperature = 1.0\n",
        "\n",
        "# 状態遷移テーブルを作る\n",
        "# この状態の時，この選択肢が選択されたら，次の状態が決まるというやつ\n",
        "# これは確率にしても良いし，現在の状態とか状態の蓄積から決定木を書いても良い\n",
        "# とりあえず確率にしておく\n",
        "# 確率なので，1つの状態から1つの選択肢で移動する状態の確率は1.0である必要がある．\n",
        "# 状態は再帰の場合もあることとする\n",
        "status_transition_ratio = np.zeros((num_of_state, num_of_choice, num_of_state), dtype=np.float)\n",
        "\n",
        "# 一つの状態で一つの選択肢からの状態遷移の総和が1.0になるように，ランダムに値を入れる\n",
        "for i in range(num_of_state):\n",
        "  for j in range(num_of_choice):\n",
        "    s_array = np.zeros((num_of_state), dtype=np.float)\n",
        "    for k in range(num_of_state):\n",
        "      s_array[k] = random.random()\n",
        "    for k in range(num_of_state):\n",
        "      status_transition_ratio[i][j][k] = 1.0 / np.sum(s_array) * s_array[k]\n",
        "\n",
        "# 状態遷移確率テーブルの出力\n",
        "#for i in range(num_of_state):\n",
        "#  print(status_transition_ratio[i])\n",
        "\n",
        "# 終端状態が存在する場合は，初期状態に戻ることを確率として書いておけば良い\n",
        "\n",
        "for t in range(0, num_of_trials, 1):\n",
        "  # 現在の試行回数がtに入る\n",
        "  \n",
        "  if choice_algorithm == 'E-Greedy':\n",
        "    # ε-グリーディ法で行動を選択する\n",
        "\n",
        "    # ある適当な定数を用意（ε = 0.3）\n",
        "    # 行動選択の際、0~1の間の乱数を生成し、その値がε以下であればランダムに行動を選択する\n",
        "    # εより大きければQ値の大きい行動を選択する(ルーレット選択かSoftmax)ようにする\n",
        "    epsilon = 0.3\n",
        "    if random.random() < epsilon:\n",
        "      current_choice = random.randint(0, num_of_choice-1)\n",
        "      # randint(a, b)は a <= x <= bであることに注意\n",
        "    else:\n",
        "      # 0~1乱数がEpsilonより大きい時は，現在の一番Q値が大きい選択肢を選ぶ\n",
        "      current_choice = np.argmax(Q[current_status])\n",
        "\n",
        "  elif choice_algorithm == 'Roulette':\n",
        "    # ルーレットで行動を選択する\n",
        "    # 現在の状態におけるQ値の各選択肢のルーレットを作成\n",
        "    sumQ = np.sum(Q[current_status])\n",
        "    roulette_number = random.random() * sumQ\n",
        "\n",
        "    # 選択肢の決定\n",
        "    current_choice = num_of_choice -1\n",
        "    sum_p = 0.0\n",
        "    for i in range(num_of_choice -1):\n",
        "      sum_p += Q[current_status][i]\n",
        "      if roulette_number < sum_p:\n",
        "        current_choice = i\n",
        "        break\n",
        "  else:\n",
        "    # Softmaxで行動を選択する\n",
        "    p_choice_sm = np.zeros((num_of_choice), dtype=np.float)\n",
        "    deno = 0.0\n",
        "    for i in range(num_of_choice):\n",
        "      # Softmaxの分母部分の計算\n",
        "      deno += math.exp(inverse_temperature * Q[current_status][i])\n",
        "    for i in range(num_of_choice): # 現在の状態において3つの選択を取る確率をそれぞれ計算\n",
        "      p_choice_sm[i] = math.exp(inverse_temperature * Q[current_status][i]) / deno\n",
        "    # 乱数を振ってどの選択か決める\n",
        "    softmax_num = random.random()\n",
        "    current_choice = num_of_choice - 1\n",
        "    sum_p = 0.0\n",
        "    for i in range(num_of_choice-1):\n",
        "      sum_p += p_choice_sm[i]\n",
        "      if softmax_num < sum_p:\n",
        "        current_choice = i\n",
        "        break\n",
        "\n",
        "  # 選択肢による報酬の決定\n",
        "  current_rewards = rewards[current_status][current_choice]\n",
        "  # 次の状態を状態遷移確率テーブルから選ぶ\n",
        "\n",
        "  transition_ratio_in_current_status = status_transition_ratio[current_status][current_choice]\n",
        "  sum_transition_ratio = np.sum(transition_ratio_in_current_status)\n",
        "  roulette_number = random.random() * sum_transition_ratio\n",
        "  sum_p = 0.0\n",
        "  next_status = num_of_state - 1\n",
        "  for i in range(num_of_state-1):\n",
        "    sum_p += transition_ratio_in_current_status[i]\n",
        "    if roulette_number < sum_p:\n",
        "      next_status = i\n",
        "      break\n",
        "\n",
        "  # 次の状態での報酬の最大値を決定する\n",
        "  max_next_step_rewards = np.max(rewards[next_status])\n",
        "  nextQ = Q[current_status][current_choice] + learning_rate * (current_rewards + decay_discount_factor * max_next_step_rewards - Q[current_status][current_choice])\n",
        "\n",
        "  # Q-tableを更新\n",
        "  Q[current_status][current_choice] = nextQ\n",
        "\n",
        "  # Q値の変遷を記録\n",
        "  for i in range(num_of_state):\n",
        "    for j in range(num_of_choice):\n",
        "      Qpast[t][i][j] = Q[i][j]\n",
        "  \n",
        "  # 現在の状態を置き換え\n",
        "  current_status = next_status\n",
        "\n",
        "#最終的なQ-tablewを出力\n",
        "print(Q)\n",
        "\n",
        "import matplotlib.pyplot as plt\n",
        "x_array = np.array([range(0, num_of_trials, 1)]).ravel()\n",
        "\n",
        "for i in range(num_of_state):\n",
        "  for j in range(num_of_choice):\n",
        "    # y軸の配列，つまり，その状態とその選択肢のQ値の変遷を取り出す\n",
        "    Qpast_in_one_array = np.zeros((num_of_trials), dtype=np.float)\n",
        "    for t in range(num_of_trials):\n",
        "      Qpast_in_one_array[t] = Qpast[t][i][j]\n",
        "    # 表示用ラベルを作る\n",
        "    display_label = 'Q:' + 'status' + str(i) + ',choice' + str(j)\n",
        "    plt.plot(x_array, Qpast_in_one_array, label=display_label)\n",
        "\n",
        "# plt.legend()\n",
        "plt.show()"
      ],
      "execution_count": 0,
      "outputs": [
        {
          "output_type": "stream",
          "text": [
            "[[1.13394025 1.36613644 1.02506122]\n",
            " [1.41145615 1.43326173 1.22024845]\n",
            " [1.09589599 1.20368855 1.41071561]\n",
            " [1.10477714 1.14051966 1.37240686]]\n",
            "[[2.27359767 2.45546375 0.1       ]\n",
            " [2.55650707 2.56541474 1.87052608]\n",
            " [0.1        1.90023835 2.55456834]\n",
            " [1.7821621  0.1        2.50929399]]\n"
          ],
          "name": "stdout"
        },
        {
          "output_type": "display_data",
          "data": {
            "image/png": "[encoded data removed]",
            "text/plain": [
              "<Figure size 432x288 with 1 Axes>"
            ]
          },
          "metadata": {
            "tags": []
          }
        }
      ]
    }
  ]
}