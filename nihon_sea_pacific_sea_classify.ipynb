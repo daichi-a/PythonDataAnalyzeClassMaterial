{
  "nbformat": 4,
  "nbformat_minor": 0,
  "metadata": {
    "colab": {
      "name": "nihon_sea_pacific_sea_classify.ipynb",
      "provenance": [],
      "collapsed_sections": []
    },
    "kernelspec": {
      "name": "python3",
      "display_name": "Python 3"
    }
  },
  "cells": [
    {
      "cell_type": "code",
      "metadata": {
        "id": "gPyHjh8MyNe0",
        "colab_type": "code",
        "outputId": "07a7f8ab-476e-4ec2-e1b9-7a224090d2d9",
        "colab": {
          "resources": {
            "http://localhost:8080/nbextensions/google.colab/files.js": {
              "data": "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",
              "ok": true,
              "headers": [
                [
                  "content-type",
                  "application/javascript"
                ]
              ],
              "status": 200,
              "status_text": ""
            }
          },
          "base_uri": "https://localhost:8080/",
          "height": 71
        }
      },
      "source": [
        "from google.colab import files\n",
        "uploaded = files.upload()"
      ],
      "execution_count": 0,
      "outputs": [
        {
          "output_type": "display_data",
          "data": {
            "text/html": [
              "\n",
              "     <input type=\"file\" id=\"files-bcaa9e44-1999-40c2-b75e-93ac77184638\" name=\"files[]\" multiple disabled />\n",
              "     <output id=\"result-bcaa9e44-1999-40c2-b75e-93ac77184638\">\n",
              "      Upload widget is only available when the cell has been executed in the\n",
              "      current browser session. Please rerun this cell to enable.\n",
              "      </output>\n",
              "      <script src=\"/nbextensions/google.colab/files.js\"></script> "
            ],
            "text/plain": [
              "<IPython.core.display.HTML object>"
            ]
          },
          "metadata": {
            "tags": []
          }
        },
        {
          "output_type": "stream",
          "text": [
            "Saving nihonsea-side-pacificsea-side-jan.csv to nihonsea-side-pacificsea-side-jan.csv\n"
          ],
          "name": "stdout"
        }
      ]
    },
    {
      "cell_type": "code",
      "metadata": {
        "id": "Y5_x6ZAIyVMJ",
        "colab_type": "code",
        "outputId": "f8000d82-a68a-4026-a26a-42023af7b02b",
        "colab": {
          "base_uri": "https://localhost:8080/",
          "height": 292
        }
      },
      "source": [
        "import numpy as np\n",
        "import pandas as pd\n",
        "from pandas import Series, DataFrame\n",
        "\n",
        "df = pd.read_csv('nihonsea-side-pacificsea-side-jan.csv', encoding='SHIFT-JIS', header=1)\n",
        "\n",
        "# 抜き出す\n",
        "for a_column in ['秋田', '宮古', '酒田', '石巻', '新潟', '水戸', '銚子']:\n",
        "  # それぞれ\n",
        "  # 降水量の合計(mm),降水量の合計(mm),降水量の合計(mm),降水量の合計(mm), 日照時間(時間),日照時間(時間),日照時間(時間),日照時間(時間), 平均風速(m/s),平均風速(m/s),平均風速(m/s),平均蒸気圧(hPa),平均蒸気圧(hPa),平均蒸気圧(hPa),\n",
        "  # で並んでいて，一つの地点につき，\n",
        "  #\t(空), 現象なし情報, 品質情報, 均質番号, (空), 現象なし情報, 品質情報, 均質番号, (空), 品質情報, 均質番号, (空), 品質情報, 均質番号\n",
        "  # の(空)以外の場所が余計なので，削除\n",
        "  for i in range(1, 14, 1):\n",
        "    # 落とす列の列番号を指定(0~)\n",
        "    if i in [1, 2, 3, 5, 6, 7, 9, 10, 12, 13]:\n",
        "      df = df.drop(a_column + '.' + str(i), axis=1)\n",
        "\n",
        "df = df.drop(1)\n",
        "\n",
        "# DataFrameの中に欠損値がある場合は，0.0を代わりに入れておく\n",
        "df = df.fillna(0)\n",
        "df.head()"
      ],
      "execution_count": 0,
      "outputs": [
        {
          "output_type": "execute_result",
          "data": {
            "text/html": [
              "<div>\n",
              "<style scoped>\n",
              "    .dataframe tbody tr th:only-of-type {\n",
              "        vertical-align: middle;\n",
              "    }\n",
              "\n",
              "    .dataframe tbody tr th {\n",
              "        vertical-align: top;\n",
              "    }\n",
              "\n",
              "    .dataframe thead th {\n",
              "        text-align: right;\n",
              "    }\n",
              "</style>\n",
              "<table border=\"1\" class=\"dataframe\">\n",
              "  <thead>\n",
              "    <tr style=\"text-align: right;\">\n",
              "      <th></th>\n",
              "      <th>Unnamed: 0</th>\n",
              "      <th>秋田</th>\n",
              "      <th>秋田.4</th>\n",
              "      <th>秋田.8</th>\n",
              "      <th>秋田.11</th>\n",
              "      <th>宮古</th>\n",
              "      <th>宮古.4</th>\n",
              "      <th>宮古.8</th>\n",
              "      <th>宮古.11</th>\n",
              "      <th>酒田</th>\n",
              "      <th>酒田.4</th>\n",
              "      <th>酒田.8</th>\n",
              "      <th>酒田.11</th>\n",
              "      <th>石巻</th>\n",
              "      <th>石巻.4</th>\n",
              "      <th>石巻.8</th>\n",
              "      <th>石巻.11</th>\n",
              "      <th>新潟</th>\n",
              "      <th>新潟.4</th>\n",
              "      <th>新潟.8</th>\n",
              "      <th>新潟.11</th>\n",
              "      <th>水戸</th>\n",
              "      <th>水戸.4</th>\n",
              "      <th>水戸.8</th>\n",
              "      <th>水戸.11</th>\n",
              "      <th>銚子</th>\n",
              "      <th>銚子.4</th>\n",
              "      <th>銚子.8</th>\n",
              "      <th>銚子.11</th>\n",
              "    </tr>\n",
              "  </thead>\n",
              "  <tbody>\n",
              "    <tr>\n",
              "      <th>0</th>\n",
              "      <td>年月</td>\n",
              "      <td>降水量の合計(mm)</td>\n",
              "      <td>日照時間(時間)</td>\n",
              "      <td>平均風速(m/s)</td>\n",
              "      <td>平均蒸気圧(hPa)</td>\n",
              "      <td>降水量の合計(mm)</td>\n",
              "      <td>日照時間(時間)</td>\n",
              "      <td>平均風速(m/s)</td>\n",
              "      <td>平均蒸気圧(hPa)</td>\n",
              "      <td>降水量の合計(mm)</td>\n",
              "      <td>日照時間(時間)</td>\n",
              "      <td>平均風速(m/s)</td>\n",
              "      <td>平均蒸気圧(hPa)</td>\n",
              "      <td>降水量の合計(mm)</td>\n",
              "      <td>日照時間(時間)</td>\n",
              "      <td>平均風速(m/s)</td>\n",
              "      <td>平均蒸気圧(hPa)</td>\n",
              "      <td>降水量の合計(mm)</td>\n",
              "      <td>日照時間(時間)</td>\n",
              "      <td>平均風速(m/s)</td>\n",
              "      <td>平均蒸気圧(hPa)</td>\n",
              "      <td>降水量の合計(mm)</td>\n",
              "      <td>日照時間(時間)</td>\n",
              "      <td>平均風速(m/s)</td>\n",
              "      <td>平均蒸気圧(hPa)</td>\n",
              "      <td>降水量の合計(mm)</td>\n",
              "      <td>日照時間(時間)</td>\n",
              "      <td>平均風速(m/s)</td>\n",
              "      <td>平均蒸気圧(hPa)</td>\n",
              "    </tr>\n",
              "    <tr>\n",
              "      <th>2</th>\n",
              "      <td>1977/1</td>\n",
              "      <td>51.0</td>\n",
              "      <td>72.6</td>\n",
              "      <td>4.4</td>\n",
              "      <td>3.6</td>\n",
              "      <td>6.0</td>\n",
              "      <td>224.3</td>\n",
              "      <td>2.1</td>\n",
              "      <td>2.8</td>\n",
              "      <td>101.0</td>\n",
              "      <td>68.9</td>\n",
              "      <td>4.7</td>\n",
              "      <td>3.9</td>\n",
              "      <td>3.0</td>\n",
              "      <td>203.0</td>\n",
              "      <td>2.3</td>\n",
              "      <td>3.4</td>\n",
              "      <td>151.5</td>\n",
              "      <td>69.6</td>\n",
              "      <td>4.9</td>\n",
              "      <td>4.5</td>\n",
              "      <td>13.0</td>\n",
              "      <td>196.6</td>\n",
              "      <td>1.9</td>\n",
              "      <td>4.0</td>\n",
              "      <td>75.5</td>\n",
              "      <td>150.0</td>\n",
              "      <td>4.0</td>\n",
              "      <td>5.0</td>\n",
              "    </tr>\n",
              "    <tr>\n",
              "      <th>3</th>\n",
              "      <td>1978/1</td>\n",
              "      <td>93.5</td>\n",
              "      <td>74.0</td>\n",
              "      <td>5.0</td>\n",
              "      <td>4.5</td>\n",
              "      <td>33.0</td>\n",
              "      <td>173.4</td>\n",
              "      <td>1.8</td>\n",
              "      <td>3.9</td>\n",
              "      <td>163.5</td>\n",
              "      <td>55.8</td>\n",
              "      <td>5.2</td>\n",
              "      <td>4.8</td>\n",
              "      <td>9.5</td>\n",
              "      <td>156.0</td>\n",
              "      <td>2.8</td>\n",
              "      <td>4.5</td>\n",
              "      <td>205.5</td>\n",
              "      <td>40.7</td>\n",
              "      <td>4.2</td>\n",
              "      <td>5.5</td>\n",
              "      <td>13.0</td>\n",
              "      <td>166.5</td>\n",
              "      <td>1.6</td>\n",
              "      <td>4.9</td>\n",
              "      <td>54.0</td>\n",
              "      <td>152.4</td>\n",
              "      <td>4.0</td>\n",
              "      <td>5.8</td>\n",
              "    </tr>\n",
              "    <tr>\n",
              "      <th>4</th>\n",
              "      <td>1979/1</td>\n",
              "      <td>113.5</td>\n",
              "      <td>70.7</td>\n",
              "      <td>3.1</td>\n",
              "      <td>4.8</td>\n",
              "      <td>74.0</td>\n",
              "      <td>164.0</td>\n",
              "      <td>1.7</td>\n",
              "      <td>3.9</td>\n",
              "      <td>201.0</td>\n",
              "      <td>63.1</td>\n",
              "      <td>4.8</td>\n",
              "      <td>5.4</td>\n",
              "      <td>32.5</td>\n",
              "      <td>177.5</td>\n",
              "      <td>2.8</td>\n",
              "      <td>4.9</td>\n",
              "      <td>151.5</td>\n",
              "      <td>79.9</td>\n",
              "      <td>3.4</td>\n",
              "      <td>6.2</td>\n",
              "      <td>62.0</td>\n",
              "      <td>194.0</td>\n",
              "      <td>1.3</td>\n",
              "      <td>5.1</td>\n",
              "      <td>79.5</td>\n",
              "      <td>180.5</td>\n",
              "      <td>3.3</td>\n",
              "      <td>6.3</td>\n",
              "    </tr>\n",
              "    <tr>\n",
              "      <th>5</th>\n",
              "      <td>1980/1</td>\n",
              "      <td>172.5</td>\n",
              "      <td>66.4</td>\n",
              "      <td>3.7</td>\n",
              "      <td>4.7</td>\n",
              "      <td>55.0</td>\n",
              "      <td>172.4</td>\n",
              "      <td>1.8</td>\n",
              "      <td>3.9</td>\n",
              "      <td>212.0</td>\n",
              "      <td>51.1</td>\n",
              "      <td>4.9</td>\n",
              "      <td>5.1</td>\n",
              "      <td>17.0</td>\n",
              "      <td>179.0</td>\n",
              "      <td>2.9</td>\n",
              "      <td>4.7</td>\n",
              "      <td>225.0</td>\n",
              "      <td>48.3</td>\n",
              "      <td>4.0</td>\n",
              "      <td>5.7</td>\n",
              "      <td>66.5</td>\n",
              "      <td>198.2</td>\n",
              "      <td>2.1</td>\n",
              "      <td>4.9</td>\n",
              "      <td>180.5</td>\n",
              "      <td>173.4</td>\n",
              "      <td>4.2</td>\n",
              "      <td>6.0</td>\n",
              "    </tr>\n",
              "  </tbody>\n",
              "</table>\n",
              "</div>"
            ],
            "text/plain": [
              "  Unnamed: 0          秋田      秋田.4  ...      銚子.4       銚子.8       銚子.11\n",
              "0         年月  降水量の合計(mm)  日照時間(時間)  ...  日照時間(時間)  平均風速(m/s)  平均蒸気圧(hPa)\n",
              "2     1977/1        51.0      72.6  ...     150.0        4.0         5.0\n",
              "3     1978/1        93.5      74.0  ...     152.4        4.0         5.8\n",
              "4     1979/1       113.5      70.7  ...     180.5        3.3         6.3\n",
              "5     1980/1       172.5      66.4  ...     173.4        4.2         6.0\n",
              "\n",
              "[5 rows x 29 columns]"
            ]
          },
          "metadata": {
            "tags": []
          },
          "execution_count": 3
        }
      ]
    },
    {
      "cell_type": "code",
      "metadata": {
        "id": "BDB6sQDJyXyk",
        "colab_type": "code",
        "outputId": "28032fa8-b84d-46fb-b1ad-d08a4869775d",
        "colab": {
          "base_uri": "https://localhost:8080/",
          "height": 204
        }
      },
      "source": [
        "# グラフ表示するためにローマ字ラベルを作っておく\n",
        "#np.arrayはenumerateでは回せないので，　listのままにしておく\n",
        "city_label_list = (['Akita', 'Miyako', 'Sakata', 'Ishinomaki', 'Niigata', 'Mito', 'Choshi'])\n",
        "\n",
        "# その要素の有無で0と1の2値で表現される変数を「ダミー変数」と呼ぶ\n",
        "# 0, 1, 2, 3...などの状態が複数あり，かつその数字が大小の意味を持ってない場合は，カテゴリ変数と呼ぶ\n",
        "# カテゴリ変数は判別問題などで扱えないので，\n",
        "# カテゴリ変数で表現している内容を，要素に分けて，要素の有無で表現，つまり複数のダミー変数に直す\n",
        "\n",
        "# 今回は太平洋側と日本海側の2値なので，ダミー変数：太平洋側が0, 日本海側が1\n",
        "sea_side_label = np.array([1, 0, 1, 0, 1, 0, 0])\n",
        "\n",
        "# 選んだ都市の\n",
        "# average_wind_speed: 1月の平均風速\n",
        "# daylight_hours: 1月の日照時間\n",
        "# average_humidity: 1月の平均湿度\n",
        "# precipitation: 1月の降水量\n",
        "# として，それぞれ42年分*太平洋側，日本海側の2年ずつを，1つ配列としてくっつける\n",
        "\n",
        "# 42年分のラベルを繋げておく　(42年分*全部の都市)\n",
        "city_label_in_repeat = np.repeat(city_label_list, 42)\n",
        "sea_side_label_in_repeat = np.repeat(sea_side_label, 42)\n",
        "\n",
        "# データをつなげる\n",
        "# まず最初に空の配列を作っておいて，\n",
        "precipitation = np.array([], dtype=np.float)\n",
        "daylight_hours = np.array([], dtype=np.float)\n",
        "average_wind_speed = np.array([], dtype=np.float)\n",
        "average_humidity = np.array([], dtype=np.float)\n",
        "\n",
        "# 選んだ都市の，1月の平均風速，1月の日照時間，1月の平均湿度，1月の降水量を\n",
        "# それぞれ1つの配列につなぐ\n",
        "for i, a_city in enumerate(city_label_list): \n",
        "  precipitation = np.concatenate((precipitation, df.iloc[1:, 1+(i*4)]))\n",
        "  daylight_hours = np.concatenate((daylight_hours, df.iloc[1:, 1+(i*4)+1]))\n",
        "  average_wind_speed = np.concatenate((average_wind_speed, df.iloc[1:, 1+(i*4)+2]))\n",
        "  average_humidity = np.concatenate((average_humidity, df.iloc[1:, 1+(i*4)+3]))\n",
        "\n",
        "# vstackで重ねて，配列の次元を入れ替えて，DataFrameにしておく\n",
        "df_sea_side_city = pd.DataFrame(np.vstack([city_label_in_repeat, sea_side_label_in_repeat, precipitation.astype(np.float), daylight_hours.astype(np.float), average_wind_speed.astype(np.float), average_humidity.astype(np.float)]).transpose())\n",
        "# DataFrameの列名をつけておく\n",
        "df_sea_side_city = df_sea_side_city.rename(columns={0:'都市名', 1:'太平洋側日本海側ダミー変数', 2:'1月の降水量', 3:'1月の日照時間', 4:'1月の平均風速', 5:'1月の平均湿度'})\n",
        "# DataFrameの冒頭を確認\n",
        "df_sea_side_city.head()"
      ],
      "execution_count": 0,
      "outputs": [
        {
          "output_type": "execute_result",
          "data": {
            "text/html": [
              "<div>\n",
              "<style scoped>\n",
              "    .dataframe tbody tr th:only-of-type {\n",
              "        vertical-align: middle;\n",
              "    }\n",
              "\n",
              "    .dataframe tbody tr th {\n",
              "        vertical-align: top;\n",
              "    }\n",
              "\n",
              "    .dataframe thead th {\n",
              "        text-align: right;\n",
              "    }\n",
              "</style>\n",
              "<table border=\"1\" class=\"dataframe\">\n",
              "  <thead>\n",
              "    <tr style=\"text-align: right;\">\n",
              "      <th></th>\n",
              "      <th>都市名</th>\n",
              "      <th>太平洋側日本海側ダミー変数</th>\n",
              "      <th>1月の降水量</th>\n",
              "      <th>1月の日照時間</th>\n",
              "      <th>1月の平均風速</th>\n",
              "      <th>1月の平均湿度</th>\n",
              "    </tr>\n",
              "  </thead>\n",
              "  <tbody>\n",
              "    <tr>\n",
              "      <th>0</th>\n",
              "      <td>Akita</td>\n",
              "      <td>1</td>\n",
              "      <td>51.0</td>\n",
              "      <td>72.6</td>\n",
              "      <td>4.4</td>\n",
              "      <td>3.6</td>\n",
              "    </tr>\n",
              "    <tr>\n",
              "      <th>1</th>\n",
              "      <td>Akita</td>\n",
              "      <td>1</td>\n",
              "      <td>93.5</td>\n",
              "      <td>74.0</td>\n",
              "      <td>5.0</td>\n",
              "      <td>4.5</td>\n",
              "    </tr>\n",
              "    <tr>\n",
              "      <th>2</th>\n",
              "      <td>Akita</td>\n",
              "      <td>1</td>\n",
              "      <td>113.5</td>\n",
              "      <td>70.7</td>\n",
              "      <td>3.1</td>\n",
              "      <td>4.8</td>\n",
              "    </tr>\n",
              "    <tr>\n",
              "      <th>3</th>\n",
              "      <td>Akita</td>\n",
              "      <td>1</td>\n",
              "      <td>172.5</td>\n",
              "      <td>66.4</td>\n",
              "      <td>3.7</td>\n",
              "      <td>4.7</td>\n",
              "    </tr>\n",
              "    <tr>\n",
              "      <th>4</th>\n",
              "      <td>Akita</td>\n",
              "      <td>1</td>\n",
              "      <td>64.5</td>\n",
              "      <td>58.8</td>\n",
              "      <td>4.6</td>\n",
              "      <td>4.2</td>\n",
              "    </tr>\n",
              "  </tbody>\n",
              "</table>\n",
              "</div>"
            ],
            "text/plain": [
              "     都市名 太平洋側日本海側ダミー変数 1月の降水量 1月の日照時間 1月の平均風速 1月の平均湿度\n",
              "0  Akita             1   51.0    72.6     4.4     3.6\n",
              "1  Akita             1   93.5    74.0     5.0     4.5\n",
              "2  Akita             1  113.5    70.7     3.1     4.8\n",
              "3  Akita             1  172.5    66.4     3.7     4.7\n",
              "4  Akita             1   64.5    58.8     4.6     4.2"
            ]
          },
          "metadata": {
            "tags": []
          },
          "execution_count": 4
        }
      ]
    },
    {
      "cell_type": "code",
      "metadata": {
        "id": "jnkjUj6ZCg5_",
        "colab_type": "code",
        "outputId": "0deff57b-3ce2-417c-979d-be53073351fb",
        "colab": {
          "base_uri": "https://localhost:8080/",
          "height": 236
        }
      },
      "source": [
        "from sklearn.model_selection import train_test_split\n",
        "\n",
        "y_whole_2d = df_sea_side_city.iloc[:, 1].values.astype(np.float)\n",
        "x_whole_2d = df_sea_side_city.iloc[:, 2:4].values.astype(np.float)\n",
        "y_whole_2d = np.ravel(y_whole)\n",
        "nihon_sea_side_precipation = list([])\n",
        "pacific_sea_side_precipation = list([])\n",
        "nihon_sea_side_daylight_hours = list([])\n",
        "pacific_sea_side_daylight_hours = list([])\n",
        "for i, sea_side_label in enumerate(y_whole_2d.tolist()):\n",
        "  if sea_side_label == 0:\n",
        "    pacific_sea_side_precipation.append(x_whole_2d[i][0])\n",
        "    pacific_sea_side_daylight_hours.append(x_whole_2d[i][1])\n",
        "  else:\n",
        "    nihon_sea_side_precipation.append(x_whole_2d[i][0])\n",
        "    nihon_sea_side_daylight_hours.append(x_whole_2d[i][1])\n",
        "\n",
        "x_train_2d, x_test_2d, y_train_2d, y_test_2d = train_test_split(x_whole_2d, y_whole_2d)\n",
        "\n",
        "from sklearn.svm import LinearSVC\n",
        "from sklearn import metrics\n",
        "svm_model = LinearSVC(C=1.0)\n",
        "svm_model.fit(x_train_2d, y_train_2d)\n",
        "svm_y_predict_2d = svm_model.predict(x_test_2d)\n",
        "svm_accuracy_score_2d = metrics.accuracy_score(y_test_2d, svm_y_predict_2d)\n",
        "print('SVNの正答率', svm_accuracy_score)\n",
        "\n",
        "# 係数がこの中に入っている．この係数で表される4次元空間の平面で切るとうまく分類できる，という意味\n",
        "print('分離平面の係数', svm_model.coef_[0])\n",
        "print('分離平面の切片', svm_model.intercept_[0])\n",
        "\n",
        "# 分離平面の係数をもうちょっとわかりやすく表示してみる\n",
        "svm_coef_df = pd.DataFrame([df_sea_side_city.columns[2:4], svm_model.coef_[0]]).T\n",
        "# DataFrame.Tはnumpyのtransposeに相当し，配列の次元を入れ替える\n",
        "print(svm_coef_df)\n",
        "\n",
        "import matplotlib.pyplot as plt\n",
        "plt.scatter(np.array(pacific_sea_side_precipation, dtype=np.float), np.array(pacific_sea_side_daylight_hours, dtype=np.float), label='Pacific Sea Side Cities')\n",
        "plt.scatter(np.array(nihon_sea_side_precipation, dtype=np.float), np.array(nihon_sea_side_daylight_hours, dtype=np.float), label='Nihon Sea Side Cities')\n",
        "plt.xlabel('Precipation')\n",
        "plt.ylabel('Daylight Hours')\n",
        "\n",
        "svm_w = svm_model.coef_[0]\n",
        "svm_a = -1.0 * svm_w[0] / svm_w[1]\n",
        "svm_xx = np.linspace(0, max(nihon_sea_side_precipation))\n",
        "svm_yy = svm_a * svm_xx - (svm_model.intercept_[0]) / svm_w[1]\n",
        "plt.plot(svm_xx, svm_yy, linestyle='solid', label='Linear SVN')\n",
        "\n",
        "plt.legend()\n",
        "plt.show()\n",
        "\n",
        "plt.show()"
      ],
      "execution_count": 0,
      "outputs": [
        {
          "output_type": "error",
          "ename": "NameError",
          "evalue": "ignored",
          "traceback": [
            "\u001b[0;31m---------------------------------------------------------------------------\u001b[0m",
            "\u001b[0;31mNameError\u001b[0m                                 Traceback (most recent call last)",
            "\u001b[0;32m<ipython-input-5-7b5cebdcb7ec>\u001b[0m in \u001b[0;36m<module>\u001b[0;34m()\u001b[0m\n\u001b[1;32m      3\u001b[0m \u001b[0my_whole_2d\u001b[0m \u001b[0;34m=\u001b[0m \u001b[0mdf_sea_side_city\u001b[0m\u001b[0;34m.\u001b[0m\u001b[0miloc\u001b[0m\u001b[0;34m[\u001b[0m\u001b[0;34m:\u001b[0m\u001b[0;34m,\u001b[0m \u001b[0;36m1\u001b[0m\u001b[0;34m]\u001b[0m\u001b[0;34m.\u001b[0m\u001b[0mvalues\u001b[0m\u001b[0;34m.\u001b[0m\u001b[0mastype\u001b[0m\u001b[0;34m(\u001b[0m\u001b[0mnp\u001b[0m\u001b[0;34m.\u001b[0m\u001b[0mfloat\u001b[0m\u001b[0;34m)\u001b[0m\u001b[0;34m\u001b[0m\u001b[0;34m\u001b[0m\u001b[0m\n\u001b[1;32m      4\u001b[0m \u001b[0mx_whole_2d\u001b[0m \u001b[0;34m=\u001b[0m \u001b[0mdf_sea_side_city\u001b[0m\u001b[0;34m.\u001b[0m\u001b[0miloc\u001b[0m\u001b[0;34m[\u001b[0m\u001b[0;34m:\u001b[0m\u001b[0;34m,\u001b[0m \u001b[0;36m2\u001b[0m\u001b[0;34m:\u001b[0m\u001b[0;36m4\u001b[0m\u001b[0;34m]\u001b[0m\u001b[0;34m.\u001b[0m\u001b[0mvalues\u001b[0m\u001b[0;34m.\u001b[0m\u001b[0mastype\u001b[0m\u001b[0;34m(\u001b[0m\u001b[0mnp\u001b[0m\u001b[0;34m.\u001b[0m\u001b[0mfloat\u001b[0m\u001b[0;34m)\u001b[0m\u001b[0;34m\u001b[0m\u001b[0;34m\u001b[0m\u001b[0m\n\u001b[0;32m----> 5\u001b[0;31m \u001b[0my_whole_2d\u001b[0m \u001b[0;34m=\u001b[0m \u001b[0mnp\u001b[0m\u001b[0;34m.\u001b[0m\u001b[0mravel\u001b[0m\u001b[0;34m(\u001b[0m\u001b[0my_whole\u001b[0m\u001b[0;34m)\u001b[0m\u001b[0;34m\u001b[0m\u001b[0;34m\u001b[0m\u001b[0m\n\u001b[0m\u001b[1;32m      6\u001b[0m \u001b[0mnihon_sea_side_precipation\u001b[0m \u001b[0;34m=\u001b[0m \u001b[0mlist\u001b[0m\u001b[0;34m(\u001b[0m\u001b[0;34m[\u001b[0m\u001b[0;34m]\u001b[0m\u001b[0;34m)\u001b[0m\u001b[0;34m\u001b[0m\u001b[0;34m\u001b[0m\u001b[0m\n\u001b[1;32m      7\u001b[0m \u001b[0mpacific_sea_side_precipation\u001b[0m \u001b[0;34m=\u001b[0m \u001b[0mlist\u001b[0m\u001b[0;34m(\u001b[0m\u001b[0;34m[\u001b[0m\u001b[0;34m]\u001b[0m\u001b[0;34m)\u001b[0m\u001b[0;34m\u001b[0m\u001b[0;34m\u001b[0m\u001b[0m\n",
            "\u001b[0;31mNameError\u001b[0m: name 'y_whole' is not defined"
          ]
        }
      ]
    },
    {
      "cell_type": "code",
      "metadata": {
        "id": "80Y0RdCcfhVH",
        "colab_type": "code",
        "colab": {}
      },
      "source": [
        "from sklearn.model_selection import train_test_split\n",
        "\n",
        "# 線形分類は，Xは説明変数多数の行列，Yは0or1（この場合太平洋側か日本海側かのダミー変数）が入った1次元配列を取る\n",
        "y_whole = df_sea_side_city.iloc[:, 1].values.astype(np.float)\n",
        "x_whole = df_sea_side_city.iloc[:, 2:].values.astype(np.float)\n",
        "# yを1次元配列にする\n",
        "y_whole = np.ravel(y_whole)\n",
        "\n",
        "# 訓練データとテストデータに分ける\n",
        "# 実行する度に訓練データとテストデータに選ばれる行がランダムで変わる\n",
        "x_train, x_test, y_train, y_test = train_test_split(x_whole, y_whole)"
      ],
      "execution_count": 0,
      "outputs": []
    },
    {
      "cell_type": "code",
      "metadata": {
        "id": "HslHM0FccOCC",
        "colab_type": "code",
        "outputId": "9cc0d98e-03a5-46b2-aa65-b794684511ad",
        "colab": {
          "base_uri": "https://localhost:8080/",
          "height": 187
        }
      },
      "source": [
        "# 線形SVMで分類する\n",
        "from sklearn.svm import LinearSVC\n",
        "from sklearn import metrics\n",
        "\n",
        "svm_model = LinearSVC(C=1.0)\n",
        "svm_model.fit(x_train, y_train)\n",
        "svm_y_predict = svm_model.predict(x_test)\n",
        "svm_accuracy_score = metrics.accuracy_score(y_test, svm_y_predict)\n",
        "print('SVNの正答率', svm_accuracy_score)\n",
        "# 係数がこの中に入っている．この係数で表される4次元空間の平面で切るとうまく分類できる，という意味\n",
        "print('分離平面の係数', svm_model.coef_[0])\n",
        "print('分離平面の切片', svm_model.intercept_[0])\n",
        "\n",
        "# 分離平面の係数をもうちょっとわかりやすく表示してみる\n",
        "svm_coef_df = pd.DataFrame([df_sea_side_city.columns[2:], svm_model.coef_[0]]).T\n",
        "# DataFrame.Tはnumpyのtransposeに相当し，配列の次元を入れ替える\n",
        "print(svm_coef_df)"
      ],
      "execution_count": 0,
      "outputs": [
        {
          "output_type": "stream",
          "text": [
            "SVNの正答率 0.9864864864864865\n",
            "分離平面の係数 [ 0.01283671 -0.03886594  0.24553589  0.17610955]\n",
            "分離平面の切片 0.08186901170880292\n",
            "         0          1\n",
            "0   1月の降水量  0.0128367\n",
            "1  1月の日照時間 -0.0388659\n",
            "2  1月の平均風速   0.245536\n",
            "3  1月の平均湿度    0.17611\n"
          ],
          "name": "stdout"
        },
        {
          "output_type": "stream",
          "text": [
            "/usr/local/lib/python3.6/dist-packages/sklearn/svm/base.py:929: ConvergenceWarning: Liblinear failed to converge, increase the number of iterations.\n",
            "  \"the number of iterations.\", ConvergenceWarning)\n"
          ],
          "name": "stderr"
        }
      ]
    },
    {
      "cell_type": "code",
      "metadata": {
        "id": "NqfMjgRa96Fb",
        "colab_type": "code",
        "outputId": "a2a7ada7-311e-4e7d-9753-775a869fcde0",
        "colab": {
          "base_uri": "https://localhost:8080/",
          "height": 51
        }
      },
      "source": [
        "# 鳥取県境(日本海側)，静岡県石廊崎(太平洋側)の2018年1月のデータを入れてみて，ちゃんと分類できるか検証する．\n",
        "# 境のデータ 降水量191.5(mm), 日照時間58.1(時間), 平均風速2.6(m), 平均蒸気圧6.3(hPa), \n",
        "# 石廊崎のデータ 降水量 93.5(mm), 日照時間188.6(時間), 平均風速6.8(m), 平均蒸気圧6.6(hPa)\n",
        "sakaiX = np.array([[191.5, 58.1, 2.6, 6.3]], dtype=np.float)\n",
        "irouzakiX = np.array([[93.5, 188.6, 6.8, 6.6]], dtype=np.float)\n",
        "\n",
        "print('境の2018年1月のデータから予測した結果', svm_model.predict(sakaiX))\n",
        "print('石廊崎の2018年1月のデータから予測した結果', svm_model.predict(irouzakiX))"
      ],
      "execution_count": 0,
      "outputs": [
        {
          "output_type": "stream",
          "text": [
            "境の2018年1月のデータから予測した結果 [1.]\n",
            "石廊崎の2018年1月のデータから予測した結果 [0.]\n"
          ],
          "name": "stdout"
        }
      ]
    },
    {
      "cell_type": "code",
      "metadata": {
        "id": "-9n2tY4Eepf3",
        "colab_type": "code",
        "outputId": "ec3a278c-2277-45f8-9810-e73ee47eb905",
        "colab": {
          "base_uri": "https://localhost:8080/",
          "height": 543
        }
      },
      "source": [
        "import matplotlib.pyplot as plt\n",
        "\n",
        "counter = 0\n",
        "nihon_sea_side_precipation = np.array([], dtype=np.float)\n",
        "pacific_sea_side_precipation = np.array([], dtype=np.float)\n",
        "nihon_sea_side_daylight_hours = np.array([], dtype=np.float)\n",
        "pacific_sea_side_daylight_hours = np.array([], dtype=np.float)\n",
        "nihon_sea_side_wind_speed = np.array([], dtype=np.float)\n",
        "pacific_sea_side_wind_speed = np.array([], dtype=np.float)\n",
        "nihon_sea_side_humidity = np.array([], dtype=np.float)\n",
        "pacific_sea_side_humidity = np.array([], dtype=np.float)\n",
        "\n",
        "for index, a_sea_side_label in enumerate(sea_side_label):\n",
        "  city_precipation_42years = df_sea_side_city.iloc[index*42:(index+1)*42, 2]\n",
        "  city_daylight_hours_42years = df_sea_side_city.iloc[index*42:(index+1)*42, 3]\n",
        "  city_wind_speed_42years = df_sea_side_city.iloc[index*42:(index+1)*42, 4]\n",
        "  city_humidity_42years = df_sea_side_city.iloc[index*42:(index+1)*42, 5]\n",
        "  if a_sea_side_label == 0:\n",
        "    pacific_sea_side_precipation = np.concatenate((pacific_sea_side_precipation, city_precipation_42years))\n",
        "    pacific_sea_side_daylight_hours = np.concatenate((pacific_sea_side_daylight_hours, city_daylight_hours_42years))\n",
        "    pacific_sea_side_wind_speed = np.concatenate((pacific_sea_side_wind_speed, city_wind_speed_42years))\n",
        "    pacific_sea_side_humidity = np.concatenate((pacific_sea_side_humidity, city_humidity_42years))\n",
        "  else:\n",
        "    nihon_sea_side_precipation = np.concatenate((nihon_sea_side_precipation, city_precipation_42years))\n",
        "    nihon_sea_side_daylight_hours = np.concatenate((nihon_sea_side_daylight_hours, city_daylight_hours_42years))\n",
        "    nihon_sea_side_wind_speed = np.concatenate((nihon_sea_side_wind_speed, city_wind_speed_42years))\n",
        "    nihon_sea_side_humidity = np.concatenate((nihon_sea_side_humidity, city_humidity_42years))\n",
        "\n",
        "# まず，降水量と日照時間\n",
        "plt.scatter(pacific_sea_side_precipation.astype(np.float), pacific_sea_side_daylight_hours.astype(np.float), label='Pacific Sea Side Cities')\n",
        "plt.scatter(nihon_sea_side_precipation.astype(np.float), nihon_sea_side_daylight_hours.astype(np.float), label='Nihon Sea Side Cities')\n",
        "plt.xlabel('Precipation')\n",
        "plt.ylabel('Daylight Hours')\n",
        "\n",
        "# 2つの重みと切片で，線形分離する直線を引く\n",
        "# https://stackoverflow.com/questions/22294241/plotting-a-decision-boundary-separating-2-classes-using-matplotlibs-pyplot\n",
        "svm_w = svm_model.coef_[0]\n",
        "svm_a = -1.0 * svm_w[0] / svm_w[1]\n",
        "svm_xx = np.linspace(0, 400)\n",
        "svm_yy = svm_a * svm_xx - (svm_model.intercept_[0]) / svm_w[1]\n",
        "plt.plot(svm_xx, svm_yy, linestyle='solid', label='Linear SVN')\n",
        "\n",
        "plt.legend()\n",
        "plt.show()\n",
        "\n",
        "# 次に風速と湿度\n",
        "plt.scatter(pacific_sea_side_wind_speed.astype(np.float), pacific_sea_side_humidity.astype(np.float), label='Pacific Sea Side Cities')\n",
        "plt.scatter(nihon_sea_side_wind_speed.astype(np.float), nihon_sea_side_humidity.astype(np.float), label='Nihon Sea Side Cities')\n",
        "plt.xlabel('Wind Speed')\n",
        "plt.ylabel('Humidity')\n",
        "\n",
        "svm_a = -1.0 * svm_w[2] / svm_w[3]\n",
        "svm_xx = np.linspace(0, 10)\n",
        "svm_yy = svm_a * svm_xx - (svm_model.intercept_[0]) / svm_w[3]\n",
        "plt.plot(svm_xx, svm_yy, linestyle='solid', label='Linear SVN')\n",
        "\n",
        "plt.legend()\n",
        "plt.show()\n"
      ],
      "execution_count": 0,
      "outputs": [
        {
          "output_type": "display_data",
          "data": {
            "image/png": "[encoded data removed]",
            "text/plain": [
              "<Figure size 432x288 with 1 Axes>"
            ]
          },
          "metadata": {
            "tags": []
          }
        },
        {
          "output_type": "display_data",
          "data": {
            "image/png": "[encoded data removed]",
            "text/plain": [
              "<Figure size 432x288 with 1 Axes>"
            ]
          },
          "metadata": {
            "tags": []
          }
        }
      ]
    },
    {
      "cell_type": "code",
      "metadata": {
        "id": "7LXHmEQ2dkya",
        "colab_type": "code",
        "outputId": "c9adec35-ac90-4cde-bc0c-f8b1ebd8452c",
        "colab": {
          "base_uri": "https://localhost:8080/",
          "height": 187
        }
      },
      "source": [
        "from sklearn.linear_model import LogisticRegression\n",
        "# X, Yの訓練データでロジスティック回帰を学習する\n",
        "log_model = LogisticRegression()\n",
        "log_model.fit(x_train, y_train)\n",
        "\n",
        "# 学習済みのモデルにXテストデータをつっこみ，Yを予測し，観測データと比較\n",
        "log_y_predict = log_model.predict(x_test)\n",
        "log_accuracy_score = metrics.accuracy_score(y_test, log_y_predict)\n",
        "print('ロジスティック回帰の正答率:', log_accuracy_score)\n",
        "# 係数がこの中に入っている．この係数で表される4次元空間の平面で切るとうまく分類できる，という意味\n",
        "print('分離平面の係数', log_model.coef_[0])\n",
        "print('分離平面の切片', log_model.intercept_[0])\n",
        "\n",
        "# 同じく分離平面の係数をもうちょっとわかりやすく表示してみる\n",
        "log_coef_df = pd.DataFrame([df_sea_side_city.columns[2:], log_model.coef_[0]]).T\n",
        "print(log_coef_df)"
      ],
      "execution_count": 0,
      "outputs": [
        {
          "output_type": "stream",
          "text": [
            "ロジスティック回帰の正答率: 0.9459459459459459\n",
            "分離平面の係数 [ 0.26298817 -0.18462974  0.25403575 -0.32331834]\n",
            "分離平面の切片 -3.3614051554580233\n",
            "         0         1\n",
            "0   1月の降水量  0.262988\n",
            "1  1月の日照時間  -0.18463\n",
            "2  1月の平均風速  0.254036\n",
            "3  1月の平均湿度 -0.323318\n"
          ],
          "name": "stdout"
        },
        {
          "output_type": "stream",
          "text": [
            "/usr/local/lib/python3.6/dist-packages/sklearn/linear_model/logistic.py:432: FutureWarning: Default solver will be changed to 'lbfgs' in 0.22. Specify a solver to silence this warning.\n",
            "  FutureWarning)\n"
          ],
          "name": "stderr"
        }
      ]
    },
    {
      "cell_type": "code",
      "metadata": {
        "id": "UYk0fhFaCLcO",
        "colab_type": "code",
        "outputId": "16ccbfe0-f49b-461a-a355-dd2831cde792",
        "colab": {
          "base_uri": "https://localhost:8080/",
          "height": 51
        }
      },
      "source": [
        "sakaiX = np.array([[191.5, 58.1, 2.6, 6.3]], dtype=np.float)\n",
        "irouzakiX = np.array([[93.5, 188.6, 6.8, 6.6]], dtype=np.float)\n",
        "\n",
        "print('境の2018年1月のデータから予測した結果', log_model.predict(sakaiX))\n",
        "print('石廊崎の2018年1月のデータから予測した結果', log_model.predict(irouzakiX))"
      ],
      "execution_count": 0,
      "outputs": [
        {
          "output_type": "stream",
          "text": [
            "境の2018年1月のデータから予測した結果 [1.]\n",
            "石廊崎の2018年1月のデータから予測した結果 [0.]\n"
          ],
          "name": "stdout"
        }
      ]
    },
    {
      "cell_type": "code",
      "metadata": {
        "id": "8qaXSIyLgnwL",
        "colab_type": "code",
        "colab": {}
      },
      "source": [
        "# 2つの重みと切片で，線形分離する直線を引く\n",
        "# https://stackoverflow.com/questions/22294241/plotting-a-decision-boundary-separating-2-classes-using-matplotlibs-pyplot\n",
        "svn2_w = svn_model2.coef_[0]\n",
        "svn2_a = -1.0 * svn2_w[0] / svn2_w[1]\n",
        "svn2_yy = svn2_a * xx - (svn_model2.intercept_[0]) / svn2_w[1]\n",
        "plt.plot(xx, svn2_yy, linestyle='solid', label='Linear SVN')\n",
        "plt.show()"
      ],
      "execution_count": 0,
      "outputs": []
    }
  ]
}