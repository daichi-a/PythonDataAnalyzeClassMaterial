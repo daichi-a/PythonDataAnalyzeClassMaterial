{
  "nbformat": 4,
  "nbformat_minor": 0,
  "metadata": {
    "colab": {
      "name": "tohoku-kanto-temp-pca.ipynb",
      "provenance": [],
      "collapsed_sections": [],
      "include_colab_link": true
    },
    "kernelspec": {
      "name": "python3",
      "display_name": "Python 3"
    }
  },
  "cells": [
    {
      "cell_type": "markdown",
      "metadata": {
        "id": "view-in-github",
        "colab_type": "text"
      },
      "source": [
        "<a href=\"https://colab.research.google.com/github/daichi-a/PythonDataAnalyzeClassMaterial/blob/master/tohoku_kanto_temp_pca.ipynb\" target=\"_parent\"><img src=\"https://colab.research.google.com/assets/colab-badge.svg\" alt=\"Open In Colab\"/></a>"
      ]
    },
    {
      "cell_type": "code",
      "metadata": {
        "id": "Tma3_Wjc6aUL",
        "colab_type": "code",
        "outputId": "51d0424d-28c6-4cdc-ec35-7e29a5f03a5c",
        "colab": {
          "resources": {
            "http://localhost:8080/nbextensions/google.colab/files.js": {
              "data": "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",
              "ok": true,
              "headers": [
                [
                  "content-type",
                  "application/javascript"
                ]
              ],
              "status": 200,
              "status_text": ""
            }
          },
          "base_uri": "https://localhost:8080/",
          "height": 71
        }
      },
      "source": [
        "from google.colab import files\n",
        "uploaded = files.upload()"
      ],
      "execution_count": 1,
      "outputs": [
        {
          "output_type": "display_data",
          "data": {
            "text/html": [
              "\n",
              "     <input type=\"file\" id=\"files-36af2591-bfc5-48da-ab17-0ad3070edb9d\" name=\"files[]\" multiple disabled />\n",
              "     <output id=\"result-36af2591-bfc5-48da-ab17-0ad3070edb9d\">\n",
              "      Upload widget is only available when the cell has been executed in the\n",
              "      current browser session. Please rerun this cell to enable.\n",
              "      </output>\n",
              "      <script src=\"/nbextensions/google.colab/files.js\"></script> "
            ],
            "text/plain": [
              "<IPython.core.display.HTML object>"
            ]
          },
          "metadata": {
            "tags": []
          }
        },
        {
          "output_type": "stream",
          "text": [
            "Saving tohoku-kanto-aug.csv to tohoku-kanto-aug.csv\n"
          ],
          "name": "stdout"
        }
      ]
    },
    {
      "cell_type": "code",
      "metadata": {
        "id": "SEewAv-c6lDf",
        "colab_type": "code",
        "outputId": "58c56971-75ba-431c-b506-e3fd490661bc",
        "colab": {
          "base_uri": "https://localhost:8080/",
          "height": 360
        }
      },
      "source": [
        "import numpy as np\n",
        "import pandas as pd\n",
        "from pandas import Series, DataFrame\n",
        "\n",
        "df = pd.read_csv('tohoku-kanto-aug.csv', encoding='SHIFT-JIS', header=2)\n",
        "# 前と同じ処理をして，抜き出しておく\n",
        "for a_column in ['青森', '秋田', '盛岡', '山形', '仙台', '福島', '水戸', '宇都宮', 'さいたま', '前橋', '甲府', '千葉', '東京', '横浜']:\n",
        "  for i in range(1, 11, 3):\n",
        "    for j in range(0, 2, 1):\n",
        "      df = df.drop(a_column + '.' + str(i + j), axis=1)\n",
        "\n",
        "df = df.drop(1)\n",
        "\n",
        "# DataFrameの中に欠損値がある場合は，0.0を代わりに入れておく\n",
        "df = df.fillna(0)\n",
        "df.head()"
      ],
      "execution_count": 2,
      "outputs": [
        {
          "output_type": "execute_result",
          "data": {
            "text/html": [
              "<div>\n",
              "<style scoped>\n",
              "    .dataframe tbody tr th:only-of-type {\n",
              "        vertical-align: middle;\n",
              "    }\n",
              "\n",
              "    .dataframe tbody tr th {\n",
              "        vertical-align: top;\n",
              "    }\n",
              "\n",
              "    .dataframe thead th {\n",
              "        text-align: right;\n",
              "    }\n",
              "</style>\n",
              "<table border=\"1\" class=\"dataframe\">\n",
              "  <thead>\n",
              "    <tr style=\"text-align: right;\">\n",
              "      <th></th>\n",
              "      <th>Unnamed: 0</th>\n",
              "      <th>青森</th>\n",
              "      <th>青森.3</th>\n",
              "      <th>青森.6</th>\n",
              "      <th>青森.9</th>\n",
              "      <th>秋田</th>\n",
              "      <th>秋田.3</th>\n",
              "      <th>秋田.6</th>\n",
              "      <th>秋田.9</th>\n",
              "      <th>盛岡</th>\n",
              "      <th>盛岡.3</th>\n",
              "      <th>盛岡.6</th>\n",
              "      <th>盛岡.9</th>\n",
              "      <th>山形</th>\n",
              "      <th>山形.3</th>\n",
              "      <th>山形.6</th>\n",
              "      <th>山形.9</th>\n",
              "      <th>仙台</th>\n",
              "      <th>仙台.3</th>\n",
              "      <th>仙台.6</th>\n",
              "      <th>仙台.9</th>\n",
              "      <th>福島</th>\n",
              "      <th>福島.3</th>\n",
              "      <th>福島.6</th>\n",
              "      <th>福島.9</th>\n",
              "      <th>水戸</th>\n",
              "      <th>水戸.3</th>\n",
              "      <th>水戸.6</th>\n",
              "      <th>水戸.9</th>\n",
              "      <th>宇都宮</th>\n",
              "      <th>宇都宮.3</th>\n",
              "      <th>宇都宮.6</th>\n",
              "      <th>宇都宮.9</th>\n",
              "      <th>さいたま</th>\n",
              "      <th>さいたま.3</th>\n",
              "      <th>さいたま.6</th>\n",
              "      <th>さいたま.9</th>\n",
              "      <th>前橋</th>\n",
              "      <th>前橋.3</th>\n",
              "      <th>前橋.6</th>\n",
              "      <th>前橋.9</th>\n",
              "      <th>甲府</th>\n",
              "      <th>甲府.3</th>\n",
              "      <th>甲府.6</th>\n",
              "      <th>甲府.9</th>\n",
              "      <th>千葉</th>\n",
              "      <th>千葉.3</th>\n",
              "      <th>千葉.6</th>\n",
              "      <th>千葉.9</th>\n",
              "      <th>東京</th>\n",
              "      <th>東京.3</th>\n",
              "      <th>東京.6</th>\n",
              "      <th>東京.9</th>\n",
              "      <th>横浜</th>\n",
              "      <th>横浜.3</th>\n",
              "      <th>横浜.6</th>\n",
              "      <th>横浜.9</th>\n",
              "    </tr>\n",
              "  </thead>\n",
              "  <tbody>\n",
              "    <tr>\n",
              "      <th>0</th>\n",
              "      <td>年月</td>\n",
              "      <td>平均気温(℃)</td>\n",
              "      <td>日最高気温の平均(℃)</td>\n",
              "      <td>日最低気温の平均(℃)</td>\n",
              "      <td>日平均気温25℃以上日数(日)</td>\n",
              "      <td>平均気温(℃)</td>\n",
              "      <td>日最高気温の平均(℃)</td>\n",
              "      <td>日最低気温の平均(℃)</td>\n",
              "      <td>日平均気温25℃以上日数(日)</td>\n",
              "      <td>平均気温(℃)</td>\n",
              "      <td>日最高気温の平均(℃)</td>\n",
              "      <td>日最低気温の平均(℃)</td>\n",
              "      <td>日平均気温25℃以上日数(日)</td>\n",
              "      <td>平均気温(℃)</td>\n",
              "      <td>日最高気温の平均(℃)</td>\n",
              "      <td>日最低気温の平均(℃)</td>\n",
              "      <td>日平均気温25℃以上日数(日)</td>\n",
              "      <td>平均気温(℃)</td>\n",
              "      <td>日最高気温の平均(℃)</td>\n",
              "      <td>日最低気温の平均(℃)</td>\n",
              "      <td>日平均気温25℃以上日数(日)</td>\n",
              "      <td>平均気温(℃)</td>\n",
              "      <td>日最高気温の平均(℃)</td>\n",
              "      <td>日最低気温の平均(℃)</td>\n",
              "      <td>日平均気温25℃以上日数(日)</td>\n",
              "      <td>平均気温(℃)</td>\n",
              "      <td>日最高気温の平均(℃)</td>\n",
              "      <td>日最低気温の平均(℃)</td>\n",
              "      <td>日平均気温25℃以上日数(日)</td>\n",
              "      <td>平均気温(℃)</td>\n",
              "      <td>日最高気温の平均(℃)</td>\n",
              "      <td>日最低気温の平均(℃)</td>\n",
              "      <td>日平均気温25℃以上日数(日)</td>\n",
              "      <td>平均気温(℃)</td>\n",
              "      <td>日最高気温の平均(℃)</td>\n",
              "      <td>日最低気温の平均(℃)</td>\n",
              "      <td>日平均気温25℃以上日数(日)</td>\n",
              "      <td>平均気温(℃)</td>\n",
              "      <td>日最高気温の平均(℃)</td>\n",
              "      <td>日最低気温の平均(℃)</td>\n",
              "      <td>日平均気温25℃以上日数(日)</td>\n",
              "      <td>平均気温(℃)</td>\n",
              "      <td>日最高気温の平均(℃)</td>\n",
              "      <td>日最低気温の平均(℃)</td>\n",
              "      <td>日平均気温25℃以上日数(日)</td>\n",
              "      <td>平均気温(℃)</td>\n",
              "      <td>日最高気温の平均(℃)</td>\n",
              "      <td>日最低気温の平均(℃)</td>\n",
              "      <td>日平均気温25℃以上日数(日)</td>\n",
              "      <td>平均気温(℃)</td>\n",
              "      <td>日最高気温の平均(℃)</td>\n",
              "      <td>日最低気温の平均(℃)</td>\n",
              "      <td>日平均気温25℃以上日数(日)</td>\n",
              "      <td>平均気温(℃)</td>\n",
              "      <td>日最高気温の平均(℃)</td>\n",
              "      <td>日最低気温の平均(℃)</td>\n",
              "      <td>日平均気温25℃以上日数(日)</td>\n",
              "    </tr>\n",
              "    <tr>\n",
              "      <th>2</th>\n",
              "      <td>1977/8</td>\n",
              "      <td>21.5</td>\n",
              "      <td>26.0</td>\n",
              "      <td>17.9</td>\n",
              "      <td>4</td>\n",
              "      <td>22.9</td>\n",
              "      <td>26.5</td>\n",
              "      <td>19.4</td>\n",
              "      <td>6</td>\n",
              "      <td>21.6</td>\n",
              "      <td>26.0</td>\n",
              "      <td>18.1</td>\n",
              "      <td>4</td>\n",
              "      <td>22.9</td>\n",
              "      <td>27.6</td>\n",
              "      <td>19.2</td>\n",
              "      <td>6</td>\n",
              "      <td>22.7</td>\n",
              "      <td>26.1</td>\n",
              "      <td>20.2</td>\n",
              "      <td>6</td>\n",
              "      <td>23.3</td>\n",
              "      <td>27.3</td>\n",
              "      <td>20.2</td>\n",
              "      <td>10</td>\n",
              "      <td>23.1</td>\n",
              "      <td>26.9</td>\n",
              "      <td>20.1</td>\n",
              "      <td>8</td>\n",
              "      <td>23.2</td>\n",
              "      <td>27.0</td>\n",
              "      <td>20.1</td>\n",
              "      <td>7</td>\n",
              "      <td>0</td>\n",
              "      <td>0</td>\n",
              "      <td>0</td>\n",
              "      <td>0</td>\n",
              "      <td>23.9</td>\n",
              "      <td>27.8</td>\n",
              "      <td>20.8</td>\n",
              "      <td>11</td>\n",
              "      <td>24.5</td>\n",
              "      <td>29.1</td>\n",
              "      <td>21.4</td>\n",
              "      <td>12</td>\n",
              "      <td>24.3</td>\n",
              "      <td>27.5</td>\n",
              "      <td>21.5</td>\n",
              "      <td>13</td>\n",
              "      <td>25.0</td>\n",
              "      <td>28.4</td>\n",
              "      <td>22.3</td>\n",
              "      <td>19</td>\n",
              "      <td>24.4</td>\n",
              "      <td>27.7</td>\n",
              "      <td>21.8</td>\n",
              "      <td>15</td>\n",
              "    </tr>\n",
              "    <tr>\n",
              "      <th>3</th>\n",
              "      <td>1978/8</td>\n",
              "      <td>24.0</td>\n",
              "      <td>29.2</td>\n",
              "      <td>19.6</td>\n",
              "      <td>11</td>\n",
              "      <td>25.3</td>\n",
              "      <td>29.4</td>\n",
              "      <td>21.6</td>\n",
              "      <td>20</td>\n",
              "      <td>24.3</td>\n",
              "      <td>29.8</td>\n",
              "      <td>19.6</td>\n",
              "      <td>13</td>\n",
              "      <td>25.8</td>\n",
              "      <td>31.8</td>\n",
              "      <td>20.8</td>\n",
              "      <td>19</td>\n",
              "      <td>25.6</td>\n",
              "      <td>29.8</td>\n",
              "      <td>22.0</td>\n",
              "      <td>19</td>\n",
              "      <td>26.6</td>\n",
              "      <td>32.2</td>\n",
              "      <td>22.0</td>\n",
              "      <td>23</td>\n",
              "      <td>26.6</td>\n",
              "      <td>32.3</td>\n",
              "      <td>22.0</td>\n",
              "      <td>25</td>\n",
              "      <td>26.6</td>\n",
              "      <td>32.2</td>\n",
              "      <td>22.2</td>\n",
              "      <td>25</td>\n",
              "      <td>27.6</td>\n",
              "      <td>33.0</td>\n",
              "      <td>23.0</td>\n",
              "      <td>29</td>\n",
              "      <td>27.7</td>\n",
              "      <td>33.7</td>\n",
              "      <td>22.8</td>\n",
              "      <td>29</td>\n",
              "      <td>27.1</td>\n",
              "      <td>33.7</td>\n",
              "      <td>22.3</td>\n",
              "      <td>30</td>\n",
              "      <td>27.9</td>\n",
              "      <td>31.6</td>\n",
              "      <td>24.8</td>\n",
              "      <td>30</td>\n",
              "      <td>28.9</td>\n",
              "      <td>33.0</td>\n",
              "      <td>25.6</td>\n",
              "      <td>31</td>\n",
              "      <td>27.8</td>\n",
              "      <td>32.1</td>\n",
              "      <td>24.8</td>\n",
              "      <td>31</td>\n",
              "    </tr>\n",
              "    <tr>\n",
              "      <th>4</th>\n",
              "      <td>1979/8</td>\n",
              "      <td>22.6</td>\n",
              "      <td>27.6</td>\n",
              "      <td>18.0</td>\n",
              "      <td>5</td>\n",
              "      <td>24.0</td>\n",
              "      <td>28.2</td>\n",
              "      <td>20.0</td>\n",
              "      <td>8</td>\n",
              "      <td>22.9</td>\n",
              "      <td>28.1</td>\n",
              "      <td>18.1</td>\n",
              "      <td>8</td>\n",
              "      <td>24.5</td>\n",
              "      <td>30.0</td>\n",
              "      <td>19.9</td>\n",
              "      <td>14</td>\n",
              "      <td>24.9</td>\n",
              "      <td>28.9</td>\n",
              "      <td>21.6</td>\n",
              "      <td>14</td>\n",
              "      <td>25.4</td>\n",
              "      <td>30.6</td>\n",
              "      <td>21.5</td>\n",
              "      <td>20</td>\n",
              "      <td>25.4</td>\n",
              "      <td>29.7</td>\n",
              "      <td>22.0</td>\n",
              "      <td>22</td>\n",
              "      <td>25.5</td>\n",
              "      <td>30.0</td>\n",
              "      <td>22.1</td>\n",
              "      <td>20</td>\n",
              "      <td>26.2</td>\n",
              "      <td>30.3</td>\n",
              "      <td>23.0</td>\n",
              "      <td>23</td>\n",
              "      <td>26.0</td>\n",
              "      <td>30.8</td>\n",
              "      <td>22.4</td>\n",
              "      <td>22</td>\n",
              "      <td>25.9</td>\n",
              "      <td>31.6</td>\n",
              "      <td>22.2</td>\n",
              "      <td>21</td>\n",
              "      <td>26.7</td>\n",
              "      <td>30.2</td>\n",
              "      <td>24.0</td>\n",
              "      <td>26</td>\n",
              "      <td>27.4</td>\n",
              "      <td>31.0</td>\n",
              "      <td>24.6</td>\n",
              "      <td>27</td>\n",
              "      <td>26.6</td>\n",
              "      <td>30.5</td>\n",
              "      <td>24.0</td>\n",
              "      <td>25</td>\n",
              "    </tr>\n",
              "    <tr>\n",
              "      <th>5</th>\n",
              "      <td>1980/8</td>\n",
              "      <td>19.6</td>\n",
              "      <td>23.5</td>\n",
              "      <td>16.2</td>\n",
              "      <td>0</td>\n",
              "      <td>22.3</td>\n",
              "      <td>26.5</td>\n",
              "      <td>18.7</td>\n",
              "      <td>1</td>\n",
              "      <td>19.8</td>\n",
              "      <td>24.3</td>\n",
              "      <td>16.0</td>\n",
              "      <td>0</td>\n",
              "      <td>21.3</td>\n",
              "      <td>26.0</td>\n",
              "      <td>17.6</td>\n",
              "      <td>0</td>\n",
              "      <td>20.1</td>\n",
              "      <td>22.9</td>\n",
              "      <td>17.9</td>\n",
              "      <td>0</td>\n",
              "      <td>21.0</td>\n",
              "      <td>24.6</td>\n",
              "      <td>18.2</td>\n",
              "      <td>0</td>\n",
              "      <td>21.3</td>\n",
              "      <td>25.1</td>\n",
              "      <td>18.5</td>\n",
              "      <td>2</td>\n",
              "      <td>22.1</td>\n",
              "      <td>26.2</td>\n",
              "      <td>19.2</td>\n",
              "      <td>1</td>\n",
              "      <td>22.8</td>\n",
              "      <td>26.3</td>\n",
              "      <td>20.0</td>\n",
              "      <td>5</td>\n",
              "      <td>22.6</td>\n",
              "      <td>26.3</td>\n",
              "      <td>19.9</td>\n",
              "      <td>5</td>\n",
              "      <td>24.2</td>\n",
              "      <td>28.9</td>\n",
              "      <td>21.1</td>\n",
              "      <td>6</td>\n",
              "      <td>22.6</td>\n",
              "      <td>26.1</td>\n",
              "      <td>20.0</td>\n",
              "      <td>4</td>\n",
              "      <td>23.4</td>\n",
              "      <td>26.6</td>\n",
              "      <td>20.7</td>\n",
              "      <td>8</td>\n",
              "      <td>23.0</td>\n",
              "      <td>26.3</td>\n",
              "      <td>20.6</td>\n",
              "      <td>5</td>\n",
              "    </tr>\n",
              "  </tbody>\n",
              "</table>\n",
              "</div>"
            ],
            "text/plain": [
              "  Unnamed: 0       青森         青森.3  ...         横浜.3         横浜.6             横浜.9\n",
              "0         年月  平均気温(℃)  日最高気温の平均(℃)  ...  日最高気温の平均(℃)  日最低気温の平均(℃)  日平均気温25℃以上日数(日)\n",
              "2     1977/8     21.5         26.0  ...         27.7         21.8               15\n",
              "3     1978/8     24.0         29.2  ...         32.1         24.8               31\n",
              "4     1979/8     22.6         27.6  ...         30.5         24.0               25\n",
              "5     1980/8     19.6         23.5  ...         26.3         20.6                5\n",
              "\n",
              "[5 rows x 57 columns]"
            ]
          },
          "metadata": {
            "tags": []
          },
          "execution_count": 2
        }
      ]
    },
    {
      "cell_type": "code",
      "metadata": {
        "id": "Ist_DChF6oG-",
        "colab_type": "code",
        "outputId": "afe309cd-bb66-47e5-e84f-beb117ab9d44",
        "colab": {
          "base_uri": "https://localhost:8080/",
          "height": 204
        }
      },
      "source": [
        "# グラフ表示するためにローマ字ラベルを作っておく\n",
        "all_city_list = (['Aomori', 'Akita', 'Morioka', 'Yamagata', 'Sendai', 'Fukushima', 'Mito', 'Utsunomiya', 'Saitama', 'Maebashi', 'Kofu', 'Chiba', 'Tokyo', 'Yokohama'])\n",
        "\n",
        "# 盛岡，甲府，横浜を選ぶ\n",
        "choosed_cities = (['Morioka', 'Kofu', 'Yokohama'])\n",
        "\n",
        "# 選んだ都市の\n",
        "# average_temp: 8月の平均気温\n",
        "# max_average_temp: 8月の最高気温の月平均\n",
        "# min_avaerage_temp: 8月の最低気温の月平均\n",
        "# num_of_days_25over: \n",
        "# として，それぞれ42年分を，1つ配列としてくっつける\n",
        "\n",
        "# 選んだ3都市の42年分のラベルを繋げておく　(42年分*3都市)\n",
        "city_label = np.array(choosed_cities)\n",
        "city_label = np.repeat(city_label, 42)\n",
        "\n",
        "# データをつなげる\n",
        "# まず最初に空の配列を作っておいて，\n",
        "average_temp = np.array([])\n",
        "max_average_temp = np.array([])\n",
        "min_average_temp = np.array([])\n",
        "num_of_days_25over = np.array([])\n",
        "\n",
        "# 選んだ都市の，8月の平均気温，最高気温の月平均，最低気温の月平均，25度を超えた日数を\n",
        "# それぞれ1つの配列につなぐ\n",
        "for a_city in choosed_cities:\n",
        "  i = all_city_list.index(a_city)\n",
        "  average_temp = np.concatenate((average_temp, df.iloc[1:, 1+i*4]))\n",
        "  max_average_temp = np.concatenate((max_average_temp, df.iloc[1:, 1+i*4+1]))\n",
        "  min_average_temp = np.concatenate((min_average_temp, df.iloc[1:, 1+i*4+2]))\n",
        "  num_of_days_25over = np.concatenate((num_of_days_25over, df.iloc[1:, 1+i*4+3]))\n",
        "\n",
        "# vstackで重ねて，配列の次元を入れ替えて，DataFrameにしておく\n",
        "df_X1 = pd.DataFrame(np.vstack([city_label, average_temp, max_average_temp, min_average_temp, num_of_days_25over]).transpose())\n",
        "# DataFrameの列名をつけておく\n",
        "df_X1 = df_X1.rename(columns={0: '都市名', 1:'8月の平均気温', 2:'8月の日最高気温の月平均', 3:'8月の日最低気温の月平均', 4:'25度を超えた日数'})\n",
        "# DataFrameの冒頭を確認\n",
        "df_X1.head()"
      ],
      "execution_count": 3,
      "outputs": [
        {
          "output_type": "execute_result",
          "data": {
            "text/html": [
              "<div>\n",
              "<style scoped>\n",
              "    .dataframe tbody tr th:only-of-type {\n",
              "        vertical-align: middle;\n",
              "    }\n",
              "\n",
              "    .dataframe tbody tr th {\n",
              "        vertical-align: top;\n",
              "    }\n",
              "\n",
              "    .dataframe thead th {\n",
              "        text-align: right;\n",
              "    }\n",
              "</style>\n",
              "<table border=\"1\" class=\"dataframe\">\n",
              "  <thead>\n",
              "    <tr style=\"text-align: right;\">\n",
              "      <th></th>\n",
              "      <th>都市名</th>\n",
              "      <th>8月の平均気温</th>\n",
              "      <th>8月の日最高気温の月平均</th>\n",
              "      <th>8月の日最低気温の月平均</th>\n",
              "      <th>25度を超えた日数</th>\n",
              "    </tr>\n",
              "  </thead>\n",
              "  <tbody>\n",
              "    <tr>\n",
              "      <th>0</th>\n",
              "      <td>Morioka</td>\n",
              "      <td>21.6</td>\n",
              "      <td>26.0</td>\n",
              "      <td>18.1</td>\n",
              "      <td>4</td>\n",
              "    </tr>\n",
              "    <tr>\n",
              "      <th>1</th>\n",
              "      <td>Morioka</td>\n",
              "      <td>24.3</td>\n",
              "      <td>29.8</td>\n",
              "      <td>19.6</td>\n",
              "      <td>13</td>\n",
              "    </tr>\n",
              "    <tr>\n",
              "      <th>2</th>\n",
              "      <td>Morioka</td>\n",
              "      <td>22.9</td>\n",
              "      <td>28.1</td>\n",
              "      <td>18.1</td>\n",
              "      <td>8</td>\n",
              "    </tr>\n",
              "    <tr>\n",
              "      <th>3</th>\n",
              "      <td>Morioka</td>\n",
              "      <td>19.8</td>\n",
              "      <td>24.3</td>\n",
              "      <td>16.0</td>\n",
              "      <td>0</td>\n",
              "    </tr>\n",
              "    <tr>\n",
              "      <th>4</th>\n",
              "      <td>Morioka</td>\n",
              "      <td>21.9</td>\n",
              "      <td>26.6</td>\n",
              "      <td>18.1</td>\n",
              "      <td>3</td>\n",
              "    </tr>\n",
              "  </tbody>\n",
              "</table>\n",
              "</div>"
            ],
            "text/plain": [
              "       都市名 8月の平均気温 8月の日最高気温の月平均 8月の日最低気温の月平均 25度を超えた日数\n",
              "0  Morioka    21.6         26.0         18.1         4\n",
              "1  Morioka    24.3         29.8         19.6        13\n",
              "2  Morioka    22.9         28.1         18.1         8\n",
              "3  Morioka    19.8         24.3         16.0         0\n",
              "4  Morioka    21.9         26.6         18.1         3"
            ]
          },
          "metadata": {
            "tags": []
          },
          "execution_count": 3
        }
      ]
    },
    {
      "cell_type": "code",
      "metadata": {
        "id": "5nG8LWHV6s7P",
        "colab_type": "code",
        "outputId": "1ea8dcbe-b352-40b1-8679-eb8470de6c06",
        "colab": {
          "base_uri": "https://localhost:8080/",
          "height": 803
        }
      },
      "source": [
        "# 生データを散布図でプロットしてみる\n",
        "# 説明変数が4つで2次元に表示するためには，6通りのxとyの組み合わせがあるが，とりあえず3つだけ\n",
        "import matplotlib.pyplot as plt\n",
        "\n",
        "# 都市名ラベルの0番目を除いた説明変数4つ分で3つのグラフを描く\n",
        "for i in range(1, 4, 1):\n",
        "  for j, a_city in enumerate(choosed_cities):\n",
        "    # 3都市分\n",
        "    x = df_X1.iloc[j*42:(j+1)*42, i].astype(np.float32)\n",
        "    y = df_X1.iloc[j*42:(j+1)*42, i+1].astype(np.float32)\n",
        "    plt.scatter(x, y, label=a_city)\n",
        "  if i==1:\n",
        "    plt.xlabel('Ave. of Temp in Aug.')\n",
        "    plt.ylabel('Ave. of Max Temp. in Aug')\n",
        "  elif i==2:\n",
        "    plt.xlabel('Ave. of Max Temp. in Aug')\n",
        "    plt.ylabel('Ave. of Min Temp. in Aug')\n",
        "  else:\n",
        "    plt.xlabel('Ave. of Min Temp. in Aug')\n",
        "    plt.ylabel('Count of over 25 deg in Aug')\n",
        "  plt.legend()\n",
        "  plt.show()"
      ],
      "execution_count": 4,
      "outputs": [
        {
          "output_type": "display_data",
          "data": {
            "image/png": "[encoded data removed]",
            "text/plain": [
              "<Figure size 432x288 with 1 Axes>"
            ]
          },
          "metadata": {
            "tags": []
          }
        },
        {
          "output_type": "display_data",
          "data": {
            "image/png": "[encoded data removed]",
            "text/plain": [
              "<Figure size 432x288 with 1 Axes>"
            ]
          },
          "metadata": {
            "tags": []
          }
        },
        {
          "output_type": "display_data",
          "data": {
            "image/png": "[encoded data removed]",
            "text/plain": [
              "<Figure size 432x288 with 1 Axes>"
            ]
          },
          "metadata": {
            "tags": []
          }
        }
      ]
    },
    {
      "cell_type": "markdown",
      "metadata": {
        "id": "5PAljE767HhI",
        "colab_type": "text"
      },
      "source": [
        "横浜が多少分離してみるが，盛岡と甲府が混在しているように見える．"
      ]
    },
    {
      "cell_type": "code",
      "metadata": {
        "id": "fcV82Cf96zml",
        "colab_type": "code",
        "outputId": "8f1e3974-5ca2-4e55-8346-c0b427f8aedf",
        "colab": {
          "base_uri": "https://localhost:8080/",
          "height": 279
        }
      },
      "source": [
        "from sklearn.decomposition import PCA\n",
        "from sklearn.preprocessing import StandardScaler\n",
        "\n",
        "# 標準化する\n",
        "scaler = StandardScaler()\n",
        "df_X2 = scaler.fit_transform(df_X1.iloc[:, 1:])\n",
        "\n",
        "# 合成変数を2次元で作る\n",
        "pca_model = PCA(n_components=2)\n",
        "pca_model.fit(df_X2)\n",
        "# 変換行列ができたので，多次元の説明変数を2次元の合成変数に変換する\n",
        "transformed_variables = pca_model.transform(df_X1.iloc[:, 1:])\n",
        "# 使いやすいようにデータフレーム化しておく\n",
        "transformed_df = pd.DataFrame(transformed_variables)\n",
        "# 合成変数2つの散布図を描く\n",
        "for i, a_city in enumerate(choosed_cities):\n",
        "  plt.scatter(transformed_df.iloc[i*42:(i+1)*42, 0], transformed_df.iloc[i*42:(i+1)*42, 1], label=a_city)\n",
        "plt.xlabel('Principal Component 0')\n",
        "plt.ylabel('Principal Component 1')\n",
        "plt.legend()\n",
        "plt.show()"
      ],
      "execution_count": 6,
      "outputs": [
        {
          "output_type": "display_data",
          "data": {
            "image/png": "[encoded data removed]",
            "text/plain": [
              "<Figure size 432x288 with 1 Axes>"
            ]
          },
          "metadata": {
            "tags": []
          }
        }
      ]
    },
    {
      "cell_type": "markdown",
      "metadata": {
        "id": "0qgKIVHR7c09",
        "colab_type": "text"
      },
      "source": [
        "元の説明変数の状態のままプロットしても，全て相関係数が高いため，うまく分離できなかった．主成分分析を行い2説明変数へ合成したところ，分離して見えるようになった．"
      ]
    },
    {
      "cell_type": "code",
      "metadata": {
        "id": "_PpEHllo607p",
        "colab_type": "code",
        "outputId": "7636f974-4794-4200-8272-ba9bac476ce0",
        "colab": {
          "base_uri": "https://localhost:8080/",
          "height": 85
        }
      },
      "source": [
        "# 寄与率の表示\n",
        "print(pca_model.explained_variance_ratio_)\n",
        "# 相関係数の表示\n",
        "print(transformed_df.corr())"
      ],
      "execution_count": 0,
      "outputs": [
        {
          "output_type": "stream",
          "text": [
            "[0.97995861 0.01258219]\n",
            "              0             1\n",
            "0  1.000000e+00 -1.182588e-15\n",
            "1 -1.182588e-15  1.000000e+00\n"
          ],
          "name": "stdout"
        }
      ]
    },
    {
      "cell_type": "code",
      "metadata": {
        "id": "uPu4GjC87rpk",
        "colab_type": "code",
        "outputId": "c643879a-e7d5-4fe5-ac6f-8a83049f628e",
        "colab": {
          "base_uri": "https://localhost:8080/",
          "height": 204
        }
      },
      "source": [
        "# 元々の変数，合成変数を，それぞれロジスティック回帰して，盛岡か甲府かを判別する\n",
        "# https://qiita.com/yshi12/items/3dbd336bd9ff7a426ce9\n",
        "\n",
        "# 元の観測データから盛岡と甲府の部分を取り出し，0列目の都市名ラベルを0と1に入れ替える\n",
        "# その要素の有無で0と1の2値で表現される変数を「ダミー変数」と呼ぶ\n",
        "# 0, 1, 2, 3...などの状態が複数あり，かつその数字が大小の意味を持ってない場合は，カテゴリ変数と呼ぶ\n",
        "# カテゴリ変数は判別問題などで扱えないので，\n",
        "# カテゴリ変数で表現している内容を，要素に分けて，要素の有無で表現，つまり複数のダミー変数に直す\n",
        "\n",
        "# 今回は盛岡であるかないかを判別するので，ダミー変数1つ\n",
        "# Morioka: 0, Kofu: 1\n",
        "# で表現可能\n",
        "# 横浜の42年分を取り除いて盛岡と甲府だけにする\n",
        "df_morioka_kofu = df_X1.iloc[:(42*2), :]\n",
        "# 都市名列の都市名ラベルをダミー変数化する\n",
        "df_morioka_kofu_in_dummy = df_morioka_kofu.replace({'Morioka':0, 'Kofu':1})\n",
        "df_morioka_kofu_in_dummy = df_morioka_kofu_in_dummy.rename(columns={'都市名':'都市名ラベルダミー変数'})\n",
        "df_morioka_kofu_in_dummy.head()"
      ],
      "execution_count": 0,
      "outputs": [
        {
          "output_type": "execute_result",
          "data": {
            "text/html": [
              "<div>\n",
              "<style scoped>\n",
              "    .dataframe tbody tr th:only-of-type {\n",
              "        vertical-align: middle;\n",
              "    }\n",
              "\n",
              "    .dataframe tbody tr th {\n",
              "        vertical-align: top;\n",
              "    }\n",
              "\n",
              "    .dataframe thead th {\n",
              "        text-align: right;\n",
              "    }\n",
              "</style>\n",
              "<table border=\"1\" class=\"dataframe\">\n",
              "  <thead>\n",
              "    <tr style=\"text-align: right;\">\n",
              "      <th></th>\n",
              "      <th>都市名ラベルダミー変数</th>\n",
              "      <th>8月の平均気温</th>\n",
              "      <th>8月の日最高気温の月平均</th>\n",
              "      <th>8月の日最低気温の月平均</th>\n",
              "      <th>25度を超えた日数</th>\n",
              "    </tr>\n",
              "  </thead>\n",
              "  <tbody>\n",
              "    <tr>\n",
              "      <th>0</th>\n",
              "      <td>0</td>\n",
              "      <td>21.6</td>\n",
              "      <td>26.0</td>\n",
              "      <td>18.1</td>\n",
              "      <td>4</td>\n",
              "    </tr>\n",
              "    <tr>\n",
              "      <th>1</th>\n",
              "      <td>0</td>\n",
              "      <td>24.3</td>\n",
              "      <td>29.8</td>\n",
              "      <td>19.6</td>\n",
              "      <td>13</td>\n",
              "    </tr>\n",
              "    <tr>\n",
              "      <th>2</th>\n",
              "      <td>0</td>\n",
              "      <td>22.9</td>\n",
              "      <td>28.1</td>\n",
              "      <td>18.1</td>\n",
              "      <td>8</td>\n",
              "    </tr>\n",
              "    <tr>\n",
              "      <th>3</th>\n",
              "      <td>0</td>\n",
              "      <td>19.8</td>\n",
              "      <td>24.3</td>\n",
              "      <td>16.0</td>\n",
              "      <td>0</td>\n",
              "    </tr>\n",
              "    <tr>\n",
              "      <th>4</th>\n",
              "      <td>0</td>\n",
              "      <td>21.9</td>\n",
              "      <td>26.6</td>\n",
              "      <td>18.1</td>\n",
              "      <td>3</td>\n",
              "    </tr>\n",
              "  </tbody>\n",
              "</table>\n",
              "</div>"
            ],
            "text/plain": [
              "   都市名ラベルダミー変数 8月の平均気温 8月の日最高気温の月平均 8月の日最低気温の月平均 25度を超えた日数\n",
              "0            0    21.6         26.0         18.1         4\n",
              "1            0    24.3         29.8         19.6        13\n",
              "2            0    22.9         28.1         18.1         8\n",
              "3            0    19.8         24.3         16.0         0\n",
              "4            0    21.9         26.6         18.1         3"
            ]
          },
          "metadata": {
            "tags": []
          },
          "execution_count": 159
        }
      ]
    },
    {
      "cell_type": "code",
      "metadata": {
        "id": "MFJsxJr2BDLL",
        "colab_type": "code",
        "outputId": "b88f6223-fd89-4d8f-f604-7329b3b3c32c",
        "colab": {
          "base_uri": "https://localhost:8080/",
          "height": 204
        }
      },
      "source": [
        "# 主成分分析した状態のも作っておく\n",
        "# fitするときに，都市名ラベル列を取り除くのを忘れないように\n",
        "# 主成分分析の対象となるのは，説明変数だけなので\n",
        "from sklearn.decomposition import PCA\n",
        "pca_model = PCA(n_components=2)\n",
        "pca_model.fit(df_morioka_kofu.iloc[:, 1:])\n",
        "# 主成分分析のデータフレーム\n",
        "df_transformed_morioka_kofu = pd.DataFrame(pca_model.transform(df_morioka_kofu.iloc[:, 1:]), columns=['主成分0', '主成分1'])\n",
        "# ダミー変数化した都市名列を再び入れる\n",
        "city_label_in_dummy = np.repeat(np.array([0, 1]), 42)\n",
        "df_transformed_morioka_kofu.insert(0, '都市名ラベルダミー変数', city_label_in_dummy)\n",
        "df_transformed_morioka_kofu.head()"
      ],
      "execution_count": 0,
      "outputs": [
        {
          "output_type": "execute_result",
          "data": {
            "text/html": [
              "<div>\n",
              "<style scoped>\n",
              "    .dataframe tbody tr th:only-of-type {\n",
              "        vertical-align: middle;\n",
              "    }\n",
              "\n",
              "    .dataframe tbody tr th {\n",
              "        vertical-align: top;\n",
              "    }\n",
              "\n",
              "    .dataframe thead th {\n",
              "        text-align: right;\n",
              "    }\n",
              "</style>\n",
              "<table border=\"1\" class=\"dataframe\">\n",
              "  <thead>\n",
              "    <tr style=\"text-align: right;\">\n",
              "      <th></th>\n",
              "      <th>都市名ラベルダミー変数</th>\n",
              "      <th>主成分0</th>\n",
              "      <th>主成分1</th>\n",
              "    </tr>\n",
              "  </thead>\n",
              "  <tbody>\n",
              "    <tr>\n",
              "      <th>0</th>\n",
              "      <td>0</td>\n",
              "      <td>14.906151</td>\n",
              "      <td>-0.957154</td>\n",
              "    </tr>\n",
              "    <tr>\n",
              "      <th>1</th>\n",
              "      <td>0</td>\n",
              "      <td>4.775870</td>\n",
              "      <td>0.091436</td>\n",
              "    </tr>\n",
              "    <tr>\n",
              "      <th>2</th>\n",
              "      <td>0</td>\n",
              "      <td>10.402831</td>\n",
              "      <td>-0.548667</td>\n",
              "    </tr>\n",
              "    <tr>\n",
              "      <th>3</th>\n",
              "      <td>0</td>\n",
              "      <td>19.791824</td>\n",
              "      <td>-2.475467</td>\n",
              "    </tr>\n",
              "    <tr>\n",
              "      <th>4</th>\n",
              "      <td>0</td>\n",
              "      <td>15.625310</td>\n",
              "      <td>-0.087743</td>\n",
              "    </tr>\n",
              "  </tbody>\n",
              "</table>\n",
              "</div>"
            ],
            "text/plain": [
              "   都市名ラベルダミー変数       主成分0      主成分1\n",
              "0            0  14.906151 -0.957154\n",
              "1            0   4.775870  0.091436\n",
              "2            0  10.402831 -0.548667\n",
              "3            0  19.791824 -2.475467\n",
              "4            0  15.625310 -0.087743"
            ]
          },
          "metadata": {
            "tags": []
          },
          "execution_count": 160
        }
      ]
    },
    {
      "cell_type": "code",
      "metadata": {
        "id": "m_oeJMoR7VNU",
        "colab_type": "code",
        "outputId": "c8a4c75f-8602-4aa8-9a5b-dfdf53a47edb",
        "colab": {
          "base_uri": "https://localhost:8080/",
          "height": 261
        }
      },
      "source": [
        "from sklearn.linear_model import LogisticRegression\n",
        "from sklearn.model_selection import train_test_split\n",
        "from sklearn import metrics\n",
        "\n",
        "# まず，元々の観測データをロジスティック回帰する\n",
        "# 本当は相関が高い説明変数間に発生する「多重共線性」の問題があるので，やってはいけない\n",
        "\n",
        "# ロジスティック回帰はXは説明変数多数の行列，Yは0or1が入った1次元配列を取る\n",
        "y_whole = df_morioka_kofu_in_dummy.iloc[:, 0].values\n",
        "x_whole = df_morioka_kofu_in_dummy.iloc[:, 1:].values\n",
        "# yを1次元配列にする\n",
        "y_whole = np.ravel(y_whole)\n",
        "print('Xのshape', x_whole.shape, 'Yのshape', y_whole.shape)\n",
        "\n",
        "# 訓練データとテストデータに分ける\n",
        "x_train, x_test, y_train, y_test = train_test_split(x_whole, y_whole)\n",
        "\n",
        "# X, Yの訓練データで学習する\n",
        "log_model = LogisticRegression()\n",
        "log_model.fit(x_train, y_train)\n",
        "\n",
        "# 学習済みのモデルにXテストデータをつっこみ，Yを予測し，観測データと比較\n",
        "y_predict = log_model.predict(x_test)\n",
        "accuracy_score = metrics.accuracy_score(y_test, y_predict)\n",
        "print('4変数のときの正答率:', accuracy_score)\n",
        "\n",
        "coef_df = pd.DataFrame([df_morioka_kofu.columns[1:], log_model.coef_[0]]).T\n",
        "# 係数がこの中に入っている．この係数で表される4次元空間の平面で切るとうまく分類できる，という意味\n",
        "coef_df"
      ],
      "execution_count": 0,
      "outputs": [
        {
          "output_type": "stream",
          "text": [
            "Xのshape (84, 4) Yのshape (84,)\n",
            "4変数のときの正答率: 0.9047619047619048\n"
          ],
          "name": "stdout"
        },
        {
          "output_type": "stream",
          "text": [
            "/usr/local/lib/python3.6/dist-packages/sklearn/linear_model/logistic.py:432: FutureWarning: Default solver will be changed to 'lbfgs' in 0.22. Specify a solver to silence this warning.\n",
            "  FutureWarning)\n"
          ],
          "name": "stderr"
        },
        {
          "output_type": "execute_result",
          "data": {
            "text/html": [
              "<div>\n",
              "<style scoped>\n",
              "    .dataframe tbody tr th:only-of-type {\n",
              "        vertical-align: middle;\n",
              "    }\n",
              "\n",
              "    .dataframe tbody tr th {\n",
              "        vertical-align: top;\n",
              "    }\n",
              "\n",
              "    .dataframe thead th {\n",
              "        text-align: right;\n",
              "    }\n",
              "</style>\n",
              "<table border=\"1\" class=\"dataframe\">\n",
              "  <thead>\n",
              "    <tr style=\"text-align: right;\">\n",
              "      <th></th>\n",
              "      <th>0</th>\n",
              "      <th>1</th>\n",
              "    </tr>\n",
              "  </thead>\n",
              "  <tbody>\n",
              "    <tr>\n",
              "      <th>0</th>\n",
              "      <td>8月の平均気温</td>\n",
              "      <td>-0.716262</td>\n",
              "    </tr>\n",
              "    <tr>\n",
              "      <th>1</th>\n",
              "      <td>8月の日最高気温の月平均</td>\n",
              "      <td>-0.41629</td>\n",
              "    </tr>\n",
              "    <tr>\n",
              "      <th>2</th>\n",
              "      <td>8月の日最低気温の月平均</td>\n",
              "      <td>1.16353</td>\n",
              "    </tr>\n",
              "    <tr>\n",
              "      <th>3</th>\n",
              "      <td>25度を超えた日数</td>\n",
              "      <td>0.335882</td>\n",
              "    </tr>\n",
              "  </tbody>\n",
              "</table>\n",
              "</div>"
            ],
            "text/plain": [
              "              0         1\n",
              "0       8月の平均気温 -0.716262\n",
              "1  8月の日最高気温の月平均  -0.41629\n",
              "2  8月の日最低気温の月平均   1.16353\n",
              "3     25度を超えた日数  0.335882"
            ]
          },
          "metadata": {
            "tags": []
          },
          "execution_count": 161
        }
      ]
    },
    {
      "cell_type": "code",
      "metadata": {
        "colab_type": "code",
        "id": "EBb4gtWFD2vH",
        "colab": {}
      },
      "source": [
        ""
      ],
      "execution_count": 0,
      "outputs": []
    },
    {
      "cell_type": "code",
      "metadata": {
        "id": "i0H2q-AsH5WD",
        "colab_type": "code",
        "outputId": "81628d01-e473-4dc7-ed3c-c33ce60b8416",
        "colab": {
          "base_uri": "https://localhost:8080/",
          "height": 442
        }
      },
      "source": [
        "# 次に，主成分分析した結果をロジスティック回帰する\n",
        "\n",
        "y_whole_tf = df_transformed_morioka_kofu.iloc[:, 0].values\n",
        "x_whole_tf = df_transformed_morioka_kofu.iloc[:, 1:].values\n",
        "\n",
        "plt.scatter(df_transformed_morioka_kofu.iloc[:42, 1], df_transformed_morioka_kofu.iloc[:42, 2], label='Morioka')\n",
        "plt.scatter(df_transformed_morioka_kofu.iloc[42:, 1], df_transformed_morioka_kofu.iloc[42:, 2], label='Kofu')\n",
        "\n",
        "\n",
        "y_whole_tf = np.ravel(y_whole_tf)\n",
        "print('Xのshape', x_whole_tf.shape, 'Yのshape', y_whole_tf.shape)\n",
        "\n",
        "x_train_tf, x_test_tf, y_train_tf, y_test_tf = train_test_split(x_whole_tf, y_whole_tf)\n",
        "print('X_trainのshape', x_train_tf.shape, 'Y_Trainのshape', y_train_tf.shape)\n",
        "\n",
        "log_model2 = LogisticRegression()\n",
        "log_model2.fit(x_train_tf, y_train_tf)\n",
        "y_predict_tf = log_model2.predict(x_test_tf)\n",
        "accuracy_score = metrics.accuracy_score(y_test_tf, y_predict_tf)\n",
        "print('主成分分析した後の正答率', accuracy_score)\n",
        "\n",
        "coef_df = pd.DataFrame([np.array(['主成分0', '主成分1']), log_model2.coef_[0]]).T\n",
        "print('切片', log_model2.intercept_)\n",
        "print(coef_df)\n",
        "\n",
        "# ロジスティック回帰で求めた直線を引く\n",
        "\n",
        "w = log_model2.coef_[0]\n",
        "a = -w[0] / w[1]\n",
        "xx = np.linspace(-10, 10)\n",
        "yy = a * xx - (log_model2.intercept_[0]) / w[1]\n",
        "\n",
        "plt.plot(xx, yy, linestyle='dashed', color='black')\n",
        "plt.show()"
      ],
      "execution_count": 0,
      "outputs": [
        {
          "output_type": "stream",
          "text": [
            "Xのshape (84, 2) Yのshape (84,)\n",
            "X_trainのshape (63, 2) Y_Trainのshape (63,)\n",
            "主成分分析した後の正答率 0.9047619047619048\n",
            "切片 [-0.51025158]\n",
            "      0         1\n",
            "0  主成分0 -0.381156\n",
            "1  主成分1   1.38082\n"
          ],
          "name": "stdout"
        },
        {
          "output_type": "stream",
          "text": [
            "/usr/local/lib/python3.6/dist-packages/sklearn/linear_model/logistic.py:432: FutureWarning: Default solver will be changed to 'lbfgs' in 0.22. Specify a solver to silence this warning.\n",
            "  FutureWarning)\n"
          ],
          "name": "stderr"
        },
        {
          "output_type": "display_data",
          "data": {
            "image/png": "[encoded data removed]",
            "text/plain": [
              "<Figure size 432x288 with 1 Axes>"
            ]
          },
          "metadata": {
            "tags": []
          }
        }
      ]
    }
  ]
}