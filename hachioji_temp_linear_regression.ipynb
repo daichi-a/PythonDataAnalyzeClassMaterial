{
  "nbformat": 4,
  "nbformat_minor": 0,
  "metadata": {
    "colab": {
      "name": "hachioji-temp-linear-regression.ipynb",
      "provenance": [],
      "collapsed_sections": [],
      "include_colab_link": true
    },
    "kernelspec": {
      "name": "python3",
      "display_name": "Python 3"
    }
  },
  "cells": [
    {
      "cell_type": "markdown",
      "metadata": {
        "id": "view-in-github",
        "colab_type": "text"
      },
      "source": [
        "<a href=\"https://colab.research.google.com/github/daichi-a/PythonDataAnalyzeClassMaterial/blob/master/hachioji_temp_linear_regression.ipynb\" target=\"_parent\"><img src=\"https://colab.research.google.com/assets/colab-badge.svg\" alt=\"Open In Colab\"/></a>"
      ]
    },
    {
      "cell_type": "code",
      "metadata": {
        "id": "bzTMwod4kS76",
        "colab_type": "code",
        "outputId": "cdeba3ec-7eda-4bc1-e619-8e48adb56358",
        "colab": {
          "resources": {
            "http://localhost:8080/nbextensions/google.colab/files.js": {
              "data": "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",
              "ok": true,
              "headers": [
                [
                  "content-type",
                  "application/javascript"
                ]
              ],
              "status": 200,
              "status_text": ""
            }
          },
          "base_uri": "https://localhost:8080/",
          "height": 71
        }
      },
      "source": [
        "from google.colab import files\n",
        "uploaded = files.upload()"
      ],
      "execution_count": 0,
      "outputs": [
        {
          "output_type": "display_data",
          "data": {
            "text/html": [
              "\n",
              "     <input type=\"file\" id=\"files-64e6fa1a-b10d-4fef-84d1-d9b057e4bcc8\" name=\"files[]\" multiple disabled />\n",
              "     <output id=\"result-64e6fa1a-b10d-4fef-84d1-d9b057e4bcc8\">\n",
              "      Upload widget is only available when the cell has been executed in the\n",
              "      current browser session. Please rerun this cell to enable.\n",
              "      </output>\n",
              "      <script src=\"/nbextensions/google.colab/files.js\"></script> "
            ],
            "text/plain": [
              "<IPython.core.display.HTML object>"
            ]
          },
          "metadata": {
            "tags": []
          }
        },
        {
          "output_type": "stream",
          "text": [
            "Saving hachioji-temp-data.csv to hachioji-temp-data.csv\n"
          ],
          "name": "stdout"
        }
      ]
    },
    {
      "cell_type": "code",
      "metadata": {
        "id": "uHgCKxiOlEyL",
        "colab_type": "code",
        "outputId": "dd952379-bb68-4c48-df2a-99cfd7fa6520",
        "colab": {
          "base_uri": "https://localhost:8080/",
          "height": 221
        }
      },
      "source": [
        "import numpy as np\n",
        "import pandas as pd\n",
        "from pandas import Series, DataFrame\n",
        "\n",
        "df = pd.read_csv('hachioji-temp-data.csv', encoding='SHIFT-JIS', header=2)\n",
        "# PandasのDataFrameという形式で読み込まれる\n",
        "# 文字コードはSHIFT-JIS, 官公庁のオープンデータや，歴史が古い企業のデータはエクセルから書き出すものが多いからか，SHIFT-JISが多い．\n",
        "# このheader=2は頭から2行分は不要な情報なので読み飛ばす，という意味\n",
        "\n",
        "df.head()\n",
        "# チェック用として，頭の部分だけ表示\n",
        "\n",
        "# DataFrameでは，この状態で一番上の行が「列の名前」として認識され，操作することができる．\n",
        "# 列の名前になっているので，この行を行番号では操作できなくなる．"
      ],
      "execution_count": 0,
      "outputs": [
        {
          "output_type": "execute_result",
          "data": {
            "text/html": [
              "<div>\n",
              "<style scoped>\n",
              "    .dataframe tbody tr th:only-of-type {\n",
              "        vertical-align: middle;\n",
              "    }\n",
              "\n",
              "    .dataframe tbody tr th {\n",
              "        vertical-align: top;\n",
              "    }\n",
              "\n",
              "    .dataframe thead th {\n",
              "        text-align: right;\n",
              "    }\n",
              "</style>\n",
              "<table border=\"1\" class=\"dataframe\">\n",
              "  <thead>\n",
              "    <tr style=\"text-align: right;\">\n",
              "      <th></th>\n",
              "      <th>年月</th>\n",
              "      <th>日最高気温の平均(℃)</th>\n",
              "      <th>日最高気温の平均(℃).1</th>\n",
              "      <th>日最高気温の平均(℃).2</th>\n",
              "      <th>日最低気温の平均(℃)</th>\n",
              "      <th>日最低気温の平均(℃).1</th>\n",
              "      <th>日最低気温の平均(℃).2</th>\n",
              "      <th>平均気温(℃)</th>\n",
              "      <th>平均気温(℃).1</th>\n",
              "      <th>平均気温(℃).2</th>\n",
              "    </tr>\n",
              "  </thead>\n",
              "  <tbody>\n",
              "    <tr>\n",
              "      <th>0</th>\n",
              "      <td>NaN</td>\n",
              "      <td>NaN</td>\n",
              "      <td>品質情報</td>\n",
              "      <td>均質番号</td>\n",
              "      <td>NaN</td>\n",
              "      <td>品質情報</td>\n",
              "      <td>均質番号</td>\n",
              "      <td>NaN</td>\n",
              "      <td>品質情報</td>\n",
              "      <td>均質番号</td>\n",
              "    </tr>\n",
              "    <tr>\n",
              "      <th>1</th>\n",
              "      <td>1977/8</td>\n",
              "      <td>27.4</td>\n",
              "      <td>5</td>\n",
              "      <td>1</td>\n",
              "      <td>20.8</td>\n",
              "      <td>5</td>\n",
              "      <td>1</td>\n",
              "      <td>23.7</td>\n",
              "      <td>8</td>\n",
              "      <td>1</td>\n",
              "    </tr>\n",
              "    <tr>\n",
              "      <th>2</th>\n",
              "      <td>1978/8</td>\n",
              "      <td>33.1</td>\n",
              "      <td>8</td>\n",
              "      <td>1</td>\n",
              "      <td>22.3</td>\n",
              "      <td>8</td>\n",
              "      <td>1</td>\n",
              "      <td>27.4</td>\n",
              "      <td>8</td>\n",
              "      <td>1</td>\n",
              "    </tr>\n",
              "    <tr>\n",
              "      <th>3</th>\n",
              "      <td>1979/8</td>\n",
              "      <td>30.5</td>\n",
              "      <td>5</td>\n",
              "      <td>1</td>\n",
              "      <td>22.3</td>\n",
              "      <td>5</td>\n",
              "      <td>1</td>\n",
              "      <td>25.9</td>\n",
              "      <td>8</td>\n",
              "      <td>1</td>\n",
              "    </tr>\n",
              "    <tr>\n",
              "      <th>4</th>\n",
              "      <td>1980/8</td>\n",
              "      <td>25.8</td>\n",
              "      <td>8</td>\n",
              "      <td>1</td>\n",
              "      <td>19.5</td>\n",
              "      <td>8</td>\n",
              "      <td>1</td>\n",
              "      <td>22.4</td>\n",
              "      <td>8</td>\n",
              "      <td>1</td>\n",
              "    </tr>\n",
              "  </tbody>\n",
              "</table>\n",
              "</div>"
            ],
            "text/plain": [
              "       年月  日最高気温の平均(℃) 日最高気温の平均(℃).1  ... 平均気温(℃)  平均気温(℃).1 平均気温(℃).2\n",
              "0     NaN          NaN          品質情報  ...     NaN       品質情報      均質番号\n",
              "1  1977/8         27.4             5  ...    23.7          8         1\n",
              "2  1978/8         33.1             8  ...    27.4          8         1\n",
              "3  1979/8         30.5             5  ...    25.9          8         1\n",
              "4  1980/8         25.8             8  ...    22.4          8         1\n",
              "\n",
              "[5 rows x 10 columns]"
            ]
          },
          "metadata": {
            "tags": []
          },
          "execution_count": 5
        }
      ]
    },
    {
      "cell_type": "code",
      "metadata": {
        "id": "QZbihKyqmEJd",
        "colab_type": "code",
        "outputId": "ad075824-776d-452e-a290-b4e795be576a",
        "colab": {
          "base_uri": "https://localhost:8080/",
          "height": 221
        }
      },
      "source": [
        "# 列の名前が入っている行の下に余計なものが一つあったので(行番号0になる)，削除\n",
        "df = df.drop(0)\n",
        "df.head()"
      ],
      "execution_count": 0,
      "outputs": [
        {
          "output_type": "execute_result",
          "data": {
            "text/html": [
              "<div>\n",
              "<style scoped>\n",
              "    .dataframe tbody tr th:only-of-type {\n",
              "        vertical-align: middle;\n",
              "    }\n",
              "\n",
              "    .dataframe tbody tr th {\n",
              "        vertical-align: top;\n",
              "    }\n",
              "\n",
              "    .dataframe thead th {\n",
              "        text-align: right;\n",
              "    }\n",
              "</style>\n",
              "<table border=\"1\" class=\"dataframe\">\n",
              "  <thead>\n",
              "    <tr style=\"text-align: right;\">\n",
              "      <th></th>\n",
              "      <th>年月</th>\n",
              "      <th>日最高気温の平均(℃)</th>\n",
              "      <th>日最高気温の平均(℃).1</th>\n",
              "      <th>日最高気温の平均(℃).2</th>\n",
              "      <th>日最低気温の平均(℃)</th>\n",
              "      <th>日最低気温の平均(℃).1</th>\n",
              "      <th>日最低気温の平均(℃).2</th>\n",
              "      <th>平均気温(℃)</th>\n",
              "      <th>平均気温(℃).1</th>\n",
              "      <th>平均気温(℃).2</th>\n",
              "    </tr>\n",
              "  </thead>\n",
              "  <tbody>\n",
              "    <tr>\n",
              "      <th>1</th>\n",
              "      <td>1977/8</td>\n",
              "      <td>27.4</td>\n",
              "      <td>5</td>\n",
              "      <td>1</td>\n",
              "      <td>20.8</td>\n",
              "      <td>5</td>\n",
              "      <td>1</td>\n",
              "      <td>23.7</td>\n",
              "      <td>8</td>\n",
              "      <td>1</td>\n",
              "    </tr>\n",
              "    <tr>\n",
              "      <th>2</th>\n",
              "      <td>1978/8</td>\n",
              "      <td>33.1</td>\n",
              "      <td>8</td>\n",
              "      <td>1</td>\n",
              "      <td>22.3</td>\n",
              "      <td>8</td>\n",
              "      <td>1</td>\n",
              "      <td>27.4</td>\n",
              "      <td>8</td>\n",
              "      <td>1</td>\n",
              "    </tr>\n",
              "    <tr>\n",
              "      <th>3</th>\n",
              "      <td>1979/8</td>\n",
              "      <td>30.5</td>\n",
              "      <td>5</td>\n",
              "      <td>1</td>\n",
              "      <td>22.3</td>\n",
              "      <td>5</td>\n",
              "      <td>1</td>\n",
              "      <td>25.9</td>\n",
              "      <td>8</td>\n",
              "      <td>1</td>\n",
              "    </tr>\n",
              "    <tr>\n",
              "      <th>4</th>\n",
              "      <td>1980/8</td>\n",
              "      <td>25.8</td>\n",
              "      <td>8</td>\n",
              "      <td>1</td>\n",
              "      <td>19.5</td>\n",
              "      <td>8</td>\n",
              "      <td>1</td>\n",
              "      <td>22.4</td>\n",
              "      <td>8</td>\n",
              "      <td>1</td>\n",
              "    </tr>\n",
              "    <tr>\n",
              "      <th>5</th>\n",
              "      <td>1981/8</td>\n",
              "      <td>29.5</td>\n",
              "      <td>8</td>\n",
              "      <td>1</td>\n",
              "      <td>20.8</td>\n",
              "      <td>8</td>\n",
              "      <td>1</td>\n",
              "      <td>24.9</td>\n",
              "      <td>8</td>\n",
              "      <td>1</td>\n",
              "    </tr>\n",
              "  </tbody>\n",
              "</table>\n",
              "</div>"
            ],
            "text/plain": [
              "       年月  日最高気温の平均(℃) 日最高気温の平均(℃).1  ... 平均気温(℃)  平均気温(℃).1 平均気温(℃).2\n",
              "1  1977/8         27.4             5  ...    23.7          8         1\n",
              "2  1978/8         33.1             8  ...    27.4          8         1\n",
              "3  1979/8         30.5             5  ...    25.9          8         1\n",
              "4  1980/8         25.8             8  ...    22.4          8         1\n",
              "5  1981/8         29.5             8  ...    24.9          8         1\n",
              "\n",
              "[5 rows x 10 columns]"
            ]
          },
          "metadata": {
            "tags": []
          },
          "execution_count": 6
        }
      ]
    },
    {
      "cell_type": "code",
      "metadata": {
        "id": "gP_e_9oBp4Af",
        "colab_type": "code",
        "outputId": "a4775cba-fe4c-4520-e471-db1304753e81",
        "colab": {
          "base_uri": "https://localhost:8080/",
          "height": 204
        }
      },
      "source": [
        "# 「日最高気温の平均(℃)」列のみを抽出\n",
        "# 1次元目の「:」は行のインデックスが「0~ある」だけ\n",
        "df = df.loc[:, ['日最高気温の平均(℃)']]\n",
        "df.head()"
      ],
      "execution_count": 0,
      "outputs": [
        {
          "output_type": "execute_result",
          "data": {
            "text/html": [
              "<div>\n",
              "<style scoped>\n",
              "    .dataframe tbody tr th:only-of-type {\n",
              "        vertical-align: middle;\n",
              "    }\n",
              "\n",
              "    .dataframe tbody tr th {\n",
              "        vertical-align: top;\n",
              "    }\n",
              "\n",
              "    .dataframe thead th {\n",
              "        text-align: right;\n",
              "    }\n",
              "</style>\n",
              "<table border=\"1\" class=\"dataframe\">\n",
              "  <thead>\n",
              "    <tr style=\"text-align: right;\">\n",
              "      <th></th>\n",
              "      <th>日最高気温の平均(℃)</th>\n",
              "    </tr>\n",
              "  </thead>\n",
              "  <tbody>\n",
              "    <tr>\n",
              "      <th>1</th>\n",
              "      <td>27.4</td>\n",
              "    </tr>\n",
              "    <tr>\n",
              "      <th>2</th>\n",
              "      <td>33.1</td>\n",
              "    </tr>\n",
              "    <tr>\n",
              "      <th>3</th>\n",
              "      <td>30.5</td>\n",
              "    </tr>\n",
              "    <tr>\n",
              "      <th>4</th>\n",
              "      <td>25.8</td>\n",
              "    </tr>\n",
              "    <tr>\n",
              "      <th>5</th>\n",
              "      <td>29.5</td>\n",
              "    </tr>\n",
              "  </tbody>\n",
              "</table>\n",
              "</div>"
            ],
            "text/plain": [
              "   日最高気温の平均(℃)\n",
              "1         27.4\n",
              "2         33.1\n",
              "3         30.5\n",
              "4         25.8\n",
              "5         29.5"
            ]
          },
          "metadata": {
            "tags": []
          },
          "execution_count": 7
        }
      ]
    },
    {
      "cell_type": "code",
      "metadata": {
        "id": "qjz35NPGsWgr",
        "colab_type": "code",
        "outputId": "94cc6cc3-f2c7-4dbf-a4cf-8fe5f81bd0c9",
        "colab": {
          "base_uri": "https://localhost:8080/",
          "height": 304
        }
      },
      "source": [
        "# 説明変数は，その西暦年年にする\n",
        "# 今は説明変数が「西暦年」1つなので，西暦年1次元のNumpy配列(1977~2018)を作る．\n",
        "# np.arange(a, b)は，aからb-1までの整数のNumpy配列を作る関数\n",
        "# 重回帰分析をするためには，複数の説明変数が必要となるので，基本2次元配列を取ることになる．\n",
        "# そこでreshape(42, 1)を使って，無理やり2次元のNumpy配列にして格納する．\n",
        "X = np.arange(1977, 2019).reshape(42, 1)\n",
        "\n",
        "# 目的変数を 「日最高気温の平均(℃)」にする\n",
        "#printすると，なぜかケツにNanが入っていることがあるのでので，これを取り除く\n",
        "y_temp = np.logical_not(pd.isnull(df))\n",
        "mask = np.logical_and(np.cumsum(y_temp)!=0, np.cumsum(y_temp[::-1])[::-1]!=0)\n",
        "df = df.loc[mask['日最高気温の平均(℃)'].tolist()]\n",
        "\n",
        "# 目的変数は「1つ」なので，必ず1列になるので，「データは1次元」，「全体として2次元」であることを確認する\n",
        "# DataFrameのvaluesという変数には，Numpyの2次元配列が入っているので，これを用いる\n",
        "Y = df.values\n",
        "\n",
        "# 説明変数と目的変数の行列の形状を確認する\n",
        "#（現在は説明変数一つなので，同じになっている必要がある）\n",
        "print('説明変数Xの形状', X.shape) #(サンプル数, 説明変数の数(今は1))になっている必要がある\n",
        "print('説明変数Yの形状', Y.shape) #目的変数なので， (サンプル数， 1)になっている必要がある\n",
        "\n",
        "#一度グラフに表示してみる\n",
        "import matplotlib.pyplot as plt\n",
        "plt.plot(X, Y)\n",
        "plt.show()"
      ],
      "execution_count": 0,
      "outputs": [
        {
          "output_type": "stream",
          "text": [
            "説明変数Xの形状 (42, 1)\n",
            "説明変数Yの形状 (42, 1)\n"
          ],
          "name": "stdout"
        },
        {
          "output_type": "display_data",
          "data": {
            "image/png": "[encoded data removed]",
            "text/plain": [
              "<Figure size 432x288 with 1 Axes>"
            ]
          },
          "metadata": {
            "tags": []
          }
        }
      ]
    },
    {
      "cell_type": "code",
      "metadata": {
        "id": "HhDIzv8YuW7X",
        "colab_type": "code",
        "outputId": "006d0df1-169d-4225-c43a-6dd6ae6c1c60",
        "colab": {
          "base_uri": "https://localhost:8080/",
          "height": 321
        }
      },
      "source": [
        "import scipy\n",
        "import sklearn\n",
        "from sklearn import linear_model\n",
        "\n",
        "# 回帰分析するクラスのインスタンスを作る\n",
        "ols_model = linear_model.LinearRegression()\n",
        "\n",
        "# 回帰分析を走らせる（学習する)\n",
        "ols_model.fit(X, Y)\n",
        "\n",
        "# 結果を出力していく\n",
        "# 回帰係数(傾き)\n",
        "print('回帰係数(傾き):', ols_model.coef_)\n",
        " \n",
        "# 切片 (誤差)\n",
        "print('切片:', ols_model.intercept_)\n",
        " \n",
        "# 決定係数\n",
        "print('決定係数', ols_model.score(X, Y))\n",
        "# データにどのぐらいフィットしているかを表す値\n",
        "\n",
        "# グラフを表示\n",
        "# まず観測値を再度プロットする\n",
        "plt.plot(X, Y)\n",
        "# 次に回帰分析した結果をプロットする\n",
        "# 回帰分析インスタンスのpredict関数に説明変数Xを入れると，予測した目的変数を出してくれる\n",
        "predictedY = ols_model.predict(X)\n",
        "# それを表示\n",
        "plt.plot(X, predictedY)\n",
        "# 表示\n",
        "plt.show()"
      ],
      "execution_count": 0,
      "outputs": [
        {
          "output_type": "stream",
          "text": [
            "回帰係数(傾き): [[0.05160846]]\n",
            "切片: [-72.38551711]\n",
            "決定係数 0.12643083363467078\n"
          ],
          "name": "stdout"
        },
        {
          "output_type": "display_data",
          "data": {
            "image/png": "[encoded data removed]",
            "text/plain": [
              "<Figure size 432x288 with 1 Axes>"
            ]
          },
          "metadata": {
            "tags": []
          }
        }
      ]
    },
    {
      "cell_type": "markdown",
      "metadata": {
        "id": "X8DVvaMcsq-X",
        "colab_type": "text"
      },
      "source": [
        "以下はstatsmodelsを使った単純線形回帰．\n",
        "\n",
        "結果はscikit-learnのものとほぼ同じだが，統計的な情報が詳しく出るので，こちらも実行しておく．\n",
        "\n",
        "ただし，こちらはpredictをするのに余計な手間がいるので不便．（統計情報を出すのがメインなので）"
      ]
    },
    {
      "cell_type": "code",
      "metadata": {
        "id": "uNhFvCD6rAgi",
        "colab_type": "code",
        "outputId": "66b336bc-0019-4963-db6c-2bf01fdce7ad",
        "colab": {
          "base_uri": "https://localhost:8080/",
          "height": 729
        }
      },
      "source": [
        "import statsmodels.api as sm\n",
        "nsamples = Y.shape[0]\n",
        "\n",
        "ols_model = sm.OLS(Y, sm.add_constant(X))\n",
        "ols_result = ols_model.fit()\n",
        "\n",
        "print(ols_result.summary())\n",
        "\n",
        "predictedY = ols_result.predict(sm.add_constant(X))\n",
        "plt.plot(X, Y)\n",
        "plt.plot(X, predictedY)\n",
        "plt.show()"
      ],
      "execution_count": 0,
      "outputs": [
        {
          "output_type": "stream",
          "text": [
            "                            OLS Regression Results                            \n",
            "==============================================================================\n",
            "Dep. Variable:                      y   R-squared:                       0.126\n",
            "Model:                            OLS   Adj. R-squared:                  0.105\n",
            "Method:                 Least Squares   F-statistic:                     5.789\n",
            "Date:                Wed, 21 Aug 2019   Prob (F-statistic):             0.0208\n",
            "Time:                        11:01:05   Log-Likelihood:                -80.482\n",
            "No. Observations:                  42   AIC:                             165.0\n",
            "Df Residuals:                      40   BIC:                             168.4\n",
            "Df Model:                           1                                         \n",
            "Covariance Type:            nonrobust                                         \n",
            "==============================================================================\n",
            "                 coef    std err          t      P>|t|      [0.025      0.975]\n",
            "------------------------------------------------------------------------------\n",
            "const        -72.3855     42.846     -1.689      0.099    -158.980      14.209\n",
            "x1             0.0516      0.021      2.406      0.021       0.008       0.095\n",
            "==============================================================================\n",
            "Omnibus:                        0.065   Durbin-Watson:                   2.291\n",
            "Prob(Omnibus):                  0.968   Jarque-Bera (JB):                0.183\n",
            "Skew:                          -0.085   Prob(JB):                        0.913\n",
            "Kurtosis:                       2.725   Cond. No.                     3.29e+05\n",
            "==============================================================================\n",
            "\n",
            "Warnings:\n",
            "[1] Standard Errors assume that the covariance matrix of the errors is correctly specified.\n",
            "[2] The condition number is large, 3.29e+05. This might indicate that there are\n",
            "strong multicollinearity or other numerical problems.\n"
          ],
          "name": "stdout"
        },
        {
          "output_type": "display_data",
          "data": {
            "image/png": "[encoded data removed]",
            "text/plain": [
              "<Figure size 432x288 with 1 Axes>"
            ]
          },
          "metadata": {
            "tags": []
          }
        }
      ]
    }
  ]
}