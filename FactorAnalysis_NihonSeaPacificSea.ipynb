{
  "nbformat": 4,
  "nbformat_minor": 0,
  "metadata": {
    "colab": {
      "name": "FactorAnalysis_NihonSeaPacificSea.ipynb",
      "provenance": [],
      "collapsed_sections": [],
      "include_colab_link": true
    },
    "kernelspec": {
      "name": "python3",
      "display_name": "Python 3"
    }
  },
  "cells": [
    {
      "cell_type": "markdown",
      "metadata": {
        "id": "view-in-github",
        "colab_type": "text"
      },
      "source": [
        "<a href=\"https://colab.research.google.com/github/daichi-a/PythonDataAnalyzeClassMaterial/blob/master/FactorAnalysis_NihonSeaPacificSea.ipynb\" target=\"_parent\"><img src=\"https://colab.research.google.com/assets/colab-badge.svg\" alt=\"Open In Colab\"/></a>"
      ]
    },
    {
      "cell_type": "markdown",
      "metadata": {
        "id": "QhYkx8b21And",
        "colab_type": "text"
      },
      "source": [
        "http://cad.lolipop.jp/data/data_analyze_python/nihonsea-side-pacificsea-side-jan.csv\n",
        "\n",
        "を読み込む"
      ]
    },
    {
      "cell_type": "code",
      "metadata": {
        "id": "Ph0yaM3XrNOu",
        "colab_type": "code",
        "colab": {
          "resources": {
            "http://localhost:8080/nbextensions/google.colab/files.js": {
              "data": "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",
              "ok": true,
              "headers": [
                [
                  "content-type",
                  "application/javascript"
                ]
              ],
              "status": 200,
              "status_text": ""
            }
          },
          "base_uri": "https://localhost:8080/",
          "height": 71
        },
        "outputId": "949244d5-dc93-4ce6-d057-5d6b892b7b94"
      },
      "source": [
        "from google.colab import files\n",
        "uploaded = files.upload()"
      ],
      "execution_count": 2,
      "outputs": [
        {
          "output_type": "display_data",
          "data": {
            "text/html": [
              "\n",
              "     <input type=\"file\" id=\"files-7d6e7603-92dd-445a-85f4-f631fdf959b6\" name=\"files[]\" multiple disabled />\n",
              "     <output id=\"result-7d6e7603-92dd-445a-85f4-f631fdf959b6\">\n",
              "      Upload widget is only available when the cell has been executed in the\n",
              "      current browser session. Please rerun this cell to enable.\n",
              "      </output>\n",
              "      <script src=\"/nbextensions/google.colab/files.js\"></script> "
            ],
            "text/plain": [
              "<IPython.core.display.HTML object>"
            ]
          },
          "metadata": {
            "tags": []
          }
        },
        {
          "output_type": "stream",
          "text": [
            "Saving nihonsea-side-pacificsea-side-jan.csv to nihonsea-side-pacificsea-side-jan.csv\n"
          ],
          "name": "stdout"
        }
      ]
    },
    {
      "cell_type": "code",
      "metadata": {
        "id": "A-9EijCzrTOn",
        "colab_type": "code",
        "colab": {
          "base_uri": "https://localhost:8080/",
          "height": 292
        },
        "outputId": "c4afd0f3-ff9e-4d89-ed89-07f17f2aab98"
      },
      "source": [
        "import numpy as np\n",
        "import pandas as pd\n",
        "from pandas import Series, DataFrame\n",
        "\n",
        "df = pd.read_csv('nihonsea-side-pacificsea-side-jan.csv', encoding='SHIFT-JIS', header=1)\n",
        "\n",
        "# 抜き出す\n",
        "for a_column in ['秋田', '宮古', '酒田', '石巻', '新潟', '水戸', '銚子']:\n",
        "  # それぞれ\n",
        "  # 降水量の合計(mm),降水量の合計(mm),降水量の合計(mm),降水量の合計(mm), 日照時間(時間),日照時間(時間),日照時間(時間),日照時間(時間), 平均風速(m/s),平均風速(m/s),平均風速(m/s),平均蒸気圧(hPa),平均蒸気圧(hPa),平均蒸気圧(hPa),\n",
        "  # で並んでいて，一つの地点につき，\n",
        "  #\t(空), 現象なし情報, 品質情報, 均質番号, (空), 現象なし情報, 品質情報, 均質番号, (空), 品質情報, 均質番号, (空), 品質情報, 均質番号\n",
        "  # の(空)以外の場所が余計なので，削除\n",
        "  for i in range(1, 14, 1):\n",
        "    # 落とす列の列番号を指定(0~)\n",
        "    if i in [1, 2, 3, 5, 6, 7, 9, 10, 12, 13]:\n",
        "      df = df.drop(a_column + '.' + str(i), axis=1)\n",
        "\n",
        "df = df.drop(1)\n",
        "\n",
        "# DataFrameの中に欠損値がある場合は，0.0を代わりに入れておく\n",
        "df = df.fillna(0)\n",
        "df.head()"
      ],
      "execution_count": 3,
      "outputs": [
        {
          "output_type": "execute_result",
          "data": {
            "text/html": [
              "<div>\n",
              "<style scoped>\n",
              "    .dataframe tbody tr th:only-of-type {\n",
              "        vertical-align: middle;\n",
              "    }\n",
              "\n",
              "    .dataframe tbody tr th {\n",
              "        vertical-align: top;\n",
              "    }\n",
              "\n",
              "    .dataframe thead th {\n",
              "        text-align: right;\n",
              "    }\n",
              "</style>\n",
              "<table border=\"1\" class=\"dataframe\">\n",
              "  <thead>\n",
              "    <tr style=\"text-align: right;\">\n",
              "      <th></th>\n",
              "      <th>Unnamed: 0</th>\n",
              "      <th>秋田</th>\n",
              "      <th>秋田.4</th>\n",
              "      <th>秋田.8</th>\n",
              "      <th>秋田.11</th>\n",
              "      <th>宮古</th>\n",
              "      <th>宮古.4</th>\n",
              "      <th>宮古.8</th>\n",
              "      <th>宮古.11</th>\n",
              "      <th>酒田</th>\n",
              "      <th>酒田.4</th>\n",
              "      <th>酒田.8</th>\n",
              "      <th>酒田.11</th>\n",
              "      <th>石巻</th>\n",
              "      <th>石巻.4</th>\n",
              "      <th>石巻.8</th>\n",
              "      <th>石巻.11</th>\n",
              "      <th>新潟</th>\n",
              "      <th>新潟.4</th>\n",
              "      <th>新潟.8</th>\n",
              "      <th>新潟.11</th>\n",
              "      <th>水戸</th>\n",
              "      <th>水戸.4</th>\n",
              "      <th>水戸.8</th>\n",
              "      <th>水戸.11</th>\n",
              "      <th>銚子</th>\n",
              "      <th>銚子.4</th>\n",
              "      <th>銚子.8</th>\n",
              "      <th>銚子.11</th>\n",
              "    </tr>\n",
              "  </thead>\n",
              "  <tbody>\n",
              "    <tr>\n",
              "      <th>0</th>\n",
              "      <td>年月</td>\n",
              "      <td>降水量の合計(mm)</td>\n",
              "      <td>日照時間(時間)</td>\n",
              "      <td>平均風速(m/s)</td>\n",
              "      <td>平均蒸気圧(hPa)</td>\n",
              "      <td>降水量の合計(mm)</td>\n",
              "      <td>日照時間(時間)</td>\n",
              "      <td>平均風速(m/s)</td>\n",
              "      <td>平均蒸気圧(hPa)</td>\n",
              "      <td>降水量の合計(mm)</td>\n",
              "      <td>日照時間(時間)</td>\n",
              "      <td>平均風速(m/s)</td>\n",
              "      <td>平均蒸気圧(hPa)</td>\n",
              "      <td>降水量の合計(mm)</td>\n",
              "      <td>日照時間(時間)</td>\n",
              "      <td>平均風速(m/s)</td>\n",
              "      <td>平均蒸気圧(hPa)</td>\n",
              "      <td>降水量の合計(mm)</td>\n",
              "      <td>日照時間(時間)</td>\n",
              "      <td>平均風速(m/s)</td>\n",
              "      <td>平均蒸気圧(hPa)</td>\n",
              "      <td>降水量の合計(mm)</td>\n",
              "      <td>日照時間(時間)</td>\n",
              "      <td>平均風速(m/s)</td>\n",
              "      <td>平均蒸気圧(hPa)</td>\n",
              "      <td>降水量の合計(mm)</td>\n",
              "      <td>日照時間(時間)</td>\n",
              "      <td>平均風速(m/s)</td>\n",
              "      <td>平均蒸気圧(hPa)</td>\n",
              "    </tr>\n",
              "    <tr>\n",
              "      <th>2</th>\n",
              "      <td>1977/1</td>\n",
              "      <td>51.0</td>\n",
              "      <td>72.6</td>\n",
              "      <td>4.4</td>\n",
              "      <td>3.6</td>\n",
              "      <td>6.0</td>\n",
              "      <td>224.3</td>\n",
              "      <td>2.1</td>\n",
              "      <td>2.8</td>\n",
              "      <td>101.0</td>\n",
              "      <td>68.9</td>\n",
              "      <td>4.7</td>\n",
              "      <td>3.9</td>\n",
              "      <td>3.0</td>\n",
              "      <td>203.0</td>\n",
              "      <td>2.3</td>\n",
              "      <td>3.4</td>\n",
              "      <td>151.5</td>\n",
              "      <td>69.6</td>\n",
              "      <td>4.9</td>\n",
              "      <td>4.5</td>\n",
              "      <td>13.0</td>\n",
              "      <td>196.6</td>\n",
              "      <td>1.9</td>\n",
              "      <td>4.0</td>\n",
              "      <td>75.5</td>\n",
              "      <td>150.0</td>\n",
              "      <td>4.0</td>\n",
              "      <td>5.0</td>\n",
              "    </tr>\n",
              "    <tr>\n",
              "      <th>3</th>\n",
              "      <td>1978/1</td>\n",
              "      <td>93.5</td>\n",
              "      <td>74.0</td>\n",
              "      <td>5.0</td>\n",
              "      <td>4.5</td>\n",
              "      <td>33.0</td>\n",
              "      <td>173.4</td>\n",
              "      <td>1.8</td>\n",
              "      <td>3.9</td>\n",
              "      <td>163.5</td>\n",
              "      <td>55.8</td>\n",
              "      <td>5.2</td>\n",
              "      <td>4.8</td>\n",
              "      <td>9.5</td>\n",
              "      <td>156.0</td>\n",
              "      <td>2.8</td>\n",
              "      <td>4.5</td>\n",
              "      <td>205.5</td>\n",
              "      <td>40.7</td>\n",
              "      <td>4.2</td>\n",
              "      <td>5.5</td>\n",
              "      <td>13.0</td>\n",
              "      <td>166.5</td>\n",
              "      <td>1.6</td>\n",
              "      <td>4.9</td>\n",
              "      <td>54.0</td>\n",
              "      <td>152.4</td>\n",
              "      <td>4.0</td>\n",
              "      <td>5.8</td>\n",
              "    </tr>\n",
              "    <tr>\n",
              "      <th>4</th>\n",
              "      <td>1979/1</td>\n",
              "      <td>113.5</td>\n",
              "      <td>70.7</td>\n",
              "      <td>3.1</td>\n",
              "      <td>4.8</td>\n",
              "      <td>74.0</td>\n",
              "      <td>164.0</td>\n",
              "      <td>1.7</td>\n",
              "      <td>3.9</td>\n",
              "      <td>201.0</td>\n",
              "      <td>63.1</td>\n",
              "      <td>4.8</td>\n",
              "      <td>5.4</td>\n",
              "      <td>32.5</td>\n",
              "      <td>177.5</td>\n",
              "      <td>2.8</td>\n",
              "      <td>4.9</td>\n",
              "      <td>151.5</td>\n",
              "      <td>79.9</td>\n",
              "      <td>3.4</td>\n",
              "      <td>6.2</td>\n",
              "      <td>62.0</td>\n",
              "      <td>194.0</td>\n",
              "      <td>1.3</td>\n",
              "      <td>5.1</td>\n",
              "      <td>79.5</td>\n",
              "      <td>180.5</td>\n",
              "      <td>3.3</td>\n",
              "      <td>6.3</td>\n",
              "    </tr>\n",
              "    <tr>\n",
              "      <th>5</th>\n",
              "      <td>1980/1</td>\n",
              "      <td>172.5</td>\n",
              "      <td>66.4</td>\n",
              "      <td>3.7</td>\n",
              "      <td>4.7</td>\n",
              "      <td>55.0</td>\n",
              "      <td>172.4</td>\n",
              "      <td>1.8</td>\n",
              "      <td>3.9</td>\n",
              "      <td>212.0</td>\n",
              "      <td>51.1</td>\n",
              "      <td>4.9</td>\n",
              "      <td>5.1</td>\n",
              "      <td>17.0</td>\n",
              "      <td>179.0</td>\n",
              "      <td>2.9</td>\n",
              "      <td>4.7</td>\n",
              "      <td>225.0</td>\n",
              "      <td>48.3</td>\n",
              "      <td>4.0</td>\n",
              "      <td>5.7</td>\n",
              "      <td>66.5</td>\n",
              "      <td>198.2</td>\n",
              "      <td>2.1</td>\n",
              "      <td>4.9</td>\n",
              "      <td>180.5</td>\n",
              "      <td>173.4</td>\n",
              "      <td>4.2</td>\n",
              "      <td>6.0</td>\n",
              "    </tr>\n",
              "  </tbody>\n",
              "</table>\n",
              "</div>"
            ],
            "text/plain": [
              "  Unnamed: 0          秋田      秋田.4  ...      銚子.4       銚子.8       銚子.11\n",
              "0         年月  降水量の合計(mm)  日照時間(時間)  ...  日照時間(時間)  平均風速(m/s)  平均蒸気圧(hPa)\n",
              "2     1977/1        51.0      72.6  ...     150.0        4.0         5.0\n",
              "3     1978/1        93.5      74.0  ...     152.4        4.0         5.8\n",
              "4     1979/1       113.5      70.7  ...     180.5        3.3         6.3\n",
              "5     1980/1       172.5      66.4  ...     173.4        4.2         6.0\n",
              "\n",
              "[5 rows x 29 columns]"
            ]
          },
          "metadata": {
            "tags": []
          },
          "execution_count": 3
        }
      ]
    },
    {
      "cell_type": "code",
      "metadata": {
        "id": "SG3WRT9hrZIi",
        "colab_type": "code",
        "colab": {
          "base_uri": "https://localhost:8080/",
          "height": 204
        },
        "outputId": "d6eb8398-e640-496c-95f2-e7ae06b7ca7c"
      },
      "source": [
        "# グラフ表示するためにローマ字ラベルを作っておく\n",
        "#np.arrayはenumerateでは回せないので，　listのままにしておく\n",
        "city_label_list = (['Akita', 'Miyako', 'Sakata', 'Ishinomaki', 'Niigata', 'Mito', 'Choshi'])\n",
        "\n",
        "# その要素の有無で0と1の2値で表現される変数を「ダミー変数」と呼ぶ\n",
        "# 0, 1, 2, 3...などの状態が複数あり，かつその数字が大小の意味を持ってない場合は，カテゴリ変数と呼ぶ\n",
        "# カテゴリ変数は判別問題などで扱えないので，\n",
        "# カテゴリ変数で表現している内容を，要素に分けて，要素の有無で表現，つまり複数のダミー変数に直す\n",
        "\n",
        "# 今回は太平洋側と日本海側の2値なので，ダミー変数：太平洋側が0, 日本海側が1\n",
        "sea_side_label = np.array([1, 0, 1, 0, 1, 0, 0])\n",
        "\n",
        "# 選んだ都市の\n",
        "# average_wind_speed: 1月の平均風速\n",
        "# daylight_hours: 1月の日照時間\n",
        "# average_humidity: 1月の平均湿度\n",
        "# precipitation: 1月の降水量\n",
        "# として，それぞれ42年分*太平洋側，日本海側の2年ずつを，1つ配列としてくっつける\n",
        "\n",
        "# 42年分のラベルを繋げておく　(42年分*全部の都市)\n",
        "city_label_in_repeat = np.repeat(city_label_list, 42)\n",
        "sea_side_label_in_repeat = np.repeat(sea_side_label, 42)\n",
        "\n",
        "# データをつなげる\n",
        "# まず最初に空の配列を作っておいて，\n",
        "precipitation = np.array([], dtype=np.float)\n",
        "daylight_hours = np.array([], dtype=np.float)\n",
        "average_wind_speed = np.array([], dtype=np.float)\n",
        "average_humidity = np.array([], dtype=np.float)\n",
        "\n",
        "# 選んだ都市の，1月の平均風速，1月の日照時間，1月の平均湿度，1月の降水量を\n",
        "# それぞれ1つの配列につなぐ\n",
        "for i, a_city in enumerate(city_label_list): \n",
        "  precipitation = np.concatenate((precipitation, df.iloc[1:, 1+(i*4)]))\n",
        "  daylight_hours = np.concatenate((daylight_hours, df.iloc[1:, 1+(i*4)+1]))\n",
        "  average_wind_speed = np.concatenate((average_wind_speed, df.iloc[1:, 1+(i*4)+2]))\n",
        "  average_humidity = np.concatenate((average_humidity, df.iloc[1:, 1+(i*4)+3]))\n",
        "\n",
        "# vstackで重ねて，配列の次元を入れ替えて，DataFrameにしておく\n",
        "df_sea_side_city = pd.DataFrame(np.vstack([city_label_in_repeat, sea_side_label_in_repeat, precipitation.astype(np.float), daylight_hours.astype(np.float), average_wind_speed.astype(np.float), average_humidity.astype(np.float)]).transpose())\n",
        "# DataFrameの列名をつけておく\n",
        "df_sea_side_city = df_sea_side_city.rename(columns={0:'都市名', 1:'太平洋側日本海側ダミー変数', 2:'1月の降水量', 3:'1月の日照時間', 4:'1月の平均風速', 5:'1月の平均湿度'})\n",
        "# DataFrameの冒頭を確認\n",
        "df_sea_side_city.head()"
      ],
      "execution_count": 4,
      "outputs": [
        {
          "output_type": "execute_result",
          "data": {
            "text/html": [
              "<div>\n",
              "<style scoped>\n",
              "    .dataframe tbody tr th:only-of-type {\n",
              "        vertical-align: middle;\n",
              "    }\n",
              "\n",
              "    .dataframe tbody tr th {\n",
              "        vertical-align: top;\n",
              "    }\n",
              "\n",
              "    .dataframe thead th {\n",
              "        text-align: right;\n",
              "    }\n",
              "</style>\n",
              "<table border=\"1\" class=\"dataframe\">\n",
              "  <thead>\n",
              "    <tr style=\"text-align: right;\">\n",
              "      <th></th>\n",
              "      <th>都市名</th>\n",
              "      <th>太平洋側日本海側ダミー変数</th>\n",
              "      <th>1月の降水量</th>\n",
              "      <th>1月の日照時間</th>\n",
              "      <th>1月の平均風速</th>\n",
              "      <th>1月の平均湿度</th>\n",
              "    </tr>\n",
              "  </thead>\n",
              "  <tbody>\n",
              "    <tr>\n",
              "      <th>0</th>\n",
              "      <td>Akita</td>\n",
              "      <td>1</td>\n",
              "      <td>51.0</td>\n",
              "      <td>72.6</td>\n",
              "      <td>4.4</td>\n",
              "      <td>3.6</td>\n",
              "    </tr>\n",
              "    <tr>\n",
              "      <th>1</th>\n",
              "      <td>Akita</td>\n",
              "      <td>1</td>\n",
              "      <td>93.5</td>\n",
              "      <td>74.0</td>\n",
              "      <td>5.0</td>\n",
              "      <td>4.5</td>\n",
              "    </tr>\n",
              "    <tr>\n",
              "      <th>2</th>\n",
              "      <td>Akita</td>\n",
              "      <td>1</td>\n",
              "      <td>113.5</td>\n",
              "      <td>70.7</td>\n",
              "      <td>3.1</td>\n",
              "      <td>4.8</td>\n",
              "    </tr>\n",
              "    <tr>\n",
              "      <th>3</th>\n",
              "      <td>Akita</td>\n",
              "      <td>1</td>\n",
              "      <td>172.5</td>\n",
              "      <td>66.4</td>\n",
              "      <td>3.7</td>\n",
              "      <td>4.7</td>\n",
              "    </tr>\n",
              "    <tr>\n",
              "      <th>4</th>\n",
              "      <td>Akita</td>\n",
              "      <td>1</td>\n",
              "      <td>64.5</td>\n",
              "      <td>58.8</td>\n",
              "      <td>4.6</td>\n",
              "      <td>4.2</td>\n",
              "    </tr>\n",
              "  </tbody>\n",
              "</table>\n",
              "</div>"
            ],
            "text/plain": [
              "     都市名 太平洋側日本海側ダミー変数 1月の降水量 1月の日照時間 1月の平均風速 1月の平均湿度\n",
              "0  Akita             1   51.0    72.6     4.4     3.6\n",
              "1  Akita             1   93.5    74.0     5.0     4.5\n",
              "2  Akita             1  113.5    70.7     3.1     4.8\n",
              "3  Akita             1  172.5    66.4     3.7     4.7\n",
              "4  Akita             1   64.5    58.8     4.6     4.2"
            ]
          },
          "metadata": {
            "tags": []
          },
          "execution_count": 4
        }
      ]
    },
    {
      "cell_type": "code",
      "metadata": {
        "id": "FkA0eXu5scar",
        "colab_type": "code",
        "colab": {
          "base_uri": "https://localhost:8080/",
          "height": 343
        },
        "outputId": "3d741a7f-5111-45a7-9eb7-d8835730cd44"
      },
      "source": [
        "!pip install factor-analyzer"
      ],
      "execution_count": 6,
      "outputs": [
        {
          "output_type": "stream",
          "text": [
            "Collecting factor-analyzer\n",
            "\u001b[?25l  Downloading https://files.pythonhosted.org/packages/44/b5/cbd83484ca6dd4c6562c6d66a6a3a0ecf526e79b2b575b9fb4bf5ad172dd/factor_analyzer-0.3.2.tar.gz (40kB)\n",
            "\r\u001b[K     |████████▏                       | 10kB 14.8MB/s eta 0:00:01\r\u001b[K     |████████████████▍               | 20kB 3.2MB/s eta 0:00:01\r\u001b[K     |████████████████████████▌       | 30kB 4.6MB/s eta 0:00:01\r\u001b[K     |████████████████████████████████| 40kB 3.2MB/s \n",
            "\u001b[?25hRequirement already satisfied: pandas in /usr/local/lib/python3.6/dist-packages (from factor-analyzer) (0.25.3)\n",
            "Requirement already satisfied: scipy in /usr/local/lib/python3.6/dist-packages (from factor-analyzer) (1.3.3)\n",
            "Requirement already satisfied: numpy in /usr/local/lib/python3.6/dist-packages (from factor-analyzer) (1.17.4)\n",
            "Requirement already satisfied: scikit-learn in /usr/local/lib/python3.6/dist-packages (from factor-analyzer) (0.21.3)\n",
            "Requirement already satisfied: pytz>=2017.2 in /usr/local/lib/python3.6/dist-packages (from pandas->factor-analyzer) (2018.9)\n",
            "Requirement already satisfied: python-dateutil>=2.6.1 in /usr/local/lib/python3.6/dist-packages (from pandas->factor-analyzer) (2.6.1)\n",
            "Requirement already satisfied: joblib>=0.11 in /usr/local/lib/python3.6/dist-packages (from scikit-learn->factor-analyzer) (0.14.0)\n",
            "Requirement already satisfied: six>=1.5 in /usr/local/lib/python3.6/dist-packages (from python-dateutil>=2.6.1->pandas->factor-analyzer) (1.12.0)\n",
            "Building wheels for collected packages: factor-analyzer\n",
            "  Building wheel for factor-analyzer (setup.py) ... \u001b[?25l\u001b[?25hdone\n",
            "  Created wheel for factor-analyzer: filename=factor_analyzer-0.3.2-cp36-none-any.whl size=40382 sha256=e2d2f83454f30dd7bc3fc773e1191b992cd343cbb252905e66bbd40dbdcfa63d\n",
            "  Stored in directory: /root/.cache/pip/wheels/4a/d0/57/f1330cb9c80e82d8d05391c74c94ed61ce3f03bf6157f3d6db\n",
            "Successfully built factor-analyzer\n",
            "Installing collected packages: factor-analyzer\n",
            "Successfully installed factor-analyzer-0.3.2\n"
          ],
          "name": "stdout"
        }
      ]
    },
    {
      "cell_type": "code",
      "metadata": {
        "id": "glWiXZQArgZR",
        "colab_type": "code",
        "colab": {
          "base_uri": "https://localhost:8080/",
          "height": 141
        },
        "outputId": "d3965c0c-f6bc-43f3-cbb9-78ecdcb248e5"
      },
      "source": [
        "# 因子分析\n",
        "# 観測されたデータ（説明変数）が大量の次元を持ち，\n",
        "# かつ説明変数感の相関係数が高い場合，\n",
        "# 因果のルート側に数が少ない潜在変数Latent Variable（因子 Factor）が存在することにより，\n",
        "# 観測データ = 説明変数が生み出されているという考え方\n",
        "\n",
        "# 回帰や分類の前処理に使う場合の目的は，次元圧縮なので主成分分析と同じに思えるが，\n",
        "# 因子分析は，観測データ（説明変数）を潜在変数の組み合わせによる合成量として捉え，その潜在変数を求める\n",
        "# つまり考え方は主成分分析の逆である．\n",
        "\n",
        "# 次元圧縮を目的としている場合，次元数を与えられるのは有利だが，\n",
        "# 機械学習目的ではなく，分析目的の場合，\n",
        "# 潜在変数の数，すなわち次元数を最初に与えなければならないことは，欠点でもある\n",
        "\n",
        "# 次元圧縮した状態でグラフ等をみて，これは何の因子なのか，因子が妥当かどうか，を\n",
        "# 分析者が検討しなければならい\n",
        "\n",
        "from factor_analyzer import FactorAnalyzer\n",
        "import seaborn as sns\n",
        "\n",
        "# 何因子だと考えるか\n",
        "n_factors=2\n",
        "\n",
        "# promax回転法を使う\n",
        "fa_model = FactorAnalyzer(n_factors=n_factors, rotation='promax', impute='drop')\n",
        "fa_model.fit(df_sea_side_city.iloc[:, 2:])\n",
        "\n",
        "# 因子負荷量はloadings_プロパティで読み出せるので，結果のDataFrameを作る\n",
        "# わかりやすく列名を，元のデータフレームから持ってきて挿入する\n",
        "# 0列目はラベルなので，1列目から\n",
        "columns_name_array = df_sea_side_city.columns[2:]\n",
        "print(columns_name_array)\n",
        "# 行名(index)として，この配列を用いて，DataFrameを作る\n",
        "df_result = pd.DataFrame(fa_model.loadings_, index=columns_name_array)\n",
        "\n",
        "# 色分けして表示\n",
        "cm = sns.light_palette('red', as_cmap=True)\n",
        "# セルの最後に実行すること．df.head()と同じく，printしても色分けされない\n",
        "df_result.style.background_gradient(cmap=cm)"
      ],
      "execution_count": 19,
      "outputs": [
        {
          "output_type": "stream",
          "text": [
            "Index(['1月の降水量', '1月の日照時間', '1月の平均風速', '1月の平均湿度'], dtype='object')\n"
          ],
          "name": "stdout"
        },
        {
          "output_type": "execute_result",
          "data": {
            "text/html": [
              "<style  type=\"text/css\" >\n",
              "    #T_a5cc1a6e_1c7f_11ea_8b48_0242ac1c0002row0_col0 {\n",
              "            background-color:  #ff0000;\n",
              "            color:  #f1f1f1;\n",
              "        }    #T_a5cc1a6e_1c7f_11ea_8b48_0242ac1c0002row0_col1 {\n",
              "            background-color:  #ffe5e5;\n",
              "            color:  #000000;\n",
              "        }    #T_a5cc1a6e_1c7f_11ea_8b48_0242ac1c0002row1_col0 {\n",
              "            background-color:  #ffe5e5;\n",
              "            color:  #000000;\n",
              "        }    #T_a5cc1a6e_1c7f_11ea_8b48_0242ac1c0002row1_col1 {\n",
              "            background-color:  #ffbebe;\n",
              "            color:  #000000;\n",
              "        }    #T_a5cc1a6e_1c7f_11ea_8b48_0242ac1c0002row2_col0 {\n",
              "            background-color:  #ff1212;\n",
              "            color:  #f1f1f1;\n",
              "        }    #T_a5cc1a6e_1c7f_11ea_8b48_0242ac1c0002row2_col1 {\n",
              "            background-color:  #ffdcdc;\n",
              "            color:  #000000;\n",
              "        }    #T_a5cc1a6e_1c7f_11ea_8b48_0242ac1c0002row3_col0 {\n",
              "            background-color:  #ff6363;\n",
              "            color:  #000000;\n",
              "        }    #T_a5cc1a6e_1c7f_11ea_8b48_0242ac1c0002row3_col1 {\n",
              "            background-color:  #ff0000;\n",
              "            color:  #f1f1f1;\n",
              "        }</style><table id=\"T_a5cc1a6e_1c7f_11ea_8b48_0242ac1c0002\" ><thead>    <tr>        <th class=\"blank level0\" ></th>        <th class=\"col_heading level0 col0\" >0</th>        <th class=\"col_heading level0 col1\" >1</th>    </tr></thead><tbody>\n",
              "                <tr>\n",
              "                        <th id=\"T_a5cc1a6e_1c7f_11ea_8b48_0242ac1c0002level0_row0\" class=\"row_heading level0 row0\" >1月の降水量</th>\n",
              "                        <td id=\"T_a5cc1a6e_1c7f_11ea_8b48_0242ac1c0002row0_col0\" class=\"data row0 col0\" >0.68527</td>\n",
              "                        <td id=\"T_a5cc1a6e_1c7f_11ea_8b48_0242ac1c0002row0_col1\" class=\"data row0 col1\" >0.174149</td>\n",
              "            </tr>\n",
              "            <tr>\n",
              "                        <th id=\"T_a5cc1a6e_1c7f_11ea_8b48_0242ac1c0002level0_row1\" class=\"row_heading level0 row1\" >1月の日照時間</th>\n",
              "                        <td id=\"T_a5cc1a6e_1c7f_11ea_8b48_0242ac1c0002row1_col0\" class=\"data row1 col0\" >-1.11164</td>\n",
              "                        <td id=\"T_a5cc1a6e_1c7f_11ea_8b48_0242ac1c0002row1_col1\" class=\"data row1 col1\" >0.323405</td>\n",
              "            </tr>\n",
              "            <tr>\n",
              "                        <th id=\"T_a5cc1a6e_1c7f_11ea_8b48_0242ac1c0002level0_row2\" class=\"row_heading level0 row2\" >1月の平均風速</th>\n",
              "                        <td id=\"T_a5cc1a6e_1c7f_11ea_8b48_0242ac1c0002row2_col0\" class=\"data row2 col0\" >0.543041</td>\n",
              "                        <td id=\"T_a5cc1a6e_1c7f_11ea_8b48_0242ac1c0002row2_col1\" class=\"data row2 col1\" >0.211808</td>\n",
              "            </tr>\n",
              "            <tr>\n",
              "                        <th id=\"T_a5cc1a6e_1c7f_11ea_8b48_0242ac1c0002level0_row3\" class=\"row_heading level0 row3\" >1月の平均湿度</th>\n",
              "                        <td id=\"T_a5cc1a6e_1c7f_11ea_8b48_0242ac1c0002row3_col0\" class=\"data row3 col0\" >-0.0915565</td>\n",
              "                        <td id=\"T_a5cc1a6e_1c7f_11ea_8b48_0242ac1c0002row3_col1\" class=\"data row3 col1\" >1.03879</td>\n",
              "            </tr>\n",
              "    </tbody></table>"
            ],
            "text/plain": [
              "<pandas.io.formats.style.Styler at 0x7ff4fb2da4a8>"
            ]
          },
          "metadata": {
            "tags": []
          },
          "execution_count": 19
        }
      ]
    },
    {
      "cell_type": "markdown",
      "metadata": {
        "id": "P4tFl9nW07iN",
        "colab_type": "text"
      },
      "source": [
        "この結果を見る分には，因子１が日照時間と湿度に大きく影響を与えてるので，日本海側と太平洋側の違い……のように見える"
      ]
    },
    {
      "cell_type": "code",
      "metadata": {
        "id": "bNXo4hZdta2D",
        "colab_type": "code",
        "colab": {
          "base_uri": "https://localhost:8080/",
          "height": 279
        },
        "outputId": "6d016c7c-876a-42ae-a817-1db209845718"
      },
      "source": [
        "# 因子分析の結果を使って，\n",
        "# 観測された元々の説明変数の値を潜在変数の値に変換する\n",
        "factors_df = pd.DataFrame(fa_model.transform(df_sea_side_city.iloc[:, 2:]))\n",
        "num_of_row = df_sea_side_city.values.shape[0]\n",
        "\n",
        "# 潜在変数の値をプロットしてみる\n",
        "# 日本海側と太平洋側にわけて\n",
        "nihon_sea_side = list([])\n",
        "pacific_sea_side = list([])\n",
        "for i in range(num_of_row):\n",
        "  if int(df_sea_side_city.values[i][1]) == 0:\n",
        "    pacific_sea_side.append(factors_df.iloc[i, :])\n",
        "  else:\n",
        "    nihon_sea_side.append(factors_df.iloc[i, :])\n",
        "\n",
        "factors_df_nihon_sea_side = pd.DataFrame(nihon_sea_side)\n",
        "factors_df_pacific_sea_side = pd.DataFrame(pacific_sea_side)\n",
        "\n",
        "import matplotlib.pyplot as plt\n",
        "\n",
        "plt.scatter(factors_df_nihon_sea_side.iloc[:, 0], factors_df_nihon_sea_side.iloc[:, 1], label='Nihon Sea Side')\n",
        "plt.scatter(factors_df_pacific_sea_side.iloc[:, 0], factors_df_pacific_sea_side.iloc[:, 1], label='Pacific Sea Side')\n",
        "\n",
        "plt.xlabel('Factor1: for Sepal Length, Petal Length, Petal Width')\n",
        "plt.ylabel('Factor2: for Sepal Width')\n",
        "plt.legend()\n",
        "plt.show()"
      ],
      "execution_count": 33,
      "outputs": [
        {
          "output_type": "display_data",
          "data": {
            "image/png": "[encoded data removed]",
            "text/plain": [
              "<Figure size 432x288 with 1 Axes>"
            ]
          },
          "metadata": {
            "tags": []
          }
        }
      ]
    }
  ]
}