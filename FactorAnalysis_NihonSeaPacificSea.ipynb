{
  "nbformat": 4,
  "nbformat_minor": 0,
  "metadata": {
    "colab": {
      "name": "FactorAnalysis_NihonSeaPacificSea.ipynb",
      "provenance": [],
      "collapsed_sections": [],
      "include_colab_link": true
    },
    "kernelspec": {
      "name": "python3",
      "display_name": "Python 3"
    }
  },
  "cells": [
    {
      "cell_type": "markdown",
      "metadata": {
        "id": "view-in-github",
        "colab_type": "text"
      },
      "source": [
        "<a href=\"https://colab.research.google.com/github/daichi-a/PythonDataAnalyzeClassMaterial/blob/master/FactorAnalysis_NihonSeaPacificSea.ipynb\" target=\"_parent\"><img src=\"https://colab.research.google.com/assets/colab-badge.svg\" alt=\"Open In Colab\"/></a>"
      ]
    },
    {
      "cell_type": "markdown",
      "metadata": {
        "id": "QhYkx8b21And",
        "colab_type": "text"
      },
      "source": [
        "http://cad.lolipop.jp/data/data_analyze_python/tohoku-huge-data.csv\n",
        "\n",
        "を読み込む"
      ]
    },
    {
      "cell_type": "code",
      "metadata": {
        "id": "Ph0yaM3XrNOu",
        "colab_type": "code",
        "outputId": "80148e7c-fc6f-4781-d5d0-860f8e8fe561",
        "colab": {
          "resources": {
            "http://localhost:8080/nbextensions/google.colab/files.js": {
              "data": "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",
              "ok": true,
              "headers": [
                [
                  "content-type",
                  "application/javascript"
                ]
              ],
              "status": 200,
              "status_text": ""
            }
          },
          "base_uri": "https://localhost:8080/",
          "height": 81
        }
      },
      "source": [
        "from google.colab import files\n",
        "uploaded = files.upload()"
      ],
      "execution_count": 2,
      "outputs": [
        {
          "output_type": "display_data",
          "data": {
            "text/html": [
              "\n",
              "     <input type=\"file\" id=\"files-e8d1afa2-535e-4f71-8f71-b92da79cc2ed\" name=\"files[]\" multiple disabled />\n",
              "     <output id=\"result-e8d1afa2-535e-4f71-8f71-b92da79cc2ed\">\n",
              "      Upload widget is only available when the cell has been executed in the\n",
              "      current browser session. Please rerun this cell to enable.\n",
              "      </output>\n",
              "      <script src=\"/nbextensions/google.colab/files.js\"></script> "
            ],
            "text/plain": [
              "<IPython.core.display.HTML object>"
            ]
          },
          "metadata": {
            "tags": []
          }
        },
        {
          "output_type": "stream",
          "text": [
            "Saving tohoku-huge-data.csv to tohoku-huge-data.csv\n"
          ],
          "name": "stdout"
        }
      ]
    },
    {
      "cell_type": "code",
      "metadata": {
        "id": "A-9EijCzrTOn",
        "colab_type": "code",
        "outputId": "adbddd23-676e-4205-d0a2-07391e3d07df",
        "colab": {
          "base_uri": "https://localhost:8080/",
          "height": 289
        }
      },
      "source": [
        "# CSVを整えてDataFrameにする\n",
        "import numpy as np\n",
        "import pandas as pd\n",
        "from pandas import Series, DataFrame\n",
        "\n",
        "df = pd.read_csv('tohoku-huge-data.csv', encoding='SHIFT-JIS', header=1)\n",
        "\n",
        "# 抜き出す\n",
        "for a_column in ['秋田', '宮古', '酒田', '石巻']:\n",
        "  # それぞれ\n",
        "  # 降水量の合計(mm),降水量の合計(mm),降水量の合計(mm),降水量の合計(mm),日照時間(時間),日照時間(時間),日照時間(時間),日照時間(時間),平均風速(m/s),平均風速(m/s),平均風速(m/s),平均湿度(％),平均湿度(％),平均湿度(％),平均雲量(10分比),平均雲量(10分比),平均雲量(10分比)\n",
        "  # で並んでいて，一つの地点につき，\n",
        "  # (空),現象なし情報,品質情報,均質番号,(空),現象なし情報,品質情報,均質番号,(空),品質情報,均質番号,(空),品質情報,均質番号,(空),品質情報,均質番号\n",
        "  # の順に並んでいる\n",
        "  # の(空)以外の場所が余計なので，削除\n",
        "  for i in range(1, 17, 1):\n",
        "    # 落とす列の列番号を指定(0~)\n",
        "    if i in [1, 2, 3, 5, 6, 7, 9, 10, 12, 13, 15, 16]:\n",
        "      df = df.drop(a_column + '.' + str(i), axis=1)\n",
        "\n",
        "df = df.drop(1)\n",
        "\n",
        "# DataFrameの中に欠損値がある場合は，0.0を代わりに入れておく\n",
        "df = df.fillna(0)\n",
        "df.head()"
      ],
      "execution_count": 4,
      "outputs": [
        {
          "output_type": "execute_result",
          "data": {
            "text/html": [
              "<div>\n",
              "<style scoped>\n",
              "    .dataframe tbody tr th:only-of-type {\n",
              "        vertical-align: middle;\n",
              "    }\n",
              "\n",
              "    .dataframe tbody tr th {\n",
              "        vertical-align: top;\n",
              "    }\n",
              "\n",
              "    .dataframe thead th {\n",
              "        text-align: right;\n",
              "    }\n",
              "</style>\n",
              "<table border=\"1\" class=\"dataframe\">\n",
              "  <thead>\n",
              "    <tr style=\"text-align: right;\">\n",
              "      <th></th>\n",
              "      <th>Unnamed: 0</th>\n",
              "      <th>秋田</th>\n",
              "      <th>秋田.4</th>\n",
              "      <th>秋田.8</th>\n",
              "      <th>秋田.11</th>\n",
              "      <th>秋田.14</th>\n",
              "      <th>宮古</th>\n",
              "      <th>宮古.4</th>\n",
              "      <th>宮古.8</th>\n",
              "      <th>宮古.11</th>\n",
              "      <th>宮古.14</th>\n",
              "      <th>酒田</th>\n",
              "      <th>酒田.4</th>\n",
              "      <th>酒田.8</th>\n",
              "      <th>酒田.11</th>\n",
              "      <th>酒田.14</th>\n",
              "      <th>石巻</th>\n",
              "      <th>石巻.4</th>\n",
              "      <th>石巻.8</th>\n",
              "      <th>石巻.11</th>\n",
              "      <th>石巻.14</th>\n",
              "    </tr>\n",
              "  </thead>\n",
              "  <tbody>\n",
              "    <tr>\n",
              "      <th>0</th>\n",
              "      <td>年月</td>\n",
              "      <td>降水量の合計(mm)</td>\n",
              "      <td>日照時間(時間)</td>\n",
              "      <td>平均風速(m/s)</td>\n",
              "      <td>平均湿度(％)</td>\n",
              "      <td>平均雲量(10分比)</td>\n",
              "      <td>降水量の合計(mm)</td>\n",
              "      <td>日照時間(時間)</td>\n",
              "      <td>平均風速(m/s)</td>\n",
              "      <td>平均湿度(％)</td>\n",
              "      <td>平均雲量(10分比)</td>\n",
              "      <td>降水量の合計(mm)</td>\n",
              "      <td>日照時間(時間)</td>\n",
              "      <td>平均風速(m/s)</td>\n",
              "      <td>平均湿度(％)</td>\n",
              "      <td>平均雲量(10分比)</td>\n",
              "      <td>降水量の合計(mm)</td>\n",
              "      <td>日照時間(時間)</td>\n",
              "      <td>平均風速(m/s)</td>\n",
              "      <td>平均湿度(％)</td>\n",
              "      <td>平均雲量(10分比)</td>\n",
              "    </tr>\n",
              "    <tr>\n",
              "      <th>2</th>\n",
              "      <td>1977/1</td>\n",
              "      <td>51.0</td>\n",
              "      <td>72.6</td>\n",
              "      <td>4.4</td>\n",
              "      <td>74</td>\n",
              "      <td>9.5</td>\n",
              "      <td>6.0</td>\n",
              "      <td>224.3</td>\n",
              "      <td>2.1</td>\n",
              "      <td>57</td>\n",
              "      <td>3.5</td>\n",
              "      <td>101.0</td>\n",
              "      <td>68.9</td>\n",
              "      <td>4.7</td>\n",
              "      <td>70</td>\n",
              "      <td>9.5</td>\n",
              "      <td>3.0</td>\n",
              "      <td>203.0</td>\n",
              "      <td>2.3</td>\n",
              "      <td>68</td>\n",
              "      <td>4.2</td>\n",
              "    </tr>\n",
              "    <tr>\n",
              "      <th>3</th>\n",
              "      <td>1978/1</td>\n",
              "      <td>93.5</td>\n",
              "      <td>74.0</td>\n",
              "      <td>5.0</td>\n",
              "      <td>75</td>\n",
              "      <td>9.3</td>\n",
              "      <td>33.0</td>\n",
              "      <td>173.4</td>\n",
              "      <td>1.8</td>\n",
              "      <td>61</td>\n",
              "      <td>4.9</td>\n",
              "      <td>163.5</td>\n",
              "      <td>55.8</td>\n",
              "      <td>5.2</td>\n",
              "      <td>70</td>\n",
              "      <td>9.3</td>\n",
              "      <td>9.5</td>\n",
              "      <td>156.0</td>\n",
              "      <td>2.8</td>\n",
              "      <td>72</td>\n",
              "      <td>5.2</td>\n",
              "    </tr>\n",
              "    <tr>\n",
              "      <th>4</th>\n",
              "      <td>1979/1</td>\n",
              "      <td>113.5</td>\n",
              "      <td>70.7</td>\n",
              "      <td>3.1</td>\n",
              "      <td>72</td>\n",
              "      <td>8.5</td>\n",
              "      <td>74.0</td>\n",
              "      <td>164.0</td>\n",
              "      <td>1.7</td>\n",
              "      <td>57</td>\n",
              "      <td>4.6</td>\n",
              "      <td>201.0</td>\n",
              "      <td>63.1</td>\n",
              "      <td>4.8</td>\n",
              "      <td>72</td>\n",
              "      <td>8.7</td>\n",
              "      <td>32.5</td>\n",
              "      <td>177.5</td>\n",
              "      <td>2.8</td>\n",
              "      <td>68</td>\n",
              "      <td>4.7</td>\n",
              "    </tr>\n",
              "    <tr>\n",
              "      <th>5</th>\n",
              "      <td>1980/1</td>\n",
              "      <td>172.5</td>\n",
              "      <td>66.4</td>\n",
              "      <td>3.7</td>\n",
              "      <td>75</td>\n",
              "      <td>9.5</td>\n",
              "      <td>55.0</td>\n",
              "      <td>172.4</td>\n",
              "      <td>1.8</td>\n",
              "      <td>57</td>\n",
              "      <td>5.1</td>\n",
              "      <td>212.0</td>\n",
              "      <td>51.1</td>\n",
              "      <td>4.9</td>\n",
              "      <td>74</td>\n",
              "      <td>9.2</td>\n",
              "      <td>17.0</td>\n",
              "      <td>179.0</td>\n",
              "      <td>2.9</td>\n",
              "      <td>71</td>\n",
              "      <td>5.5</td>\n",
              "    </tr>\n",
              "  </tbody>\n",
              "</table>\n",
              "</div>"
            ],
            "text/plain": [
              "  Unnamed: 0          秋田      秋田.4  ...       石巻.8    石巻.11       石巻.14\n",
              "0         年月  降水量の合計(mm)  日照時間(時間)  ...  平均風速(m/s)  平均湿度(％)  平均雲量(10分比)\n",
              "2     1977/1        51.0      72.6  ...        2.3       68         4.2\n",
              "3     1978/1        93.5      74.0  ...        2.8       72         5.2\n",
              "4     1979/1       113.5      70.7  ...        2.8       68         4.7\n",
              "5     1980/1       172.5      66.4  ...        2.9       71         5.5\n",
              "\n",
              "[5 rows x 21 columns]"
            ]
          },
          "metadata": {
            "tags": []
          },
          "execution_count": 4
        }
      ]
    },
    {
      "cell_type": "code",
      "metadata": {
        "id": "SG3WRT9hrZIi",
        "colab_type": "code",
        "outputId": "e87769cc-12ce-4155-fde5-d7e4df631feb",
        "colab": {
          "base_uri": "https://localhost:8080/",
          "height": 220
        }
      },
      "source": [
        "# グラフ表示するためにローマ字ラベルを作っておく\n",
        "#np.arrayはenumerateでは回せないので，　listのままにしておく\n",
        "city_label_list = (['Akita', 'Miyako', 'Sakata', 'Ishinomaki'])\n",
        "\n",
        "# その要素の有無で0と1の2値で表現される変数を「ダミー変数」と呼ぶ\n",
        "# 0, 1, 2, 3...などの状態が複数あり，かつその数字が大小の意味を持ってない場合は，カテゴリ変数と呼ぶ\n",
        "# カテゴリ変数は判別問題などで扱えないので，\n",
        "# カテゴリ変数で表現している内容を，要素に分けて，要素の有無で表現，つまり複数のダミー変数に直す\n",
        "\n",
        "# 今回は太平洋側と日本海側の2値なので，ダミー変数：太平洋側が0, 日本海側が1\n",
        "sea_side_label = np.array([1, 0, 1, 0])\n",
        "\n",
        "# 選んだ都市の\n",
        "# precipitation: 1月の降水量\n",
        "# daylight_hours: 1月の日照時間\n",
        "# average_wind_speed: 1月の平均風速\n",
        "# average_humidity: 1月の平均湿度\n",
        "# amounts_clouds: １月の平均雲量\n",
        "\n",
        "# として，それぞれ42年分*太平洋側，日本海側の2年ずつを，1つ配列としてくっつける\n",
        "\n",
        "# 42年分のラベルを繋げておく　(42年分*全部の都市)\n",
        "city_label_in_repeat = np.repeat(city_label_list, 42)\n",
        "sea_side_label_in_repeat = np.repeat(sea_side_label, 42)\n",
        "print(sea_side_label_in_repeat.shape)\n",
        "\n",
        "# データをつなげる\n",
        "# まず最初に空の配列を作っておいて，\n",
        "precipitation = np.array([], dtype=np.float)\n",
        "daylight_hours = np.array([], dtype=np.float)\n",
        "average_wind_speed = np.array([], dtype=np.float)\n",
        "average_humidity = np.array([], dtype=np.float)\n",
        "amounts_clouds = np.array([], dtype=np.float)\n",
        "\n",
        "# 選んだ都市の，1月の平均風速，1月の日照時間，1月の平均湿度，1月の降水量を\n",
        "# それぞれ1つの配列につなぐ\n",
        "for i, a_city in enumerate(city_label_list): \n",
        "  precipitation = np.concatenate((precipitation, df.iloc[1:, 1+(i*5)]))\n",
        "  daylight_hours = np.concatenate((daylight_hours, df.iloc[1:, 1+(i*5)+1]))\n",
        "  average_wind_speed = np.concatenate((average_wind_speed, df.iloc[1:, 1+(i*5)+2]))\n",
        "  average_humidity = np.concatenate((average_humidity, df.iloc[1:, 1+(i*5)+3]))\n",
        "  amounts_clouds = np.concatenate((amounts_clouds, df.iloc[1:, 1+(i*5)+4]))\n",
        "\n",
        "# vstackで重ねて，配列の次元を入れ替えて，DataFrameにしておく\n",
        "df_sea_side_city = pd.DataFrame(np.vstack([city_label_in_repeat, sea_side_label_in_repeat, precipitation.astype(np.float), daylight_hours.astype(np.float), average_wind_speed.astype(np.float), average_humidity.astype(np.float), amounts_clouds.astype(np.float)]).transpose())\n",
        "# DataFrameの列名をつけておく\n",
        "df_sea_side_city = df_sea_side_city.rename(columns={0:'都市名', 1:'太平洋側日本海側ダミー変数', 2:'1月の降水量', 3:'1月の日照時間', 4:'1月の平均風速', 5:'1月の平均湿度', 6:'１月の平均雲量'})\n",
        "# DataFrameの冒頭を確認\n",
        "df_sea_side_city.head()"
      ],
      "execution_count": 5,
      "outputs": [
        {
          "output_type": "stream",
          "text": [
            "(168,)\n"
          ],
          "name": "stdout"
        },
        {
          "output_type": "execute_result",
          "data": {
            "text/html": [
              "<div>\n",
              "<style scoped>\n",
              "    .dataframe tbody tr th:only-of-type {\n",
              "        vertical-align: middle;\n",
              "    }\n",
              "\n",
              "    .dataframe tbody tr th {\n",
              "        vertical-align: top;\n",
              "    }\n",
              "\n",
              "    .dataframe thead th {\n",
              "        text-align: right;\n",
              "    }\n",
              "</style>\n",
              "<table border=\"1\" class=\"dataframe\">\n",
              "  <thead>\n",
              "    <tr style=\"text-align: right;\">\n",
              "      <th></th>\n",
              "      <th>都市名</th>\n",
              "      <th>太平洋側日本海側ダミー変数</th>\n",
              "      <th>1月の降水量</th>\n",
              "      <th>1月の日照時間</th>\n",
              "      <th>1月の平均風速</th>\n",
              "      <th>1月の平均湿度</th>\n",
              "      <th>１月の平均雲量</th>\n",
              "    </tr>\n",
              "  </thead>\n",
              "  <tbody>\n",
              "    <tr>\n",
              "      <th>0</th>\n",
              "      <td>Akita</td>\n",
              "      <td>1</td>\n",
              "      <td>51.0</td>\n",
              "      <td>72.6</td>\n",
              "      <td>4.4</td>\n",
              "      <td>74.0</td>\n",
              "      <td>9.5</td>\n",
              "    </tr>\n",
              "    <tr>\n",
              "      <th>1</th>\n",
              "      <td>Akita</td>\n",
              "      <td>1</td>\n",
              "      <td>93.5</td>\n",
              "      <td>74.0</td>\n",
              "      <td>5.0</td>\n",
              "      <td>75.0</td>\n",
              "      <td>9.3</td>\n",
              "    </tr>\n",
              "    <tr>\n",
              "      <th>2</th>\n",
              "      <td>Akita</td>\n",
              "      <td>1</td>\n",
              "      <td>113.5</td>\n",
              "      <td>70.7</td>\n",
              "      <td>3.1</td>\n",
              "      <td>72.0</td>\n",
              "      <td>8.5</td>\n",
              "    </tr>\n",
              "    <tr>\n",
              "      <th>3</th>\n",
              "      <td>Akita</td>\n",
              "      <td>1</td>\n",
              "      <td>172.5</td>\n",
              "      <td>66.4</td>\n",
              "      <td>3.7</td>\n",
              "      <td>75.0</td>\n",
              "      <td>9.5</td>\n",
              "    </tr>\n",
              "    <tr>\n",
              "      <th>4</th>\n",
              "      <td>Akita</td>\n",
              "      <td>1</td>\n",
              "      <td>64.5</td>\n",
              "      <td>58.8</td>\n",
              "      <td>4.6</td>\n",
              "      <td>74.0</td>\n",
              "      <td>9.6</td>\n",
              "    </tr>\n",
              "  </tbody>\n",
              "</table>\n",
              "</div>"
            ],
            "text/plain": [
              "     都市名 太平洋側日本海側ダミー変数 1月の降水量 1月の日照時間 1月の平均風速 1月の平均湿度 １月の平均雲量\n",
              "0  Akita             1   51.0    72.6     4.4    74.0     9.5\n",
              "1  Akita             1   93.5    74.0     5.0    75.0     9.3\n",
              "2  Akita             1  113.5    70.7     3.1    72.0     8.5\n",
              "3  Akita             1  172.5    66.4     3.7    75.0     9.5\n",
              "4  Akita             1   64.5    58.8     4.6    74.0     9.6"
            ]
          },
          "metadata": {
            "tags": []
          },
          "execution_count": 5
        }
      ]
    },
    {
      "cell_type": "code",
      "metadata": {
        "id": "FkA0eXu5scar",
        "colab_type": "code",
        "outputId": "17ab0ce9-1f4f-4d29-d1f2-310f8de73640",
        "colab": {
          "base_uri": "https://localhost:8080/",
          "height": 361
        }
      },
      "source": [
        "# 高機能因子分析パッケージ\n",
        "!pip install factor-analyzer"
      ],
      "execution_count": 6,
      "outputs": [
        {
          "output_type": "stream",
          "text": [
            "Collecting factor-analyzer\n",
            "\u001b[?25l  Downloading https://files.pythonhosted.org/packages/44/b5/cbd83484ca6dd4c6562c6d66a6a3a0ecf526e79b2b575b9fb4bf5ad172dd/factor_analyzer-0.3.2.tar.gz (40kB)\n",
            "\r\u001b[K     |████████▏                       | 10kB 18.5MB/s eta 0:00:01\r\u001b[K     |████████████████▍               | 20kB 2.2MB/s eta 0:00:01\r\u001b[K     |████████████████████████▌       | 30kB 3.2MB/s eta 0:00:01\r\u001b[K     |████████████████████████████████| 40kB 2.5MB/s \n",
            "\u001b[?25hRequirement already satisfied: pandas in /usr/local/lib/python3.6/dist-packages (from factor-analyzer) (0.25.3)\n",
            "Requirement already satisfied: scipy in /usr/local/lib/python3.6/dist-packages (from factor-analyzer) (1.3.3)\n",
            "Requirement already satisfied: numpy in /usr/local/lib/python3.6/dist-packages (from factor-analyzer) (1.17.4)\n",
            "Requirement already satisfied: scikit-learn in /usr/local/lib/python3.6/dist-packages (from factor-analyzer) (0.21.3)\n",
            "Requirement already satisfied: python-dateutil>=2.6.1 in /usr/local/lib/python3.6/dist-packages (from pandas->factor-analyzer) (2.6.1)\n",
            "Requirement already satisfied: pytz>=2017.2 in /usr/local/lib/python3.6/dist-packages (from pandas->factor-analyzer) (2018.9)\n",
            "Requirement already satisfied: joblib>=0.11 in /usr/local/lib/python3.6/dist-packages (from scikit-learn->factor-analyzer) (0.14.1)\n",
            "Requirement already satisfied: six>=1.5 in /usr/local/lib/python3.6/dist-packages (from python-dateutil>=2.6.1->pandas->factor-analyzer) (1.12.0)\n",
            "Building wheels for collected packages: factor-analyzer\n",
            "  Building wheel for factor-analyzer (setup.py) ... \u001b[?25l\u001b[?25hdone\n",
            "  Created wheel for factor-analyzer: filename=factor_analyzer-0.3.2-cp36-none-any.whl size=40382 sha256=d86f4579264d359d8de50a938a52a1d6e24c20df8722f2d3bb83f8a0d91cedf7\n",
            "  Stored in directory: /root/.cache/pip/wheels/4a/d0/57/f1330cb9c80e82d8d05391c74c94ed61ce3f03bf6157f3d6db\n",
            "Successfully built factor-analyzer\n",
            "Installing collected packages: factor-analyzer\n",
            "Successfully installed factor-analyzer-0.3.2\n"
          ],
          "name": "stdout"
        }
      ]
    },
    {
      "cell_type": "code",
      "metadata": {
        "id": "glWiXZQArgZR",
        "colab_type": "code",
        "outputId": "c84d6343-b223-487d-eace-7fd851e15a87",
        "colab": {
          "base_uri": "https://localhost:8080/",
          "height": 143
        }
      },
      "source": [
        "# 因子分析\n",
        "# 観測されたデータ（説明変数）が大量の次元を持ち，\n",
        "# かつ説明変数感の相関係数が高い場合，\n",
        "# 因果のルート側に数が少ない潜在変数Latent Variable（因子 Factor）が存在することにより，\n",
        "# 観測データ = 説明変数が生み出されているという考え方\n",
        "\n",
        "# 回帰や分類の前処理に使う場合の目的は，次元圧縮なので主成分分析と同じに思えるが，\n",
        "# 因子分析は，観測データ（説明変数）を潜在変数の組み合わせによる合成量として捉え，その潜在変数を求める\n",
        "# つまり考え方は主成分分析の逆である．\n",
        "\n",
        "# 次元圧縮を目的としている場合，次元数を与えられるのは有利だが，\n",
        "# 機械学習目的ではなく，分析目的の場合，\n",
        "# 潜在変数の数，すなわち次元数を最初に与えなければならないことは，欠点でもある\n",
        "\n",
        "# 次元圧縮した状態でグラフ等をみて，これは何の因子なのか，因子が妥当かどうか，を\n",
        "# 分析者が検討しなければならい\n",
        "\n",
        "from factor_analyzer import FactorAnalyzer\n",
        "import seaborn as sns\n",
        "\n",
        "# 何因子だと考えるか\n",
        "# とりあえず最初は多めに\n",
        "n_factors=4\n",
        "\n",
        "\n",
        "fa_model = FactorAnalyzer(n_factors=n_factors, method='ml', rotation='promax', impute='drop')\n",
        "# method: 使用する手法\n",
        "# minres (ミンレス法)\n",
        "# ml　（最尤法）\n",
        "# principal（主因子法）\n",
        "\n",
        "# rotation 回転法\n",
        "# varimax (バリマックス回転) 直交法\n",
        "# promax (プロマックス回転) 斜交法\n",
        "# oblique (斜め回転)\n",
        "\n",
        "# impute 欠損地をどうするか\n",
        "# drop: 削除\n",
        "\n",
        "# データにフィットさせる\n",
        "# 都市名と太平洋側に本会話がダミー変数は使わない\n",
        "fa_model.fit(df_sea_side_city.iloc[:, 2:])\n",
        "\n",
        "# 因子負荷量はloadings_プロパティで読み出せるので，結果のDataFrameを作る\n",
        "# 因子負荷量：因子と観測変数の間の関係性の強弱のこと\n",
        "\n",
        "# わかりやすく列名を，元のデータフレームから持ってきて挿入する\n",
        "# 0列目はラベルなので，1列目から\n",
        "columns_name_array = df_sea_side_city.columns[2:]\n",
        "# 行名(index)として，この配列を用いて，DataFrameを作る\n",
        "df_result = pd.DataFrame(fa_model.loadings_, index=columns_name_array)\n",
        "\n",
        "# 因子負荷量の行列を色分けして表示\n",
        "cm = sns.light_palette('red', as_cmap=True)\n",
        "# セルの最後に実行すること．df.head()と同じく，printしても色分けされない\n",
        "df_result.style.background_gradient(cmap=cm)"
      ],
      "execution_count": 34,
      "outputs": [
        {
          "output_type": "execute_result",
          "data": {
            "text/html": [
              "<style  type=\"text/css\" >\n",
              "    #T_9dd6b476_1fc8_11ea_aab8_0242ac1c0002row0_col0 {\n",
              "            background-color:  #ffcbcb;\n",
              "            color:  #000000;\n",
              "        }    #T_9dd6b476_1fc8_11ea_aab8_0242ac1c0002row0_col1 {\n",
              "            background-color:  #ff0000;\n",
              "            color:  #f1f1f1;\n",
              "        }    #T_9dd6b476_1fc8_11ea_aab8_0242ac1c0002row0_col2 {\n",
              "            background-color:  #ffacac;\n",
              "            color:  #000000;\n",
              "        }    #T_9dd6b476_1fc8_11ea_aab8_0242ac1c0002row0_col3 {\n",
              "            background-color:  #ffbcbc;\n",
              "            color:  #000000;\n",
              "        }    #T_9dd6b476_1fc8_11ea_aab8_0242ac1c0002row1_col0 {\n",
              "            background-color:  #ffe5e5;\n",
              "            color:  #000000;\n",
              "        }    #T_9dd6b476_1fc8_11ea_aab8_0242ac1c0002row1_col1 {\n",
              "            background-color:  #ffe5e5;\n",
              "            color:  #000000;\n",
              "        }    #T_9dd6b476_1fc8_11ea_aab8_0242ac1c0002row1_col2 {\n",
              "            background-color:  #ffe5e5;\n",
              "            color:  #000000;\n",
              "        }    #T_9dd6b476_1fc8_11ea_aab8_0242ac1c0002row1_col3 {\n",
              "            background-color:  #ff0000;\n",
              "            color:  #f1f1f1;\n",
              "        }    #T_9dd6b476_1fc8_11ea_aab8_0242ac1c0002row2_col0 {\n",
              "            background-color:  #ff0000;\n",
              "            color:  #f1f1f1;\n",
              "        }    #T_9dd6b476_1fc8_11ea_aab8_0242ac1c0002row2_col1 {\n",
              "            background-color:  #ffcaca;\n",
              "            color:  #000000;\n",
              "        }    #T_9dd6b476_1fc8_11ea_aab8_0242ac1c0002row2_col2 {\n",
              "            background-color:  #ffbbbb;\n",
              "            color:  #000000;\n",
              "        }    #T_9dd6b476_1fc8_11ea_aab8_0242ac1c0002row2_col3 {\n",
              "            background-color:  #ffe5e5;\n",
              "            color:  #000000;\n",
              "        }    #T_9dd6b476_1fc8_11ea_aab8_0242ac1c0002row3_col0 {\n",
              "            background-color:  #ff4040;\n",
              "            color:  #000000;\n",
              "        }    #T_9dd6b476_1fc8_11ea_aab8_0242ac1c0002row3_col1 {\n",
              "            background-color:  #ffa4a4;\n",
              "            color:  #000000;\n",
              "        }    #T_9dd6b476_1fc8_11ea_aab8_0242ac1c0002row3_col2 {\n",
              "            background-color:  #ff9494;\n",
              "            color:  #000000;\n",
              "        }    #T_9dd6b476_1fc8_11ea_aab8_0242ac1c0002row3_col3 {\n",
              "            background-color:  #ff8787;\n",
              "            color:  #000000;\n",
              "        }    #T_9dd6b476_1fc8_11ea_aab8_0242ac1c0002row4_col0 {\n",
              "            background-color:  #ffcdcd;\n",
              "            color:  #000000;\n",
              "        }    #T_9dd6b476_1fc8_11ea_aab8_0242ac1c0002row4_col1 {\n",
              "            background-color:  #ffbdbd;\n",
              "            color:  #000000;\n",
              "        }    #T_9dd6b476_1fc8_11ea_aab8_0242ac1c0002row4_col2 {\n",
              "            background-color:  #ff0000;\n",
              "            color:  #f1f1f1;\n",
              "        }    #T_9dd6b476_1fc8_11ea_aab8_0242ac1c0002row4_col3 {\n",
              "            background-color:  #ffbaba;\n",
              "            color:  #000000;\n",
              "        }</style><table id=\"T_9dd6b476_1fc8_11ea_aab8_0242ac1c0002\" ><thead>    <tr>        <th class=\"blank level0\" ></th>        <th class=\"col_heading level0 col0\" >0</th>        <th class=\"col_heading level0 col1\" >1</th>        <th class=\"col_heading level0 col2\" >2</th>        <th class=\"col_heading level0 col3\" >3</th>    </tr></thead><tbody>\n",
              "                <tr>\n",
              "                        <th id=\"T_9dd6b476_1fc8_11ea_aab8_0242ac1c0002level0_row0\" class=\"row_heading level0 row0\" >1月の降水量</th>\n",
              "                        <td id=\"T_9dd6b476_1fc8_11ea_aab8_0242ac1c0002row0_col0\" class=\"data row0 col0\" >-0.00387158</td>\n",
              "                        <td id=\"T_9dd6b476_1fc8_11ea_aab8_0242ac1c0002row0_col1\" class=\"data row0 col1\" >0.88368</td>\n",
              "                        <td id=\"T_9dd6b476_1fc8_11ea_aab8_0242ac1c0002row0_col2\" class=\"data row0 col2\" >-0.0232845</td>\n",
              "                        <td id=\"T_9dd6b476_1fc8_11ea_aab8_0242ac1c0002row0_col3\" class=\"data row0 col3\" >-0.0531657</td>\n",
              "            </tr>\n",
              "            <tr>\n",
              "                        <th id=\"T_9dd6b476_1fc8_11ea_aab8_0242ac1c0002level0_row1\" class=\"row_heading level0 row1\" >1月の日照時間</th>\n",
              "                        <td id=\"T_9dd6b476_1fc8_11ea_aab8_0242ac1c0002row1_col0\" class=\"data row1 col0\" >-0.133413</td>\n",
              "                        <td id=\"T_9dd6b476_1fc8_11ea_aab8_0242ac1c0002row1_col1\" class=\"data row1 col1\" >-0.223893</td>\n",
              "                        <td id=\"T_9dd6b476_1fc8_11ea_aab8_0242ac1c0002row1_col2\" class=\"data row1 col2\" >-0.280602</td>\n",
              "                        <td id=\"T_9dd6b476_1fc8_11ea_aab8_0242ac1c0002row1_col3\" class=\"data row1 col3\" >0.499481</td>\n",
              "            </tr>\n",
              "            <tr>\n",
              "                        <th id=\"T_9dd6b476_1fc8_11ea_aab8_0242ac1c0002level0_row2\" class=\"row_heading level0 row2\" >1月の平均風速</th>\n",
              "                        <td id=\"T_9dd6b476_1fc8_11ea_aab8_0242ac1c0002row2_col0\" class=\"data row2 col0\" >0.978076</td>\n",
              "                        <td id=\"T_9dd6b476_1fc8_11ea_aab8_0242ac1c0002row2_col1\" class=\"data row2 col1\" >-0.0918183</td>\n",
              "                        <td id=\"T_9dd6b476_1fc8_11ea_aab8_0242ac1c0002row2_col2\" class=\"data row2 col2\" >-0.0917178</td>\n",
              "                        <td id=\"T_9dd6b476_1fc8_11ea_aab8_0242ac1c0002row2_col3\" class=\"data row2 col3\" >-0.174839</td>\n",
              "            </tr>\n",
              "            <tr>\n",
              "                        <th id=\"T_9dd6b476_1fc8_11ea_aab8_0242ac1c0002level0_row3\" class=\"row_heading level0 row3\" >1月の平均湿度</th>\n",
              "                        <td id=\"T_9dd6b476_1fc8_11ea_aab8_0242ac1c0002row3_col0\" class=\"data row3 col0\" >0.66648</td>\n",
              "                        <td id=\"T_9dd6b476_1fc8_11ea_aab8_0242ac1c0002row3_col1\" class=\"data row3 col1\" >0.0944361</td>\n",
              "                        <td id=\"T_9dd6b476_1fc8_11ea_aab8_0242ac1c0002row3_col2\" class=\"data row3 col2\" >0.085425</td>\n",
              "                        <td id=\"T_9dd6b476_1fc8_11ea_aab8_0242ac1c0002row3_col3\" class=\"data row3 col3\" >0.101885</td>\n",
              "            </tr>\n",
              "            <tr>\n",
              "                        <th id=\"T_9dd6b476_1fc8_11ea_aab8_0242ac1c0002level0_row4\" class=\"row_heading level0 row4\" >１月の平均雲量</th>\n",
              "                        <td id=\"T_9dd6b476_1fc8_11ea_aab8_0242ac1c0002row4_col0\" class=\"data row4 col0\" >-0.0146084</td>\n",
              "                        <td id=\"T_9dd6b476_1fc8_11ea_aab8_0242ac1c0002row4_col1\" class=\"data row4 col1\" >-0.02535</td>\n",
              "                        <td id=\"T_9dd6b476_1fc8_11ea_aab8_0242ac1c0002row4_col2\" class=\"data row4 col2\" >0.746561</td>\n",
              "                        <td id=\"T_9dd6b476_1fc8_11ea_aab8_0242ac1c0002row4_col3\" class=\"data row4 col3\" >-0.0465361</td>\n",
              "            </tr>\n",
              "    </tbody></table>"
            ],
            "text/plain": [
              "<pandas.io.formats.style.Styler at 0x7f9cb07d9f28>"
            ]
          },
          "metadata": {
            "tags": []
          },
          "execution_count": 34
        }
      ]
    },
    {
      "cell_type": "markdown",
      "metadata": {
        "id": "P4tFl9nW07iN",
        "colab_type": "text"
      },
      "source": [
        "1つのパラメータの因子負荷量が各因子間で大きく差があるので，因子数は適切だと考えられる．\n",
        "\n",
        "逆に，１つのパラメータの因子負荷量が因子間で大きく違わない場合は，うまく共通因子にまとめられなかったことを示している．\n",
        "\n",
        "その場合は，\n",
        "http://www.f.waseda.jp/oshio.at/edu/data_c/02/03.html\n",
        "を参考に因子を減らす"
      ]
    },
    {
      "cell_type": "code",
      "metadata": {
        "id": "gnN7zWpHfi6Q",
        "colab_type": "code",
        "outputId": "cc872b82-cf7e-47bb-f1bc-46eda91918c0",
        "colab": {
          "base_uri": "https://localhost:8080/",
          "height": 123
        }
      },
      "source": [
        "# Varimax回転の場合の因子数4での累積寄与率\n",
        "factor_index = list([])\n",
        "for i in range(n_factors):\n",
        "  factor_index.append('因子' + str(i))\n",
        "df_cumulative_variance = pd.DataFrame(fa_model.get_factor_variance()[2], index=factor_index)\n",
        "df_cumulative_variance.style.background_gradient(cmap=cm)"
      ],
      "execution_count": 21,
      "outputs": [
        {
          "output_type": "execute_result",
          "data": {
            "text/html": [
              "<style  type=\"text/css\" >\n",
              "    #T_ad3e22f0_1fbe_11ea_aab8_0242ac1c0002row0_col0 {\n",
              "            background-color:  #ffe5e5;\n",
              "            color:  #000000;\n",
              "        }    #T_ad3e22f0_1fbe_11ea_aab8_0242ac1c0002row1_col0 {\n",
              "            background-color:  #ff7a7a;\n",
              "            color:  #000000;\n",
              "        }    #T_ad3e22f0_1fbe_11ea_aab8_0242ac1c0002row2_col0 {\n",
              "            background-color:  #ff2626;\n",
              "            color:  #f1f1f1;\n",
              "        }    #T_ad3e22f0_1fbe_11ea_aab8_0242ac1c0002row3_col0 {\n",
              "            background-color:  #ff0000;\n",
              "            color:  #f1f1f1;\n",
              "        }</style><table id=\"T_ad3e22f0_1fbe_11ea_aab8_0242ac1c0002\" ><thead>    <tr>        <th class=\"blank level0\" ></th>        <th class=\"col_heading level0 col0\" >0</th>    </tr></thead><tbody>\n",
              "                <tr>\n",
              "                        <th id=\"T_ad3e22f0_1fbe_11ea_aab8_0242ac1c0002level0_row0\" class=\"row_heading level0 row0\" >因子0</th>\n",
              "                        <td id=\"T_ad3e22f0_1fbe_11ea_aab8_0242ac1c0002row0_col0\" class=\"data row0 col0\" >0.283771</td>\n",
              "            </tr>\n",
              "            <tr>\n",
              "                        <th id=\"T_ad3e22f0_1fbe_11ea_aab8_0242ac1c0002level0_row1\" class=\"row_heading level0 row1\" >因子1</th>\n",
              "                        <td id=\"T_ad3e22f0_1fbe_11ea_aab8_0242ac1c0002row1_col0\" class=\"data row1 col0\" >0.453573</td>\n",
              "            </tr>\n",
              "            <tr>\n",
              "                        <th id=\"T_ad3e22f0_1fbe_11ea_aab8_0242ac1c0002level0_row2\" class=\"row_heading level0 row2\" >因子2</th>\n",
              "                        <td id=\"T_ad3e22f0_1fbe_11ea_aab8_0242ac1c0002row2_col0\" class=\"data row2 col0\" >0.584042</td>\n",
              "            </tr>\n",
              "            <tr>\n",
              "                        <th id=\"T_ad3e22f0_1fbe_11ea_aab8_0242ac1c0002level0_row3\" class=\"row_heading level0 row3\" >因子3</th>\n",
              "                        <td id=\"T_ad3e22f0_1fbe_11ea_aab8_0242ac1c0002row3_col0\" class=\"data row3 col0\" >0.643126</td>\n",
              "            </tr>\n",
              "    </tbody></table>"
            ],
            "text/plain": [
              "<pandas.io.formats.style.Styler at 0x7f9cb102c940>"
            ]
          },
          "metadata": {
            "tags": []
          },
          "execution_count": 21
        }
      ]
    },
    {
      "cell_type": "markdown",
      "metadata": {
        "id": "CFm6SVpxgrcI",
        "colab_type": "text"
      },
      "source": [
        "例はPromax回転だが，Varimax回転の場合は，累積寄与率を参照することができる．\n",
        "（これはPromax回転のデータなので参照程度に）\n",
        "\n",
        "3因子で全体の58.4%，４因子で全体の64.3%を「説明することができている」"
      ]
    },
    {
      "cell_type": "code",
      "metadata": {
        "id": "bNXo4hZdta2D",
        "colab_type": "code",
        "outputId": "e916d907-67b0-4bb9-d755-08590b4171b1",
        "colab": {
          "base_uri": "https://localhost:8080/",
          "height": 1000
        }
      },
      "source": [
        "# 因子分析の結果を使って，\n",
        "# 観測された元々の説明変数の値を潜在変数の値に変換する\n",
        "factors_df = pd.DataFrame(fa_model.transform(df_sea_side_city.iloc[:, 2:]))\n",
        "num_of_row = df_sea_side_city.values.shape[0]\n",
        "\n",
        "# 潜在変数の値をプロットしてみる\n",
        "# 日本海側と太平洋側にわけて\n",
        "akita = list([])\n",
        "miyako = list([])\n",
        "sakata = list([])\n",
        "kamaishi = list([])\n",
        "for i in range(num_of_row):\n",
        "  if df_sea_side_city.values[i][0] == 'Akita':\n",
        "    akita.append(factors_df.iloc[i, :])\n",
        "  elif df_sea_side_city.values[i][0] == 'Miyako':\n",
        "    miyako.append(factors_df.iloc[i, :])\n",
        "  elif df_sea_side_city.values[i][0] == 'Sakata':\n",
        "    sakata.append(factors_df.iloc[i, :])\n",
        "  else:\n",
        "    kamaishi.append(factors_df.iloc[i, :])\n",
        "\n",
        "df_akita = pd.DataFrame(akita)\n",
        "df_miyako = pd.DataFrame(miyako)\n",
        "df_sakata = pd.DataFrame(sakata)\n",
        "df_kamaishi = pd.DataFrame(kamaishi)\n",
        "\n",
        "import matplotlib.pyplot as plt\n",
        "\n",
        "plt.scatter(df_akita.iloc[:, 0], df_akita.iloc[:, 1], label='Akita')\n",
        "plt.scatter(df_sakata.iloc[:, 0], df_sakata.iloc[:, 1], label='Sakata')\n",
        "plt.scatter(df_miyako.iloc[:, 0], df_miyako.iloc[:, 1], label='Miyako')\n",
        "plt.scatter(df_kamaishi.iloc[:, 0], df_kamaishi.iloc[:, 1], label='Kamaishi')\n",
        "\n",
        "plt.xlabel('Factor0')\n",
        "plt.ylabel('Factor1')\n",
        "plt.legend()\n",
        "plt.show()\n",
        "\n",
        "plt.scatter(df_akita.iloc[:, 0], df_akita.iloc[:, 2], label='Akita')\n",
        "plt.scatter(df_sakata.iloc[:, 0], df_sakata.iloc[:, 2], label='Sakata')\n",
        "plt.scatter(df_miyako.iloc[:, 0], df_miyako.iloc[:, 2], label='Miyako')\n",
        "plt.scatter(df_kamaishi.iloc[:, 0], df_kamaishi.iloc[:, 2], label='Kamaishi')\n",
        "\n",
        "plt.xlabel('Factor0')\n",
        "plt.ylabel('Factor2')\n",
        "plt.legend()\n",
        "plt.show()\n",
        "\n",
        "plt.scatter(df_akita.iloc[:, 0], df_akita.iloc[:, 3], label='Akita')\n",
        "plt.scatter(df_sakata.iloc[:, 0], df_sakata.iloc[:, 3], label='Sakata')\n",
        "plt.scatter(df_miyako.iloc[:, 0], df_miyako.iloc[:, 3], label='Miyako')\n",
        "plt.scatter(df_kamaishi.iloc[:, 0], df_kamaishi.iloc[:, 3], label='Kamaishi')\n",
        "\n",
        "plt.xlabel('Factor0')\n",
        "plt.ylabel('Factor1')\n",
        "plt.legend()\n",
        "plt.show()\n",
        "\n",
        "plt.scatter(df_akita.iloc[:, 1], df_akita.iloc[:, 2], label='Akita')\n",
        "plt.scatter(df_sakata.iloc[:, 1], df_sakata.iloc[:, 2], label='Sakata')\n",
        "plt.scatter(df_miyako.iloc[:, 1], df_miyako.iloc[:, 2], label='Miyako')\n",
        "plt.scatter(df_kamaishi.iloc[:, 1], df_kamaishi.iloc[:, 2], label='Kamaishi')\n",
        "\n",
        "plt.xlabel('Factor1')\n",
        "plt.ylabel('Factor2')\n",
        "plt.legend()\n",
        "plt.show()\n",
        "\n",
        "plt.scatter(df_akita.iloc[:, 1], df_akita.iloc[:, 3], label='Akita')\n",
        "plt.scatter(df_sakata.iloc[:, 1], df_sakata.iloc[:, 3], label='Sakata')\n",
        "plt.scatter(df_miyako.iloc[:, 1], df_miyako.iloc[:, 3], label='Miyako')\n",
        "plt.scatter(df_kamaishi.iloc[:, 1], df_kamaishi.iloc[:, 3], label='Kamaishi')\n",
        "\n",
        "plt.xlabel('Factor1')\n",
        "plt.ylabel('Factor3')\n",
        "plt.legend()\n",
        "plt.show()\n",
        "\n",
        "plt.scatter(df_akita.iloc[:, 2], df_akita.iloc[:, 3], label='Akita')\n",
        "plt.scatter(df_sakata.iloc[:, 2], df_sakata.iloc[:, 3], label='Sakata')\n",
        "plt.scatter(df_miyako.iloc[:, 2], df_miyako.iloc[:, 3], label='Miyako')\n",
        "plt.scatter(df_kamaishi.iloc[:, 2], df_kamaishi.iloc[:, 3], label='Kamaishi')\n",
        "\n",
        "plt.xlabel('Factor2')\n",
        "plt.ylabel('Factor3')\n",
        "plt.legend()\n",
        "plt.show()"
      ],
      "execution_count": 24,
      "outputs": [
        {
          "output_type": "display_data",
          "data": {
            "image/png": "[encoded data removed]",
            "text/plain": [
              "<Figure size 432x288 with 1 Axes>"
            ]
          },
          "metadata": {
            "tags": []
          }
        },
        {
          "output_type": "display_data",
          "data": {
            "image/png": "[encoded data removed]",
            "text/plain": [
              "<Figure size 432x288 with 1 Axes>"
            ]
          },
          "metadata": {
            "tags": []
          }
        },
        {
          "output_type": "display_data",
          "data": {
            "image/png": "[encoded data removed]",
            "text/plain": [
              "<Figure size 432x288 with 1 Axes>"
            ]
          },
          "metadata": {
            "tags": []
          }
        },
        {
          "output_type": "display_data",
          "data": {
            "image/png": "[encoded data removed]",
            "text/plain": [
              "<Figure size 432x288 with 1 Axes>"
            ]
          },
          "metadata": {
            "tags": []
          }
        },
        {
          "output_type": "display_data",
          "data": {
            "image/png": "[encoded data removed]",
            "text/plain": [
              "<Figure size 432x288 with 1 Axes>"
            ]
          },
          "metadata": {
            "tags": []
          }
        },
        {
          "output_type": "display_data",
          "data": {
            "image/png": "[encoded data removed]",
            "text/plain": [
              "<Figure size 432x288 with 1 Axes>"
            ]
          },
          "metadata": {
            "tags": []
          }
        }
      ]
    },
    {
      "cell_type": "markdown",
      "metadata": {
        "id": "jUjDj_4LCi5k",
        "colab_type": "text"
      },
      "source": [
        "この散布図を見ると，因子1と3の両方で太平洋側と日本海側をうまく分けることができているので，因子数はもっと少なくてもよいかもしれない．そこで因子数3と2についても行っていく．"
      ]
    },
    {
      "cell_type": "code",
      "metadata": {
        "id": "FsP9fZgnq-Di",
        "colab_type": "code",
        "outputId": "66659c7a-04c8-4a2d-db86-441641ef80f1",
        "colab": {
          "base_uri": "https://localhost:8080/",
          "height": 161
        }
      },
      "source": [
        "# 因子数3\n",
        "n_factors=3\n",
        "\n",
        "fa_model = FactorAnalyzer(n_factors=n_factors, method='ml', rotation='promax', impute='drop')\n",
        "fa_model.fit(df_sea_side_city.iloc[:, 2:])\n",
        "\n",
        "# わかりやすく列名を，元のデータフレームから持ってきて挿入する\n",
        "# 0列目はラベルなので，1列目から\n",
        "columns_name_array = df_sea_side_city.columns[2:]\n",
        "print(columns_name_array)\n",
        "# 行名(index)として，この配列を用いて，DataFrameを作る\n",
        "df_result = pd.DataFrame(fa_model.loadings_, index=columns_name_array)\n",
        "\n",
        "# 因子負荷量の行列を色分けして表示\n",
        "cm = sns.light_palette('red', as_cmap=True)\n",
        "# セルの最後に実行すること．df.head()と同じく，printしても色分けされない\n",
        "df_result.style.background_gradient(cmap=cm)"
      ],
      "execution_count": 16,
      "outputs": [
        {
          "output_type": "stream",
          "text": [
            "Index(['1月の降水量', '1月の日照時間', '1月の平均風速', '1月の平均湿度', '１月の平均雲量'], dtype='object')\n"
          ],
          "name": "stdout"
        },
        {
          "output_type": "execute_result",
          "data": {
            "text/html": [
              "<style  type=\"text/css\" >\n",
              "    #T_8ba150ea_1fbe_11ea_aab8_0242ac1c0002row0_col0 {\n",
              "            background-color:  #ffb0b0;\n",
              "            color:  #000000;\n",
              "        }    #T_8ba150ea_1fbe_11ea_aab8_0242ac1c0002row0_col1 {\n",
              "            background-color:  #ff0000;\n",
              "            color:  #f1f1f1;\n",
              "        }    #T_8ba150ea_1fbe_11ea_aab8_0242ac1c0002row0_col2 {\n",
              "            background-color:  #ffc8c8;\n",
              "            color:  #000000;\n",
              "        }    #T_8ba150ea_1fbe_11ea_aab8_0242ac1c0002row1_col0 {\n",
              "            background-color:  #ffe5e5;\n",
              "            color:  #000000;\n",
              "        }    #T_8ba150ea_1fbe_11ea_aab8_0242ac1c0002row1_col1 {\n",
              "            background-color:  #ffe5e5;\n",
              "            color:  #000000;\n",
              "        }    #T_8ba150ea_1fbe_11ea_aab8_0242ac1c0002row1_col2 {\n",
              "            background-color:  #ffe5e5;\n",
              "            color:  #000000;\n",
              "        }    #T_8ba150ea_1fbe_11ea_aab8_0242ac1c0002row2_col0 {\n",
              "            background-color:  #ff0000;\n",
              "            color:  #f1f1f1;\n",
              "        }    #T_8ba150ea_1fbe_11ea_aab8_0242ac1c0002row2_col1 {\n",
              "            background-color:  #ffc0c0;\n",
              "            color:  #000000;\n",
              "        }    #T_8ba150ea_1fbe_11ea_aab8_0242ac1c0002row2_col2 {\n",
              "            background-color:  #ffc9c9;\n",
              "            color:  #000000;\n",
              "        }    #T_8ba150ea_1fbe_11ea_aab8_0242ac1c0002row3_col0 {\n",
              "            background-color:  #ff4444;\n",
              "            color:  #000000;\n",
              "        }    #T_8ba150ea_1fbe_11ea_aab8_0242ac1c0002row3_col1 {\n",
              "            background-color:  #ffa6a6;\n",
              "            color:  #000000;\n",
              "        }    #T_8ba150ea_1fbe_11ea_aab8_0242ac1c0002row3_col2 {\n",
              "            background-color:  #ffb8b8;\n",
              "            color:  #000000;\n",
              "        }    #T_8ba150ea_1fbe_11ea_aab8_0242ac1c0002row4_col0 {\n",
              "            background-color:  #ffb0b0;\n",
              "            color:  #000000;\n",
              "        }    #T_8ba150ea_1fbe_11ea_aab8_0242ac1c0002row4_col1 {\n",
              "            background-color:  #ffb8b8;\n",
              "            color:  #000000;\n",
              "        }    #T_8ba150ea_1fbe_11ea_aab8_0242ac1c0002row4_col2 {\n",
              "            background-color:  #ff0000;\n",
              "            color:  #f1f1f1;\n",
              "        }</style><table id=\"T_8ba150ea_1fbe_11ea_aab8_0242ac1c0002\" ><thead>    <tr>        <th class=\"blank level0\" ></th>        <th class=\"col_heading level0 col0\" >0</th>        <th class=\"col_heading level0 col1\" >1</th>        <th class=\"col_heading level0 col2\" >2</th>    </tr></thead><tbody>\n",
              "                <tr>\n",
              "                        <th id=\"T_8ba150ea_1fbe_11ea_aab8_0242ac1c0002level0_row0\" class=\"row_heading level0 row0\" >1月の降水量</th>\n",
              "                        <td id=\"T_8ba150ea_1fbe_11ea_aab8_0242ac1c0002row0_col0\" class=\"data row0 col0\" >-0.0660139</td>\n",
              "                        <td id=\"T_8ba150ea_1fbe_11ea_aab8_0242ac1c0002row0_col1\" class=\"data row0 col1\" >1.08961</td>\n",
              "                        <td id=\"T_8ba150ea_1fbe_11ea_aab8_0242ac1c0002row0_col2\" class=\"data row0 col2\" >-0.0840118</td>\n",
              "            </tr>\n",
              "            <tr>\n",
              "                        <th id=\"T_8ba150ea_1fbe_11ea_aab8_0242ac1c0002level0_row1\" class=\"row_heading level0 row1\" >1月の日照時間</th>\n",
              "                        <td id=\"T_8ba150ea_1fbe_11ea_aab8_0242ac1c0002row1_col0\" class=\"data row1 col0\" >-0.425198</td>\n",
              "                        <td id=\"T_8ba150ea_1fbe_11ea_aab8_0242ac1c0002row1_col1\" class=\"data row1 col1\" >-0.358294</td>\n",
              "                        <td id=\"T_8ba150ea_1fbe_11ea_aab8_0242ac1c0002row1_col2\" class=\"data row1 col2\" >-0.254194</td>\n",
              "            </tr>\n",
              "            <tr>\n",
              "                        <th id=\"T_8ba150ea_1fbe_11ea_aab8_0242ac1c0002level0_row2\" class=\"row_heading level0 row2\" >1月の平均風速</th>\n",
              "                        <td id=\"T_8ba150ea_1fbe_11ea_aab8_0242ac1c0002row2_col0\" class=\"data row2 col0\" >1.12426</td>\n",
              "                        <td id=\"T_8ba150ea_1fbe_11ea_aab8_0242ac1c0002row2_col1\" class=\"data row2 col1\" >-0.116209</td>\n",
              "                        <td id=\"T_8ba150ea_1fbe_11ea_aab8_0242ac1c0002row2_col2\" class=\"data row2 col2\" >-0.0873679</td>\n",
              "            </tr>\n",
              "            <tr>\n",
              "                        <th id=\"T_8ba150ea_1fbe_11ea_aab8_0242ac1c0002level0_row3\" class=\"row_heading level0 row3\" >1月の平均湿度</th>\n",
              "                        <td id=\"T_8ba150ea_1fbe_11ea_aab8_0242ac1c0002row3_col0\" class=\"data row3 col0\" >0.665605</td>\n",
              "                        <td id=\"T_8ba150ea_1fbe_11ea_aab8_0242ac1c0002row3_col1\" class=\"data row3 col1\" >0.042457</td>\n",
              "                        <td id=\"T_8ba150ea_1fbe_11ea_aab8_0242ac1c0002row3_col2\" class=\"data row3 col2\" >0.00256864</td>\n",
              "            </tr>\n",
              "            <tr>\n",
              "                        <th id=\"T_8ba150ea_1fbe_11ea_aab8_0242ac1c0002level0_row4\" class=\"row_heading level0 row4\" >１月の平均雲量</th>\n",
              "                        <td id=\"T_8ba150ea_1fbe_11ea_aab8_0242ac1c0002row4_col0\" class=\"data row4 col0\" >-0.0582122</td>\n",
              "                        <td id=\"T_8ba150ea_1fbe_11ea_aab8_0242ac1c0002row4_col1\" class=\"data row4 col1\" >-0.0682837</td>\n",
              "                        <td id=\"T_8ba150ea_1fbe_11ea_aab8_0242ac1c0002row4_col2\" class=\"data row4 col2\" >1.04016</td>\n",
              "            </tr>\n",
              "    </tbody></table>"
            ],
            "text/plain": [
              "<pandas.io.formats.style.Styler at 0x7f9cb10ed240>"
            ]
          },
          "metadata": {
            "tags": []
          },
          "execution_count": 16
        }
      ]
    },
    {
      "cell_type": "markdown",
      "metadata": {
        "id": "hmWUgV4D1wpg",
        "colab_type": "text"
      },
      "source": [
        "日照時間の因子負荷量の因子間の違いが，非常に小さい．これは3因子では因子分析がうまくいかなかったことを示している．\n"
      ]
    },
    {
      "cell_type": "code",
      "metadata": {
        "id": "eS4IuA-ErQzB",
        "colab_type": "code",
        "outputId": "a9b82d6c-fd5a-4e7a-9228-0fa5c73072b6",
        "colab": {
          "base_uri": "https://localhost:8080/",
          "height": 102
        }
      },
      "source": [
        "# Varimax回転の時の因子数3での累積寄与率\n",
        "# 例はPromax回転だが，Varimax回転の場合は，累積寄与率を参照することができる．\n",
        "# （これはPromax回転のデータなので参照程度に）\n",
        "factor_index = list([])\n",
        "for i in range(n_factors):\n",
        "  factor_index.append('因子' + str(i))\n",
        "df_cumulative_variance = pd.DataFrame(fa_model.get_factor_variance()[2], index=factor_index)\n",
        "df_cumulative_variance.style.background_gradient(cmap=cm)"
      ],
      "execution_count": 17,
      "outputs": [
        {
          "output_type": "execute_result",
          "data": {
            "text/html": [
              "<style  type=\"text/css\" >\n",
              "    #T_8e019098_1fbe_11ea_aab8_0242ac1c0002row0_col0 {\n",
              "            background-color:  #ffe5e5;\n",
              "            color:  #000000;\n",
              "        }    #T_8e019098_1fbe_11ea_aab8_0242ac1c0002row1_col0 {\n",
              "            background-color:  #ff6b6b;\n",
              "            color:  #000000;\n",
              "        }    #T_8e019098_1fbe_11ea_aab8_0242ac1c0002row2_col0 {\n",
              "            background-color:  #ff0000;\n",
              "            color:  #f1f1f1;\n",
              "        }</style><table id=\"T_8e019098_1fbe_11ea_aab8_0242ac1c0002\" ><thead>    <tr>        <th class=\"blank level0\" ></th>        <th class=\"col_heading level0 col0\" >0</th>    </tr></thead><tbody>\n",
              "                <tr>\n",
              "                        <th id=\"T_8e019098_1fbe_11ea_aab8_0242ac1c0002level0_row0\" class=\"row_heading level0 row0\" >因子0</th>\n",
              "                        <td id=\"T_8e019098_1fbe_11ea_aab8_0242ac1c0002row0_col0\" class=\"data row0 col0\" >0.379107</td>\n",
              "            </tr>\n",
              "            <tr>\n",
              "                        <th id=\"T_8e019098_1fbe_11ea_aab8_0242ac1c0002level0_row1\" class=\"row_heading level0 row1\" >因子1</th>\n",
              "                        <td id=\"T_8e019098_1fbe_11ea_aab8_0242ac1c0002row1_col0\" class=\"data row1 col0\" >0.646227</td>\n",
              "            </tr>\n",
              "            <tr>\n",
              "                        <th id=\"T_8e019098_1fbe_11ea_aab8_0242ac1c0002level0_row2\" class=\"row_heading level0 row2\" >因子2</th>\n",
              "                        <td id=\"T_8e019098_1fbe_11ea_aab8_0242ac1c0002row2_col0\" class=\"data row2 col0\" >0.878476</td>\n",
              "            </tr>\n",
              "    </tbody></table>"
            ],
            "text/plain": [
              "<pandas.io.formats.style.Styler at 0x7f9cb10ed358>"
            ]
          },
          "metadata": {
            "tags": []
          },
          "execution_count": 17
        }
      ]
    },
    {
      "cell_type": "markdown",
      "metadata": {
        "id": "7dhureIkriZK",
        "colab_type": "text"
      },
      "source": [
        "（もしVarimax回転だったら）\n",
        "３因子の累積寄与率が88%なので，因子数3で因子分析を行った方が，全体をうまく説明できていることになる．"
      ]
    },
    {
      "cell_type": "code",
      "metadata": {
        "id": "1Ry5WfNICQ6I",
        "colab_type": "code",
        "colab": {
          "base_uri": "https://localhost:8080/",
          "height": 161
        },
        "outputId": "a67ed2fe-1332-4722-f3cd-aac45eceb3a5"
      },
      "source": [
        "# 因子数2\n",
        "n_factors=2\n",
        "\n",
        "fa_model = FactorAnalyzer(n_factors=n_factors, method='ml', rotation='promax', impute='drop')\n",
        "fa_model.fit(df_sea_side_city.iloc[:, 2:])\n",
        "\n",
        "# わかりやすく列名を，元のデータフレームから持ってきて挿入する\n",
        "# 0列目はラベルなので，1列目から\n",
        "columns_name_array = df_sea_side_city.columns[2:]\n",
        "print(columns_name_array)\n",
        "# 行名(index)として，この配列を用いて，DataFrameを作る\n",
        "df_result = pd.DataFrame(fa_model.loadings_, index=columns_name_array)\n",
        "\n",
        "# 因子負荷量の行列を色分けして表示\n",
        "cm = sns.light_palette('red', as_cmap=True)\n",
        "# セルの最後に実行すること．df.head()と同じく，printしても色分けされない\n",
        "df_result.style.background_gradient(cmap=cm)"
      ],
      "execution_count": 25,
      "outputs": [
        {
          "output_type": "stream",
          "text": [
            "Index(['1月の降水量', '1月の日照時間', '1月の平均風速', '1月の平均湿度', '１月の平均雲量'], dtype='object')\n"
          ],
          "name": "stdout"
        },
        {
          "output_type": "execute_result",
          "data": {
            "text/html": [
              "<style  type=\"text/css\" >\n",
              "    #T_5352ca7e_1fbf_11ea_aab8_0242ac1c0002row0_col0 {\n",
              "            background-color:  #ff0000;\n",
              "            color:  #f1f1f1;\n",
              "        }    #T_5352ca7e_1fbf_11ea_aab8_0242ac1c0002row0_col1 {\n",
              "            background-color:  #ffb8b8;\n",
              "            color:  #000000;\n",
              "        }    #T_5352ca7e_1fbf_11ea_aab8_0242ac1c0002row1_col0 {\n",
              "            background-color:  #ffe5e5;\n",
              "            color:  #000000;\n",
              "        }    #T_5352ca7e_1fbf_11ea_aab8_0242ac1c0002row1_col1 {\n",
              "            background-color:  #ffe5e5;\n",
              "            color:  #000000;\n",
              "        }    #T_5352ca7e_1fbf_11ea_aab8_0242ac1c0002row2_col0 {\n",
              "            background-color:  #ff6b6b;\n",
              "            color:  #000000;\n",
              "        }    #T_5352ca7e_1fbf_11ea_aab8_0242ac1c0002row2_col1 {\n",
              "            background-color:  #ff0000;\n",
              "            color:  #f1f1f1;\n",
              "        }    #T_5352ca7e_1fbf_11ea_aab8_0242ac1c0002row3_col0 {\n",
              "            background-color:  #ff5b5b;\n",
              "            color:  #000000;\n",
              "        }    #T_5352ca7e_1fbf_11ea_aab8_0242ac1c0002row3_col1 {\n",
              "            background-color:  #ff4c4c;\n",
              "            color:  #000000;\n",
              "        }    #T_5352ca7e_1fbf_11ea_aab8_0242ac1c0002row4_col0 {\n",
              "            background-color:  #ff0202;\n",
              "            color:  #f1f1f1;\n",
              "        }    #T_5352ca7e_1fbf_11ea_aab8_0242ac1c0002row4_col1 {\n",
              "            background-color:  #ffd2d2;\n",
              "            color:  #000000;\n",
              "        }</style><table id=\"T_5352ca7e_1fbf_11ea_aab8_0242ac1c0002\" ><thead>    <tr>        <th class=\"blank level0\" ></th>        <th class=\"col_heading level0 col0\" >0</th>        <th class=\"col_heading level0 col1\" >1</th>    </tr></thead><tbody>\n",
              "                <tr>\n",
              "                        <th id=\"T_5352ca7e_1fbf_11ea_aab8_0242ac1c0002level0_row0\" class=\"row_heading level0 row0\" >1月の降水量</th>\n",
              "                        <td id=\"T_5352ca7e_1fbf_11ea_aab8_0242ac1c0002row0_col0\" class=\"data row0 col0\" >0.712126</td>\n",
              "                        <td id=\"T_5352ca7e_1fbf_11ea_aab8_0242ac1c0002row0_col1\" class=\"data row0 col1\" >0.0775596</td>\n",
              "            </tr>\n",
              "            <tr>\n",
              "                        <th id=\"T_5352ca7e_1fbf_11ea_aab8_0242ac1c0002level0_row1\" class=\"row_heading level0 row1\" >1月の日照時間</th>\n",
              "                        <td id=\"T_5352ca7e_1fbf_11ea_aab8_0242ac1c0002row1_col0\" class=\"data row1 col0\" >-0.874962</td>\n",
              "                        <td id=\"T_5352ca7e_1fbf_11ea_aab8_0242ac1c0002row1_col1\" class=\"data row1 col1\" >-0.161238</td>\n",
              "            </tr>\n",
              "            <tr>\n",
              "                        <th id=\"T_5352ca7e_1fbf_11ea_aab8_0242ac1c0002level0_row2\" class=\"row_heading level0 row2\" >1月の平均風速</th>\n",
              "                        <td id=\"T_5352ca7e_1fbf_11ea_aab8_0242ac1c0002row2_col0\" class=\"data row2 col0\" >-0.0314781</td>\n",
              "                        <td id=\"T_5352ca7e_1fbf_11ea_aab8_0242ac1c0002row2_col1\" class=\"data row2 col1\" >1.01996</td>\n",
              "            </tr>\n",
              "            <tr>\n",
              "                        <th id=\"T_5352ca7e_1fbf_11ea_aab8_0242ac1c0002level0_row3\" class=\"row_heading level0 row3\" >1月の平均湿度</th>\n",
              "                        <td id=\"T_5352ca7e_1fbf_11ea_aab8_0242ac1c0002row3_col0\" class=\"data row3 col0\" >0.0830003</td>\n",
              "                        <td id=\"T_5352ca7e_1fbf_11ea_aab8_0242ac1c0002row3_col1\" class=\"data row3 col1\" >0.630294</td>\n",
              "            </tr>\n",
              "            <tr>\n",
              "                        <th id=\"T_5352ca7e_1fbf_11ea_aab8_0242ac1c0002level0_row4\" class=\"row_heading level0 row4\" >１月の平均雲量</th>\n",
              "                        <td id=\"T_5352ca7e_1fbf_11ea_aab8_0242ac1c0002row4_col0\" class=\"data row4 col0\" >0.694791</td>\n",
              "                        <td id=\"T_5352ca7e_1fbf_11ea_aab8_0242ac1c0002row4_col1\" class=\"data row4 col1\" >-0.0577058</td>\n",
              "            </tr>\n",
              "    </tbody></table>"
            ],
            "text/plain": [
              "<pandas.io.formats.style.Styler at 0x7f9cb0519390>"
            ]
          },
          "metadata": {
            "tags": []
          },
          "execution_count": 25
        }
      ]
    },
    {
      "cell_type": "markdown",
      "metadata": {
        "id": "RXdWps3ECgIo",
        "colab_type": "text"
      },
      "source": [
        "因子数2の時，因子負荷量が因子間で明確に分かれているので，因子数2が適切っぽいので，散布図を描いてみる．"
      ]
    },
    {
      "cell_type": "code",
      "metadata": {
        "id": "UO4lKCJBDCev",
        "colab_type": "code",
        "colab": {
          "base_uri": "https://localhost:8080/",
          "height": 279
        },
        "outputId": "63aec988-18d0-4659-d742-82d0f0f946d0"
      },
      "source": [
        "# 因子分析の結果を使って，\n",
        "# 観測された元々の説明変数の値を潜在変数の値に変換する\n",
        "factors_df = pd.DataFrame(fa_model.transform(df_sea_side_city.iloc[:, 2:]))\n",
        "num_of_row = df_sea_side_city.values.shape[0]\n",
        "\n",
        "# 潜在変数の値をプロットしてみる\n",
        "# 日本海側と太平洋側にわけて\n",
        "akita = list([])\n",
        "miyako = list([])\n",
        "sakata = list([])\n",
        "kamaishi = list([])\n",
        "for i in range(num_of_row):\n",
        "  if df_sea_side_city.values[i][0] == 'Akita':\n",
        "    akita.append(factors_df.iloc[i, :])\n",
        "  elif df_sea_side_city.values[i][0] == 'Miyako':\n",
        "    miyako.append(factors_df.iloc[i, :])\n",
        "  elif df_sea_side_city.values[i][0] == 'Sakata':\n",
        "    sakata.append(factors_df.iloc[i, :])\n",
        "  else:\n",
        "    kamaishi.append(factors_df.iloc[i, :])\n",
        "\n",
        "df_akita = pd.DataFrame(akita)\n",
        "df_miyako = pd.DataFrame(miyako)\n",
        "df_sakata = pd.DataFrame(sakata)\n",
        "df_kamaishi = pd.DataFrame(kamaishi)\n",
        "\n",
        "import matplotlib.pyplot as plt\n",
        "\n",
        "plt.scatter(df_akita.iloc[:, 0], df_akita.iloc[:, 1], label='Akita')\n",
        "plt.scatter(df_sakata.iloc[:, 0], df_sakata.iloc[:, 1], label='Sakata')\n",
        "plt.scatter(df_miyako.iloc[:, 0], df_miyako.iloc[:, 1], label='Miyako')\n",
        "plt.scatter(df_kamaishi.iloc[:, 0], df_kamaishi.iloc[:, 1], label='Kamaishi')\n",
        "\n",
        "plt.xlabel('Factor0')\n",
        "plt.ylabel('Factor1')\n",
        "plt.legend()\n",
        "plt.show()\n"
      ],
      "execution_count": 26,
      "outputs": [
        {
          "output_type": "display_data",
          "data": {
            "image/png": "[encoded data removed]",
            "text/plain": [
              "<Figure size 432x288 with 1 Axes>"
            ]
          },
          "metadata": {
            "tags": []
          }
        }
      ]
    },
    {
      "cell_type": "markdown",
      "metadata": {
        "id": "H8QcTlg-DUyq",
        "colab_type": "text"
      },
      "source": [
        "因子1の縦軸に対してほぼ傾き無限大の直線で太平洋側と日本海側を分離することができるため，因子1は「太平洋側 - 日本海側」であり，「太平洋側 - 日本海側」という「因子」が「風速」と「湿度」に大きく影響を与えている，と考えることができる．\n",
        "\n",
        "では「降水量」「日照時間」「雲量」に影響を大きく与えている因子0はなんだろうか．分析者はこれを考えなければならない．"
      ]
    }
  ]
}