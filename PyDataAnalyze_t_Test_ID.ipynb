{
  "nbformat": 4,
  "nbformat_minor": 0,
  "metadata": {
    "colab": {
      "name": "PyDataAnalyze_t_Test_ID.ipynb",
      "provenance": [],
      "collapsed_sections": [],
      "authorship_tag": "ABX9TyNzlUuIj09LtTx4Za+r4TQp",
      "include_colab_link": true
    },
    "kernelspec": {
      "name": "python3",
      "display_name": "Python 3"
    }
  },
  "cells": [
    {
      "cell_type": "markdown",
      "metadata": {
        "id": "view-in-github",
        "colab_type": "text"
      },
      "source": [
        "<a href=\"https://colab.research.google.com/github/daichi-a/PythonDataAnalyzeClassMaterial/blob/master/PyDataAnalyze_t_Test_ID.ipynb\" target=\"_parent\"><img src=\"https://colab.research.google.com/assets/colab-badge.svg\" alt=\"Open In Colab\"/></a>"
      ]
    },
    {
      "cell_type": "code",
      "metadata": {
        "id": "0PE8pmPcPemy",
        "colab_type": "code",
        "colab": {
          "base_uri": "https://localhost:8080/",
          "height": 221
        },
        "outputId": "0904409c-7f64-490e-de01-f9ac8d5ae5c7"
      },
      "source": [
        "import numpy as np\n",
        "import pandas as pd\n",
        "\n",
        "df = pd.read_csv('https://docs.google.com/spreadsheets/d/e/2PACX-1vTaptSvrA7xwPVr-v6IvYdPIwNpsQI3LqpL_DQFW3mCmfbxSBuCK4d_NoFkD7msjeVZg8stda-Q_UzE/pub?gid=234345710&single=true&output=csv')\n",
        "df.head()"
      ],
      "execution_count": 1,
      "outputs": [
        {
          "output_type": "execute_result",
          "data": {
            "text/html": [
              "<div>\n",
              "<style scoped>\n",
              "    .dataframe tbody tr th:only-of-type {\n",
              "        vertical-align: middle;\n",
              "    }\n",
              "\n",
              "    .dataframe tbody tr th {\n",
              "        vertical-align: top;\n",
              "    }\n",
              "\n",
              "    .dataframe thead th {\n",
              "        text-align: right;\n",
              "    }\n",
              "</style>\n",
              "<table border=\"1\" class=\"dataframe\">\n",
              "  <thead>\n",
              "    <tr style=\"text-align: right;\">\n",
              "      <th></th>\n",
              "      <th>年月</th>\n",
              "      <th>江戸川臨海.jan.ave</th>\n",
              "      <th>東京.jan.ave</th>\n",
              "      <th>青梅.jan.ave</th>\n",
              "      <th>八王子.jan.ave</th>\n",
              "      <th>練馬.jan.ave</th>\n",
              "      <th>府中.jan.ave</th>\n",
              "      <th>江戸川臨海.aug.ave</th>\n",
              "      <th>東京.aug.ave</th>\n",
              "      <th>青梅.aug.ave</th>\n",
              "      <th>八王子.aug.ave</th>\n",
              "      <th>練馬.aug.ave</th>\n",
              "      <th>府中.aug.ave</th>\n",
              "    </tr>\n",
              "  </thead>\n",
              "  <tbody>\n",
              "    <tr>\n",
              "      <th>0</th>\n",
              "      <td>1977</td>\n",
              "      <td>3.1</td>\n",
              "      <td>3.4</td>\n",
              "      <td>0.7</td>\n",
              "      <td>0.9</td>\n",
              "      <td>2.2</td>\n",
              "      <td>1.8</td>\n",
              "      <td>24.1</td>\n",
              "      <td>25.0</td>\n",
              "      <td>22.8</td>\n",
              "      <td>23.7</td>\n",
              "      <td>24.4</td>\n",
              "      <td>23.8</td>\n",
              "    </tr>\n",
              "    <tr>\n",
              "      <th>1</th>\n",
              "      <td>1978</td>\n",
              "      <td>5.4</td>\n",
              "      <td>5.6</td>\n",
              "      <td>2.6</td>\n",
              "      <td>2.9</td>\n",
              "      <td>4.0</td>\n",
              "      <td>3.7</td>\n",
              "      <td>28.1</td>\n",
              "      <td>28.9</td>\n",
              "      <td>26.6</td>\n",
              "      <td>27.4</td>\n",
              "      <td>28.2</td>\n",
              "      <td>27.6</td>\n",
              "    </tr>\n",
              "    <tr>\n",
              "      <th>2</th>\n",
              "      <td>1979</td>\n",
              "      <td>5.8</td>\n",
              "      <td>6.6</td>\n",
              "      <td>3.7</td>\n",
              "      <td>3.2</td>\n",
              "      <td>4.6</td>\n",
              "      <td>4.4</td>\n",
              "      <td>26.3</td>\n",
              "      <td>27.4</td>\n",
              "      <td>24.9</td>\n",
              "      <td>25.9</td>\n",
              "      <td>26.4</td>\n",
              "      <td>26.1</td>\n",
              "    </tr>\n",
              "    <tr>\n",
              "      <th>3</th>\n",
              "      <td>1980</td>\n",
              "      <td>5.2</td>\n",
              "      <td>5.6</td>\n",
              "      <td>2.6</td>\n",
              "      <td>3.0</td>\n",
              "      <td>3.8</td>\n",
              "      <td>3.7</td>\n",
              "      <td>22.3</td>\n",
              "      <td>23.4</td>\n",
              "      <td>21.7</td>\n",
              "      <td>22.4</td>\n",
              "      <td>22.7</td>\n",
              "      <td>22.5</td>\n",
              "    </tr>\n",
              "    <tr>\n",
              "      <th>4</th>\n",
              "      <td>1981</td>\n",
              "      <td>3.9</td>\n",
              "      <td>4.4</td>\n",
              "      <td>1.1</td>\n",
              "      <td>1.0</td>\n",
              "      <td>2.7</td>\n",
              "      <td>2.2</td>\n",
              "      <td>25.5</td>\n",
              "      <td>26.2</td>\n",
              "      <td>24.0</td>\n",
              "      <td>24.9</td>\n",
              "      <td>26.1</td>\n",
              "      <td>25.1</td>\n",
              "    </tr>\n",
              "  </tbody>\n",
              "</table>\n",
              "</div>"
            ],
            "text/plain": [
              "     年月  江戸川臨海.jan.ave  東京.jan.ave  ...  八王子.aug.ave  練馬.aug.ave  府中.aug.ave\n",
              "0  1977            3.1         3.4  ...         23.7        24.4        23.8\n",
              "1  1978            5.4         5.6  ...         27.4        28.2        27.6\n",
              "2  1979            5.8         6.6  ...         25.9        26.4        26.1\n",
              "3  1980            5.2         5.6  ...         22.4        22.7        22.5\n",
              "4  1981            3.9         4.4  ...         24.9        26.1        25.1\n",
              "\n",
              "[5 rows x 13 columns]"
            ]
          },
          "metadata": {
            "tags": []
          },
          "execution_count": 1
        }
      ]
    },
    {
      "cell_type": "code",
      "metadata": {
        "id": "pYEpaL9nQaWF",
        "colab_type": "code",
        "colab": {
          "base_uri": "https://localhost:8080/",
          "height": 34
        },
        "outputId": "3f15d6ba-89fa-4591-b207-84a8605bc45b"
      },
      "source": [
        "df2 = df.dropna(how='any')\n",
        "print(df2.shape)"
      ],
      "execution_count": 2,
      "outputs": [
        {
          "output_type": "stream",
          "text": [
            "(41, 13)\n"
          ],
          "name": "stdout"
        }
      ]
    },
    {
      "cell_type": "code",
      "metadata": {
        "id": "U6Brm9EHSvLn",
        "colab_type": "code",
        "colab": {
          "base_uri": "https://localhost:8080/",
          "height": 374
        },
        "outputId": "2e034770-7e35-4813-8b0c-e3ce12f80453"
      },
      "source": [
        "#まず，江戸川と練馬のそれぞれ1月だけ，8月だけの配列を作る．\n",
        "#それぞれ列を取り出して，データの次元を確認する\n",
        "edogawa_jan = df2.loc[:, ['江戸川臨海.jan.ave']]\n",
        "edogawa_aug = df2.loc[:, ['江戸川臨海.aug.ave']]\n",
        "print('Edogawa Jan. shape:', edogawa_jan.shape)\n",
        "# 1次元にする\n",
        "edogawa_jan = edogawa_jan.values.flatten()\n",
        "edogawa_aug = edogawa_aug.values.flatten()\n",
        "# 次元を確認\n",
        "print('Edogawa Jan. shape:', edogawa_jan.shape)\n",
        "# 中身を確認\n",
        "print(edogawa_jan)\n",
        "# printした結果，中身が文字列なので，実数に変更\n",
        "edogawa_jan = edogawa_jan.astype('float32')\n",
        "edogawa_aug = edogawa_aug.astype('float32')\n",
        "# 中身を確認する\n",
        "print(edogawa_jan)\n",
        "print(edogawa_aug)\n",
        "print(edogawa_jan.shape)\n",
        "print(edogawa_aug.shape)\n",
        "\n",
        "# 練馬のデータも同じ様に処理する\n",
        "nerima_jan = df2.loc[:, ['練馬.jan.ave']]\n",
        "nerima_aug = df2.loc[:, ['練馬.aug.ave']]\n",
        "nerima_jan = nerima_jan.values.flatten()\n",
        "nerima_aug = nerima_aug.values.flatten()\n",
        "nerima_jan = nerima_jan.astype('float32')\n",
        "nerima_aug = nerima_aug.astype('float32')\n",
        "print(nerima_jan)\n",
        "print(nerima_jan.shape)\n",
        "print(nerima_aug)\n",
        "print(nerima_aug.shape)"
      ],
      "execution_count": 4,
      "outputs": [
        {
          "output_type": "stream",
          "text": [
            "Edogawa Jan. shape: (41, 1)\n",
            "Edogawa Jan. shape: (41,)\n",
            "[3.1 5.4 5.8 5.2 3.9 5.5 5.6 3.1 3.6 3.9 5.3 7.  7.5 4.8 6.1 6.3 5.7 6.2\n",
            " 5.9 6.1 6.6 5.1 6.4 7.3 4.5 7.1 5.1 6.  6.1 4.9 7.4 5.7 6.7 5.  4.3 5.2\n",
            " 5.9 6.1 6.5 6.4 5.2]\n",
            "[3.1 5.4 5.8 5.2 3.9 5.5 5.6 3.1 3.6 3.9 5.3 7.  7.5 4.8 6.1 6.3 5.7 6.2\n",
            " 5.9 6.1 6.6 5.1 6.4 7.3 4.5 7.1 5.1 6.  6.1 4.9 7.4 5.7 6.7 5.  4.3 5.2\n",
            " 5.9 6.1 6.5 6.4 5.2]\n",
            "[24.1 28.1 26.3 22.3 25.5 25.9 26.1 27.4 26.7 25.4 25.8 25.3 26.  27.5\n",
            " 24.6 25.7 23.7 27.7 27.8 24.9 25.9 26.4 27.8 27.3 25.6 26.7 24.8 26.4\n",
            " 26.8 26.4 27.7 26.2 28.6 26.8 28.2 28.3 26.3 26.5 27.2 26.4 27.7]\n",
            "(41,)\n",
            "(41,)\n",
            "[2.2 4.  4.6 3.8 2.7 4.6 4.6 2.  2.7 3.  4.2 6.2 6.8 3.6 4.8 5.4 5.  4.2\n",
            " 4.8 5.1 5.2 3.8 5.2 6.6 3.4 5.8 4.  5.1 4.5 3.8 6.3 4.6 5.6 3.9 3.4 3.7\n",
            " 4.4 5.  5.2 5.  3.8]\n",
            "(41,)\n",
            "[24.4 28.2 26.4 22.7 26.1 26.6 27.  28.2 27.8 26.6 26.8 26.5 26.7 28.4\n",
            " 25.1 26.9 24.3 28.9 29.4 26.  27.  26.9 28.6 28.  26.  27.8 25.9 27.\n",
            " 28.  27.6 29.1 26.5 29.9 27.4 29.  28.4 27.  26.7 27.2 26.5 28.3]\n",
            "(41,)\n"
          ],
          "name": "stdout"
        }
      ]
    },
    {
      "cell_type": "code",
      "metadata": {
        "id": "rGj98tB9TLY0",
        "colab_type": "code",
        "colab": {
          "base_uri": "https://localhost:8080/",
          "height": 85
        },
        "outputId": "2fdac601-35a5-4769-d0e2-9e3c09abd21a"
      },
      "source": [
        "print('1977年から1988年までの1月の江戸川の平均気温', np.average(edogawa_jan))\n",
        "print('1977年から1988年までの8月の江戸川の平均気温', np.average(edogawa_aug))\n",
        "print('1977年から1988年までの1月の練馬の平均気温', np.average(nerima_jan))\n",
        "print('1977年から1988年までの8月の練馬の平均気温', np.average(nerima_aug))"
      ],
      "execution_count": 5,
      "outputs": [
        {
          "output_type": "stream",
          "text": [
            "1977年から1988年までの1月の江戸川の平均気温 5.597561\n",
            "1977年から1988年までの8月の江戸川の平均気温 26.360973\n",
            "1977年から1988年までの1月の練馬の平均気温 4.453658\n",
            "1977年から1988年までの8月の練馬の平均気温 27.117075\n"
          ],
          "name": "stdout"
        }
      ]
    },
    {
      "cell_type": "code",
      "metadata": {
        "id": "IgHM8EnoTTLp",
        "colab_type": "code",
        "colab": {
          "base_uri": "https://localhost:8080/",
          "height": 51
        },
        "outputId": "1ac65e03-270d-492b-d318-99112a4d7de2"
      },
      "source": [
        "# 帰無仮説は「二つの集団の間に差がない」 = 「同じ年の江戸川と練馬の1月（8月）の月平均気温の間には，差がない」\n",
        "# 対立仮説は「二つの集団の間に差がある」 = 「同じ年の江戸川と練馬の1月（8月）の月平均気温の間には，差がある」\n",
        "# であり， 結果のp値が0.05を下回っていれば，「差がある」と見るべきである．\n",
        "\n",
        "# この場合，\n",
        "# 1. 同じ年で違う地点でのデータが，二つの地点の配列の並びの中で，同じ場所にある\n",
        "# 2. 「何年」なのかは順不同になる．つまり古い順とか新しい順に並んでいる必要はない\n",
        "# というデータの形にして食べさせれば良い\n",
        "\n",
        "import scipy.stats\n",
        "\n",
        "# これだけで検定を実行できる\n",
        "result_jan = scipy.stats.ttest_rel(edogawa_jan, nerima_jan)\n",
        "result_aug = scipy.stats.ttest_rel(edogawa_aug, nerima_aug)\n",
        "\n",
        "#結果を出力する\n",
        "print('同じ年の江戸川と練馬の1月の月平均気温の検定', result_jan)\n",
        "print('同じ年の江戸川と練馬の8月の月平均気温の検定', result_aug)"
      ],
      "execution_count": 6,
      "outputs": [
        {
          "output_type": "stream",
          "text": [
            "同じ年の江戸川と練馬の1月の月平均気温の検定 Ttest_relResult(statistic=27.58108051178886, pvalue=1.203404241196893e-27)\n",
            "同じ年の江戸川と練馬の8月の月平均気温の検定 Ttest_relResult(statistic=-11.70687214652232, pvalue=1.698531176507447e-14)\n"
          ],
          "name": "stdout"
        }
      ]
    },
    {
      "cell_type": "code",
      "metadata": {
        "id": "mQkr5w8MTaeI",
        "colab_type": "code",
        "colab": {
          "base_uri": "https://localhost:8080/",
          "height": 51
        },
        "outputId": "e55d91b3-3151-4698-ae2d-023d31685968"
      },
      "source": [
        "# 次に「2群間に対応がない場合」を行う\n",
        "\n",
        "# データが「等分散」というのは，母集団の数値の分散，つまり数値のばらつき方が同じか違うか，ということであり，\n",
        "# 一般的には「等分散ではない」つまり二つの集団の数値のばらつき具合が異なっていても良い方法を使う\n",
        "\n",
        "# 分散が同じ場合は「Studentのt検定」と呼び，\n",
        "# 分散が異なる場合は「Welchのt検定」と呼ぶ\n",
        "\n",
        "# 帰無仮説は「二つの集団の間に差がない」 = 「江戸川と練馬の1月の月平均気温の間には，差がない」\n",
        "# 対立仮説は「二つの集団の間に差がある」 = 「江戸川と練馬の1月の月平均気温の間には，差がある」\n",
        "# であり， 結果のp値が0.05を下回っていれば，「差がある」と見るべきである．\n",
        "\n",
        "# これだけで実行できる\n",
        "import scipy.stats\n",
        "result_jan = scipy.stats.ttest_ind(edogawa_jan, nerima_jan)\n",
        "result_aug = scipy.stats.ttest_ind(edogawa_aug, nerima_aug)\n",
        "\n",
        "# 結果を出力する\n",
        "print('1月の江戸川と練馬の月平均気温の検定', result_jan)\n",
        "print('8月の江戸川と練馬の月平均気温の検定', result_aug)"
      ],
      "execution_count": 7,
      "outputs": [
        {
          "output_type": "stream",
          "text": [
            "1月の江戸川と練馬の月平均気温の検定 Ttest_indResult(statistic=4.6782503978085215, pvalue=1.1599005671463611e-05)\n",
            "8月の江戸川と練馬の月平均気温の検定 Ttest_indResult(statistic=-2.477117763781257, pvalue=0.015352474172098927)\n"
          ],
          "name": "stdout"
        }
      ]
    },
    {
      "cell_type": "code",
      "metadata": {
        "id": "BFweGBHjTn_o",
        "colab_type": "code",
        "colab": {
          "base_uri": "https://localhost:8080/",
          "height": 51
        },
        "outputId": "98aad94f-8d9e-43ff-be0b-aa24bd5b7229"
      },
      "source": [
        "# # statsmodelsを使って，2群間に対応がないt検定を行う．\n",
        "import statsmodels.stats.weightstats\n",
        "result_jan = statsmodels.stats.weightstats.ttest_ind(edogawa_jan, nerima_jan)\n",
        "result_aug = statsmodels.stats.weightstats.ttest_ind(edogawa_aug, nerima_aug)\n",
        "print('1月の江戸川と練馬の月平均気温の検定', result_jan)\n",
        "print('8月の江戸川と練馬の月平均気温の検定', result_aug)"
      ],
      "execution_count": 9,
      "outputs": [
        {
          "output_type": "stream",
          "text": [
            "1月の江戸川と練馬の月平均気温の検定 (4.678248968183461, 1.1599069103452961e-05, 80.0)\n",
            "8月の江戸川と練馬の月平均気温の検定 (-2.477104608556971, 0.015352998772965724, 80.0)\n"
          ],
          "name": "stdout"
        }
      ]
    }
  ]
}