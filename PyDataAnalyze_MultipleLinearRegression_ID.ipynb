{
  "nbformat": 4,
  "nbformat_minor": 0,
  "metadata": {
    "colab": {
      "name": "PyDataAnalyze_MultipleLinearRegression_ID.ipynb",
      "provenance": [],
      "collapsed_sections": [],
      "authorship_tag": "ABX9TyN1wsJkCt7Y0JQwHVGHX1gn",
      "include_colab_link": true
    },
    "kernelspec": {
      "name": "python3",
      "display_name": "Python 3"
    }
  },
  "cells": [
    {
      "cell_type": "markdown",
      "metadata": {
        "id": "view-in-github",
        "colab_type": "text"
      },
      "source": [
        "<a href=\"https://colab.research.google.com/github/daichi-a/PythonDataAnalyzeClassMaterial/blob/master/PyDataAnalyze_MultipleLinearRegression_ID.ipynb\" target=\"_parent\"><img src=\"https://colab.research.google.com/assets/colab-badge.svg\" alt=\"Open In Colab\"/></a>"
      ]
    },
    {
      "cell_type": "code",
      "metadata": {
        "id": "GWyWhisX4FUd",
        "colab_type": "code",
        "colab": {
          "base_uri": "https://localhost:8080/",
          "height": 204
        },
        "outputId": "03637062-f472-4280-f52b-6505f5f9731a"
      },
      "source": [
        "import numpy as np\n",
        "import pandas as pd\n",
        "\n",
        "df = pd.read_csv('https://docs.google.com/spreadsheets/d/e/2PACX-1vRb9Z3Gapmyib9gnASg_V5amr0HqKezY4CtURm9X2c9TZI0t1U675pYZO-cT5z-q5H4b1_U2bh7Kd3z/pub?gid=1204747285&single=true&output=csv')\n",
        "df.head()"
      ],
      "execution_count": 1,
      "outputs": [
        {
          "output_type": "execute_result",
          "data": {
            "text/html": [
              "<div>\n",
              "<style scoped>\n",
              "    .dataframe tbody tr th:only-of-type {\n",
              "        vertical-align: middle;\n",
              "    }\n",
              "\n",
              "    .dataframe tbody tr th {\n",
              "        vertical-align: top;\n",
              "    }\n",
              "\n",
              "    .dataframe thead th {\n",
              "        text-align: right;\n",
              "    }\n",
              "</style>\n",
              "<table border=\"1\" class=\"dataframe\">\n",
              "  <thead>\n",
              "    <tr style=\"text-align: right;\">\n",
              "      <th></th>\n",
              "      <th>平均気温</th>\n",
              "      <th>降水量の合計</th>\n",
              "      <th>日照時間</th>\n",
              "      <th>平均風速</th>\n",
              "    </tr>\n",
              "  </thead>\n",
              "  <tbody>\n",
              "    <tr>\n",
              "      <th>0</th>\n",
              "      <td>23.7</td>\n",
              "      <td>461.0</td>\n",
              "      <td>125.7</td>\n",
              "      <td>1.2</td>\n",
              "    </tr>\n",
              "    <tr>\n",
              "      <th>1</th>\n",
              "      <td>27.4</td>\n",
              "      <td>22.0</td>\n",
              "      <td>294.7</td>\n",
              "      <td>1.6</td>\n",
              "    </tr>\n",
              "    <tr>\n",
              "      <th>2</th>\n",
              "      <td>25.9</td>\n",
              "      <td>93.0</td>\n",
              "      <td>152.1</td>\n",
              "      <td>1.2</td>\n",
              "    </tr>\n",
              "    <tr>\n",
              "      <th>3</th>\n",
              "      <td>22.4</td>\n",
              "      <td>173.0</td>\n",
              "      <td>84.3</td>\n",
              "      <td>1.0</td>\n",
              "    </tr>\n",
              "    <tr>\n",
              "      <th>4</th>\n",
              "      <td>24.9</td>\n",
              "      <td>151.0</td>\n",
              "      <td>185.1</td>\n",
              "      <td>1.3</td>\n",
              "    </tr>\n",
              "  </tbody>\n",
              "</table>\n",
              "</div>"
            ],
            "text/plain": [
              "   平均気温  降水量の合計   日照時間  平均風速\n",
              "0  23.7   461.0  125.7   1.2\n",
              "1  27.4    22.0  294.7   1.6\n",
              "2  25.9    93.0  152.1   1.2\n",
              "3  22.4   173.0   84.3   1.0\n",
              "4  24.9   151.0  185.1   1.3"
            ]
          },
          "metadata": {
            "tags": []
          },
          "execution_count": 1
        }
      ]
    },
    {
      "cell_type": "code",
      "metadata": {
        "id": "krYQOFGF9qA1",
        "colab_type": "code",
        "colab": {
          "base_uri": "https://localhost:8080/",
          "height": 544
        },
        "outputId": "5c05babc-25df-4f86-ae0b-b33e6b481666"
      },
      "source": [
        "import statsmodels.api as sm\n",
        "import statsmodels.formula.api as smf\n",
        "\n",
        "ols_model = smf.ols(formula='平均気温 ~ 降水量の合計 + 日照時間 + 平均風速', data=df)\n",
        "ols_result = ols_model.fit()\n",
        "print(ols_result.summary())"
      ],
      "execution_count": 2,
      "outputs": [
        {
          "output_type": "stream",
          "text": [
            "/usr/local/lib/python3.6/dist-packages/statsmodels/tools/_testing.py:19: FutureWarning: pandas.util.testing is deprecated. Use the functions in the public API at pandas.testing instead.\n",
            "  import pandas.util.testing as tm\n"
          ],
          "name": "stderr"
        },
        {
          "output_type": "stream",
          "text": [
            "                            OLS Regression Results                            \n",
            "==============================================================================\n",
            "Dep. Variable:                   平均気温   R-squared:                       0.636\n",
            "Model:                            OLS   Adj. R-squared:                  0.607\n",
            "Method:                 Least Squares   F-statistic:                     22.10\n",
            "Date:                Fri, 03 Apr 2020   Prob (F-statistic):           1.89e-08\n",
            "Time:                        07:35:43   Log-Likelihood:                -48.103\n",
            "No. Observations:                  42   AIC:                             104.2\n",
            "Df Residuals:                      38   BIC:                             111.2\n",
            "Df Model:                           3                                         \n",
            "Covariance Type:            nonrobust                                         \n",
            "==============================================================================\n",
            "                 coef    std err          t      P>|t|      [0.025      0.975]\n",
            "------------------------------------------------------------------------------\n",
            "Intercept     22.2742      0.643     34.648      0.000      20.973      23.576\n",
            "降水量の合計        -0.0003      0.001     -0.403      0.689      -0.002       0.001\n",
            "日照時間           0.0138      0.003      5.393      0.000       0.009       0.019\n",
            "平均風速           0.5611      0.175      3.209      0.003       0.207       0.915\n",
            "==============================================================================\n",
            "Omnibus:                        2.936   Durbin-Watson:                   1.391\n",
            "Prob(Omnibus):                  0.230   Jarque-Bera (JB):                2.701\n",
            "Skew:                          -0.552   Prob(JB):                        0.259\n",
            "Kurtosis:                       2.431   Cond. No.                     1.62e+03\n",
            "==============================================================================\n",
            "\n",
            "Warnings:\n",
            "[1] Standard Errors assume that the covariance matrix of the errors is correctly specified.\n",
            "[2] The condition number is large, 1.62e+03. This might indicate that there are\n",
            "strong multicollinearity or other numerical problems.\n"
          ],
          "name": "stdout"
        }
      ]
    },
    {
      "cell_type": "code",
      "metadata": {
        "id": "mxNJGUfU_AyE",
        "colab_type": "code",
        "colab": {
          "base_uri": "https://localhost:8080/",
          "height": 459
        },
        "outputId": "ecb10322-d568-437d-8aef-92fc9539d617"
      },
      "source": [
        "# 降水量を外して，再度重回帰分析を行う\n",
        "import statsmodels.api as sm\n",
        "import statsmodels.formula.api as smf\n",
        "\n",
        "ols_model = smf.ols(formula='平均気温 ~ 日照時間 + 平均風速', data=df)\n",
        "ols_result = ols_model.fit()\n",
        "print(ols_result.summary())"
      ],
      "execution_count": 3,
      "outputs": [
        {
          "output_type": "stream",
          "text": [
            "                            OLS Regression Results                            \n",
            "==============================================================================\n",
            "Dep. Variable:                   平均気温   R-squared:                       0.634\n",
            "Model:                            OLS   Adj. R-squared:                  0.615\n",
            "Method:                 Least Squares   F-statistic:                     33.79\n",
            "Date:                Fri, 03 Apr 2020   Prob (F-statistic):           3.06e-09\n",
            "Time:                        07:41:07   Log-Likelihood:                -48.192\n",
            "No. Observations:                  42   AIC:                             102.4\n",
            "Df Residuals:                      39   BIC:                             107.6\n",
            "Df Model:                           2                                         \n",
            "Covariance Type:            nonrobust                                         \n",
            "==============================================================================\n",
            "                 coef    std err          t      P>|t|      [0.025      0.975]\n",
            "------------------------------------------------------------------------------\n",
            "Intercept     22.1272      0.524     42.254      0.000      21.068      23.186\n",
            "日照時間           0.0142      0.002      6.124      0.000       0.010       0.019\n",
            "平均風速           0.5605      0.173      3.240      0.002       0.211       0.910\n",
            "==============================================================================\n",
            "Omnibus:                        2.704   Durbin-Watson:                   1.376\n",
            "Prob(Omnibus):                  0.259   Jarque-Bera (JB):                2.495\n",
            "Skew:                          -0.527   Prob(JB):                        0.287\n",
            "Kurtosis:                       2.439   Cond. No.                         788.\n",
            "==============================================================================\n",
            "\n",
            "Warnings:\n",
            "[1] Standard Errors assume that the covariance matrix of the errors is correctly specified.\n"
          ],
          "name": "stdout"
        }
      ]
    }
  ]
}