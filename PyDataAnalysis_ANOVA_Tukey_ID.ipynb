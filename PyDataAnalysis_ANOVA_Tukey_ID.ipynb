{
  "nbformat": 4,
  "nbformat_minor": 0,
  "metadata": {
    "colab": {
      "name": "PyDataAnalysis_ANOVA_Tukey_ID.ipynb",
      "provenance": [],
      "collapsed_sections": [],
      "authorship_tag": "ABX9TyOjYxpc9GlTaGYCkFY+nRvx",
      "include_colab_link": true
    },
    "kernelspec": {
      "name": "python3",
      "display_name": "Python 3"
    }
  },
  "cells": [
    {
      "cell_type": "markdown",
      "metadata": {
        "id": "view-in-github",
        "colab_type": "text"
      },
      "source": [
        "<a href=\"https://colab.research.google.com/github/daichi-a/PythonDataAnalyzeClassMaterial/blob/master/PyDataAnalysis_ANOVA_Tukey_ID.ipynb\" target=\"_parent\"><img src=\"https://colab.research.google.com/assets/colab-badge.svg\" alt=\"Open In Colab\"/></a>"
      ]
    },
    {
      "cell_type": "code",
      "metadata": {
        "id": "I4C1_AtKcROA",
        "colab_type": "code",
        "colab": {
          "base_uri": "https://localhost:8080/",
          "height": 204
        },
        "outputId": "a463cee0-d570-4bb3-8e51-9d6a3343a0af"
      },
      "source": [
        "import numpy as np\n",
        "import pandas as pd\n",
        "\n",
        "df = pd.read_csv('https://docs.google.com/spreadsheets/d/e/2PACX-1vSojvSyQmboSLQTHF__Fm4MgQrnXOoRHpO4PKR9jKUlkU1KIZtL6k5OzYjbiGVRUlrfBWDXL6xkYwy_/pub?gid=655120483&single=true&output=csv')\n",
        "df.head()"
      ],
      "execution_count": 1,
      "outputs": [
        {
          "output_type": "execute_result",
          "data": {
            "text/html": [
              "<div>\n",
              "<style scoped>\n",
              "    .dataframe tbody tr th:only-of-type {\n",
              "        vertical-align: middle;\n",
              "    }\n",
              "\n",
              "    .dataframe tbody tr th {\n",
              "        vertical-align: top;\n",
              "    }\n",
              "\n",
              "    .dataframe thead th {\n",
              "        text-align: right;\n",
              "    }\n",
              "</style>\n",
              "<table border=\"1\" class=\"dataframe\">\n",
              "  <thead>\n",
              "    <tr style=\"text-align: right;\">\n",
              "      <th></th>\n",
              "      <th>平均気温</th>\n",
              "      <th>群</th>\n",
              "    </tr>\n",
              "  </thead>\n",
              "  <tbody>\n",
              "    <tr>\n",
              "      <th>0</th>\n",
              "      <td>0.7</td>\n",
              "      <td>青梅</td>\n",
              "    </tr>\n",
              "    <tr>\n",
              "      <th>1</th>\n",
              "      <td>2.6</td>\n",
              "      <td>青梅</td>\n",
              "    </tr>\n",
              "    <tr>\n",
              "      <th>2</th>\n",
              "      <td>3.7</td>\n",
              "      <td>青梅</td>\n",
              "    </tr>\n",
              "    <tr>\n",
              "      <th>3</th>\n",
              "      <td>2.6</td>\n",
              "      <td>青梅</td>\n",
              "    </tr>\n",
              "    <tr>\n",
              "      <th>4</th>\n",
              "      <td>1.1</td>\n",
              "      <td>青梅</td>\n",
              "    </tr>\n",
              "  </tbody>\n",
              "</table>\n",
              "</div>"
            ],
            "text/plain": [
              "   平均気温   群\n",
              "0   0.7  青梅\n",
              "1   2.6  青梅\n",
              "2   3.7  青梅\n",
              "3   2.6  青梅\n",
              "4   1.1  青梅"
            ]
          },
          "metadata": {
            "tags": []
          },
          "execution_count": 1
        }
      ]
    },
    {
      "cell_type": "code",
      "metadata": {
        "id": "JKBKtJ44dbN0",
        "colab_type": "code",
        "colab": {
          "base_uri": "https://localhost:8080/",
          "height": 255
        },
        "outputId": "1751a879-80b8-446d-9f07-37bf2e2214e8"
      },
      "source": [
        "print(df)"
      ],
      "execution_count": 2,
      "outputs": [
        {
          "output_type": "stream",
          "text": [
            "     平均気温   群\n",
            "0     0.7  青梅\n",
            "1     2.6  青梅\n",
            "2     3.7  青梅\n",
            "3     2.6  青梅\n",
            "4     1.1  青梅\n",
            "..    ...  ..\n",
            "121   4.3  府中\n",
            "122   4.6  府中\n",
            "123   4.8  府中\n",
            "124   4.8  府中\n",
            "125   3.5  府中\n",
            "\n",
            "[126 rows x 2 columns]\n"
          ],
          "name": "stdout"
        }
      ]
    },
    {
      "cell_type": "code",
      "metadata": {
        "id": "IAmD5dAmdkcr",
        "colab_type": "code",
        "colab": {
          "base_uri": "https://localhost:8080/",
          "height": 34
        },
        "outputId": "cd750ed1-4d68-4638-83a9-fd438dc63450"
      },
      "source": [
        "# Bartlett検定\n",
        "import scipy.stats\n",
        "\n",
        "# scipyのbartlett検定は，t検定の時のように，群ごとのnumpy配列を取る．\n",
        "# つまり，42個ずつの「平均気温」だけの値が入ったnumpy配列を作成すれば良い\n",
        "# pandas.DataFrameは取れないことに注意\n",
        "# （アンスタックデータでは列だけ取り出せば良いので簡単だが，今回はスタック形式にしたので，ちょっと操作をする）\n",
        "\n",
        "ome_ave = df.loc[0:41, '平均気温'].values # 平均気温列の0行目〜41行目を取り出すと，そのオブジェクトの中のvalues変数にはnumpy配列が入っている\n",
        "hachioji_ave = df.loc[42:83, '平均気温'].values\n",
        "fuchu_ave = df.loc[84:, '平均気温'].values\n",
        "\n",
        "bartlett_result = scipy.stats.bartlett(ome_ave, hachioji_ave, fuchu_ave)\n",
        "print(bartlett_result)\n"
      ],
      "execution_count": 8,
      "outputs": [
        {
          "output_type": "stream",
          "text": [
            "BartlettResult(statistic=0.009294251494411373, pvalue=0.9953636554346814)\n"
          ],
          "name": "stdout"
        }
      ]
    },
    {
      "cell_type": "code",
      "metadata": {
        "id": "iFonLPYNkIcj",
        "colab_type": "code",
        "colab": {
          "base_uri": "https://localhost:8080/",
          "height": 102
        },
        "outputId": "00307878-16d3-4300-d178-3b275baae6d1"
      },
      "source": [
        "import statsmodels.api as sm\n",
        "import statsmodels.formula.api as smf\n",
        "\n",
        "# formula(式)を与えて線形回帰を呼び出す\n",
        "ols_lm = smf.ols(formula='平均気温 ~ 群', data=df).fit()\n",
        "# 線形回帰の結果をもとにType2の分散分析をかける\n",
        "anova_result = sm.stats.anova_lm(ols_lm, typ=2)\n",
        "\n",
        "print(anova_result)"
      ],
      "execution_count": 9,
      "outputs": [
        {
          "output_type": "stream",
          "text": [
            "/usr/local/lib/python3.6/dist-packages/statsmodels/tools/_testing.py:19: FutureWarning: pandas.util.testing is deprecated. Use the functions in the public API at pandas.testing instead.\n",
            "  import pandas.util.testing as tm\n"
          ],
          "name": "stderr"
        },
        {
          "output_type": "stream",
          "text": [
            "              sum_sq     df          F        PR(>F)\n",
            "群          39.003333    2.0  15.758491  8.074710e-07\n",
            "Residual  152.216667  123.0        NaN           NaN\n"
          ],
          "name": "stdout"
        }
      ]
    },
    {
      "cell_type": "code",
      "metadata": {
        "id": "fXmpyIAGnIJP",
        "colab_type": "code",
        "colab": {
          "base_uri": "https://localhost:8080/",
          "height": 153
        },
        "outputId": "24c2ec41-032b-4a94-c9f5-1309f9706131"
      },
      "source": [
        "from statsmodels.stats.multicomp import pairwise_tukeyhsd\n",
        "\n",
        "tukey_result_jan = pairwise_tukeyhsd(df.loc[:, '平均気温'].values, df.loc[:, '群'].values)\n",
        "print(tukey_result_jan)"
      ],
      "execution_count": 13,
      "outputs": [
        {
          "output_type": "stream",
          "text": [
            "Multiple Comparison of Means - Tukey HSD, FWER=0.05\n",
            "===================================================\n",
            "group1 group2 meandiff p-adj  lower   upper  reject\n",
            "---------------------------------------------------\n",
            "   八王子     府中   1.0095 0.001  0.4336  1.5855   True\n",
            "   八王子     青梅  -0.2881 0.465 -0.8641  0.2879  False\n",
            "    府中     青梅  -1.2976 0.001 -1.8736 -0.7217   True\n",
            "---------------------------------------------------\n"
          ],
          "name": "stdout"
        }
      ]
    }
  ]
}