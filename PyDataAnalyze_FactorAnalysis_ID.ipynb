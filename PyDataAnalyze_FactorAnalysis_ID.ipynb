{
  "nbformat": 4,
  "nbformat_minor": 0,
  "metadata": {
    "colab": {
      "name": "PyDataAnalyze_FactorAnalysis_ID.ipynb",
      "provenance": [],
      "collapsed_sections": [],
      "authorship_tag": "ABX9TyP9g3gAwmUS866nb/9UmfSG",
      "include_colab_link": true
    },
    "kernelspec": {
      "name": "python3",
      "display_name": "Python 3"
    }
  },
  "cells": [
    {
      "cell_type": "markdown",
      "metadata": {
        "id": "view-in-github",
        "colab_type": "text"
      },
      "source": [
        "<a href=\"https://colab.research.google.com/github/daichi-a/PythonDataAnalyzeClassMaterial/blob/master/PyDataAnalyze_FactorAnalysis_ID.ipynb\" target=\"_parent\"><img src=\"https://colab.research.google.com/assets/colab-badge.svg\" alt=\"Open In Colab\"/></a>"
      ]
    },
    {
      "cell_type": "code",
      "metadata": {
        "id": "bSzW5gIOuYUs",
        "colab_type": "code",
        "colab": {
          "base_uri": "https://localhost:8080/",
          "height": 204
        },
        "outputId": "944cee46-40ba-4361-9ab8-f5b6b1f5123b"
      },
      "source": [
        "import numpy as np\n",
        "import pandas as pd\n",
        "\n",
        "df = pd.read_csv('https://docs.google.com/spreadsheets/d/e/2PACX-1vRu-c1WHRwaXQLHPZ30lNqgdsva0hv2v9mxkNHHSQnZQirDJbe2f5xqqkiI9_vOnE4m9xSPTU86elxB/pub?gid=176036142&single=true&output=csv')\n",
        "df.head()"
      ],
      "execution_count": 1,
      "outputs": [
        {
          "output_type": "execute_result",
          "data": {
            "text/html": [
              "<div>\n",
              "<style scoped>\n",
              "    .dataframe tbody tr th:only-of-type {\n",
              "        vertical-align: middle;\n",
              "    }\n",
              "\n",
              "    .dataframe tbody tr th {\n",
              "        vertical-align: top;\n",
              "    }\n",
              "\n",
              "    .dataframe thead th {\n",
              "        text-align: right;\n",
              "    }\n",
              "</style>\n",
              "<table border=\"1\" class=\"dataframe\">\n",
              "  <thead>\n",
              "    <tr style=\"text-align: right;\">\n",
              "      <th></th>\n",
              "      <th>観測地点</th>\n",
              "      <th>降水量の合計</th>\n",
              "      <th>日照時間</th>\n",
              "      <th>平均風速</th>\n",
              "      <th>平均湿度</th>\n",
              "      <th>平均雲量</th>\n",
              "    </tr>\n",
              "  </thead>\n",
              "  <tbody>\n",
              "    <tr>\n",
              "      <th>0</th>\n",
              "      <td>秋田</td>\n",
              "      <td>51.0</td>\n",
              "      <td>72.6</td>\n",
              "      <td>4.4</td>\n",
              "      <td>74</td>\n",
              "      <td>9.5</td>\n",
              "    </tr>\n",
              "    <tr>\n",
              "      <th>1</th>\n",
              "      <td>秋田</td>\n",
              "      <td>93.5</td>\n",
              "      <td>74.0</td>\n",
              "      <td>5.0</td>\n",
              "      <td>75</td>\n",
              "      <td>9.3</td>\n",
              "    </tr>\n",
              "    <tr>\n",
              "      <th>2</th>\n",
              "      <td>秋田</td>\n",
              "      <td>113.5</td>\n",
              "      <td>70.7</td>\n",
              "      <td>3.1</td>\n",
              "      <td>72</td>\n",
              "      <td>8.5</td>\n",
              "    </tr>\n",
              "    <tr>\n",
              "      <th>3</th>\n",
              "      <td>秋田</td>\n",
              "      <td>172.5</td>\n",
              "      <td>66.4</td>\n",
              "      <td>3.7</td>\n",
              "      <td>75</td>\n",
              "      <td>9.5</td>\n",
              "    </tr>\n",
              "    <tr>\n",
              "      <th>4</th>\n",
              "      <td>秋田</td>\n",
              "      <td>64.5</td>\n",
              "      <td>58.8</td>\n",
              "      <td>4.6</td>\n",
              "      <td>74</td>\n",
              "      <td>9.6</td>\n",
              "    </tr>\n",
              "  </tbody>\n",
              "</table>\n",
              "</div>"
            ],
            "text/plain": [
              "  観測地点  降水量の合計  日照時間  平均風速  平均湿度  平均雲量\n",
              "0   秋田    51.0  72.6   4.4    74   9.5\n",
              "1   秋田    93.5  74.0   5.0    75   9.3\n",
              "2   秋田   113.5  70.7   3.1    72   8.5\n",
              "3   秋田   172.5  66.4   3.7    75   9.5\n",
              "4   秋田    64.5  58.8   4.6    74   9.6"
            ]
          },
          "metadata": {
            "tags": []
          },
          "execution_count": 1
        }
      ]
    },
    {
      "cell_type": "code",
      "metadata": {
        "id": "IUu2xI62vT7r",
        "colab_type": "code",
        "colab": {
          "base_uri": "https://localhost:8080/",
          "height": 323
        },
        "outputId": "1ebe2d42-f1be-48e3-c585-175c45b648f1"
      },
      "source": [
        "# 高機能因子分析パッケージ\n",
        "!pip install factor-analyzer"
      ],
      "execution_count": 2,
      "outputs": [
        {
          "output_type": "stream",
          "text": [
            "Collecting factor-analyzer\n",
            "\u001b[?25l  Downloading https://files.pythonhosted.org/packages/44/b5/cbd83484ca6dd4c6562c6d66a6a3a0ecf526e79b2b575b9fb4bf5ad172dd/factor_analyzer-0.3.2.tar.gz (40kB)\n",
            "\r\u001b[K     |████████▏                       | 10kB 17.7MB/s eta 0:00:01\r\u001b[K     |████████████████▍               | 20kB 1.8MB/s eta 0:00:01\r\u001b[K     |████████████████████████▌       | 30kB 2.3MB/s eta 0:00:01\r\u001b[K     |████████████████████████████████| 40kB 1.9MB/s \n",
            "\u001b[?25hRequirement already satisfied: pandas in /usr/local/lib/python3.6/dist-packages (from factor-analyzer) (1.0.3)\n",
            "Requirement already satisfied: scipy in /usr/local/lib/python3.6/dist-packages (from factor-analyzer) (1.4.1)\n",
            "Requirement already satisfied: numpy in /usr/local/lib/python3.6/dist-packages (from factor-analyzer) (1.18.2)\n",
            "Requirement already satisfied: scikit-learn in /usr/local/lib/python3.6/dist-packages (from factor-analyzer) (0.22.2.post1)\n",
            "Requirement already satisfied: python-dateutil>=2.6.1 in /usr/local/lib/python3.6/dist-packages (from pandas->factor-analyzer) (2.8.1)\n",
            "Requirement already satisfied: pytz>=2017.2 in /usr/local/lib/python3.6/dist-packages (from pandas->factor-analyzer) (2018.9)\n",
            "Requirement already satisfied: joblib>=0.11 in /usr/local/lib/python3.6/dist-packages (from scikit-learn->factor-analyzer) (0.14.1)\n",
            "Requirement already satisfied: six>=1.5 in /usr/local/lib/python3.6/dist-packages (from python-dateutil>=2.6.1->pandas->factor-analyzer) (1.12.0)\n",
            "Building wheels for collected packages: factor-analyzer\n",
            "  Building wheel for factor-analyzer (setup.py) ... \u001b[?25l\u001b[?25hdone\n",
            "  Created wheel for factor-analyzer: filename=factor_analyzer-0.3.2-cp36-none-any.whl size=40380 sha256=a82dc61dd576ab3b87aef8219eba435d2c10e2b25cc1365cb483e338af37f609\n",
            "  Stored in directory: /root/.cache/pip/wheels/4a/d0/57/f1330cb9c80e82d8d05391c74c94ed61ce3f03bf6157f3d6db\n",
            "Successfully built factor-analyzer\n",
            "Installing collected packages: factor-analyzer\n",
            "Successfully installed factor-analyzer-0.3.2\n"
          ],
          "name": "stdout"
        }
      ]
    },
    {
      "cell_type": "code",
      "metadata": {
        "id": "5rl5SRrDvWkw",
        "colab_type": "code",
        "colab": {
          "base_uri": "https://localhost:8080/",
          "height": 145
        },
        "outputId": "e7ff426e-5122-42b3-cae2-5c1e8ded13b4"
      },
      "source": [
        "from factor_analyzer import FactorAnalyzer\n",
        "import seaborn as sns\n",
        "\n",
        "# 何因子だと考えるか\n",
        "# とりあえず最初は多めに\n",
        "n_factors=4\n",
        "\n",
        "\n",
        "fa_model = FactorAnalyzer(n_factors=n_factors, method='ml', rotation='varimax', impute='drop')\n",
        "# method: 使用する手法\n",
        "# minres (ミンレス法)\n",
        "# ml　（最尤法）\n",
        "# principal（主因子法）\n",
        "\n",
        "# rotation 回転法\n",
        "# varimax (バリマックス回転) 直交法\n",
        "# promax (プロマックス回転) 斜交法\n",
        "# oblique (斜め回転)\n",
        "\n",
        "# impute 欠損値をどうするか\n",
        "# drop: 削除\n",
        "\n",
        "x_label = ['降水量の合計', '日照時間', '平均風速', '平均湿度', '平均雲量']\n",
        "\n",
        "# データにフィットさせる\n",
        "# 因子分析の対象にするのは5観測変数であり，観測地点は使わないので0列目以外を抽出\n",
        "fa_model.fit(df.iloc[:, 1:])\n",
        "\n",
        "# 因子負荷量はloadings_プロパティで読み出せるので，結果のDataFrameを作る\n",
        "# 因子負荷量：因子と観測変数の間の関係性の強弱のこと\n",
        "\n",
        "# 行名(index)として，この列名のラベルを用いて，DataFrameを作る\n",
        "df_result = pd.DataFrame(fa_model.loadings_, index=x_label)\n",
        "\n",
        "# 因子負荷量の行列を色分けして表示\n",
        "cm = sns.light_palette('red', as_cmap=True)\n",
        "# セルの最後に実行すること．df.head()と同じく，printしても色分けされない\n",
        "df_result.style.background_gradient(cmap=cm)"
      ],
      "execution_count": 10,
      "outputs": [
        {
          "output_type": "execute_result",
          "data": {
            "text/html": [
              "<style  type=\"text/css\" >\n",
              "    #T_4fb81a80_852d_11ea_8108_0242ac1c0002row0_col0 {\n",
              "            background-color:  #ff2828;\n",
              "            color:  #f1f1f1;\n",
              "        }    #T_4fb81a80_852d_11ea_8108_0242ac1c0002row0_col1 {\n",
              "            background-color:  #ff7a7a;\n",
              "            color:  #000000;\n",
              "        }    #T_4fb81a80_852d_11ea_8108_0242ac1c0002row0_col2 {\n",
              "            background-color:  #ff0000;\n",
              "            color:  #f1f1f1;\n",
              "        }    #T_4fb81a80_852d_11ea_8108_0242ac1c0002row0_col3 {\n",
              "            background-color:  #ffaeae;\n",
              "            color:  #000000;\n",
              "        }    #T_4fb81a80_852d_11ea_8108_0242ac1c0002row1_col0 {\n",
              "            background-color:  #ffe5e5;\n",
              "            color:  #000000;\n",
              "        }    #T_4fb81a80_852d_11ea_8108_0242ac1c0002row1_col1 {\n",
              "            background-color:  #ffe5e5;\n",
              "            color:  #000000;\n",
              "        }    #T_4fb81a80_852d_11ea_8108_0242ac1c0002row1_col2 {\n",
              "            background-color:  #ffe5e5;\n",
              "            color:  #000000;\n",
              "        }    #T_4fb81a80_852d_11ea_8108_0242ac1c0002row1_col3 {\n",
              "            background-color:  #ff5656;\n",
              "            color:  #000000;\n",
              "        }    #T_4fb81a80_852d_11ea_8108_0242ac1c0002row2_col0 {\n",
              "            background-color:  #ff1111;\n",
              "            color:  #f1f1f1;\n",
              "        }    #T_4fb81a80_852d_11ea_8108_0242ac1c0002row2_col1 {\n",
              "            background-color:  #ff5c5c;\n",
              "            color:  #000000;\n",
              "        }    #T_4fb81a80_852d_11ea_8108_0242ac1c0002row2_col2 {\n",
              "            background-color:  #ff4d4d;\n",
              "            color:  #000000;\n",
              "        }    #T_4fb81a80_852d_11ea_8108_0242ac1c0002row2_col3 {\n",
              "            background-color:  #ffe5e5;\n",
              "            color:  #000000;\n",
              "        }    #T_4fb81a80_852d_11ea_8108_0242ac1c0002row3_col0 {\n",
              "            background-color:  #ff4444;\n",
              "            color:  #000000;\n",
              "        }    #T_4fb81a80_852d_11ea_8108_0242ac1c0002row3_col1 {\n",
              "            background-color:  #ff0000;\n",
              "            color:  #f1f1f1;\n",
              "        }    #T_4fb81a80_852d_11ea_8108_0242ac1c0002row3_col2 {\n",
              "            background-color:  #ff5252;\n",
              "            color:  #000000;\n",
              "        }    #T_4fb81a80_852d_11ea_8108_0242ac1c0002row3_col3 {\n",
              "            background-color:  #ffb5b5;\n",
              "            color:  #000000;\n",
              "        }    #T_4fb81a80_852d_11ea_8108_0242ac1c0002row4_col0 {\n",
              "            background-color:  #ff0000;\n",
              "            color:  #f1f1f1;\n",
              "        }    #T_4fb81a80_852d_11ea_8108_0242ac1c0002row4_col1 {\n",
              "            background-color:  #ff5858;\n",
              "            color:  #000000;\n",
              "        }    #T_4fb81a80_852d_11ea_8108_0242ac1c0002row4_col2 {\n",
              "            background-color:  #ff3c3c;\n",
              "            color:  #f1f1f1;\n",
              "        }    #T_4fb81a80_852d_11ea_8108_0242ac1c0002row4_col3 {\n",
              "            background-color:  #ff0000;\n",
              "            color:  #f1f1f1;\n",
              "        }</style><table id=\"T_4fb81a80_852d_11ea_8108_0242ac1c0002\" ><thead>    <tr>        <th class=\"blank level0\" ></th>        <th class=\"col_heading level0 col0\" >0</th>        <th class=\"col_heading level0 col1\" >1</th>        <th class=\"col_heading level0 col2\" >2</th>        <th class=\"col_heading level0 col3\" >3</th>    </tr></thead><tbody>\n",
              "                <tr>\n",
              "                        <th id=\"T_4fb81a80_852d_11ea_8108_0242ac1c0002level0_row0\" class=\"row_heading level0 row0\" >降水量の合計</th>\n",
              "                        <td id=\"T_4fb81a80_852d_11ea_8108_0242ac1c0002row0_col0\" class=\"data row0 col0\" >0.551815</td>\n",
              "                        <td id=\"T_4fb81a80_852d_11ea_8108_0242ac1c0002row0_col1\" class=\"data row0 col1\" >0.256905</td>\n",
              "                        <td id=\"T_4fb81a80_852d_11ea_8108_0242ac1c0002row0_col2\" class=\"data row0 col2\" >0.486516</td>\n",
              "                        <td id=\"T_4fb81a80_852d_11ea_8108_0242ac1c0002row0_col3\" class=\"data row0 col3\" >0.005553</td>\n",
              "            </tr>\n",
              "            <tr>\n",
              "                        <th id=\"T_4fb81a80_852d_11ea_8108_0242ac1c0002level0_row1\" class=\"row_heading level0 row1\" >日照時間</th>\n",
              "                        <td id=\"T_4fb81a80_852d_11ea_8108_0242ac1c0002row1_col0\" class=\"data row1 col0\" >-0.879561</td>\n",
              "                        <td id=\"T_4fb81a80_852d_11ea_8108_0242ac1c0002row1_col1\" class=\"data row1 col1\" >-0.302970</td>\n",
              "                        <td id=\"T_4fb81a80_852d_11ea_8108_0242ac1c0002row1_col2\" class=\"data row1 col2\" >-0.356798</td>\n",
              "                        <td id=\"T_4fb81a80_852d_11ea_8108_0242ac1c0002row1_col3\" class=\"data row1 col3\" >0.047708</td>\n",
              "            </tr>\n",
              "            <tr>\n",
              "                        <th id=\"T_4fb81a80_852d_11ea_8108_0242ac1c0002level0_row2\" class=\"row_heading level0 row2\" >平均風速</th>\n",
              "                        <td id=\"T_4fb81a80_852d_11ea_8108_0242ac1c0002row2_col0\" class=\"data row2 col0\" >0.726129</td>\n",
              "                        <td id=\"T_4fb81a80_852d_11ea_8108_0242ac1c0002row2_col1\" class=\"data row2 col1\" >0.409227</td>\n",
              "                        <td id=\"T_4fb81a80_852d_11ea_8108_0242ac1c0002row2_col2\" class=\"data row2 col2\" >0.206173</td>\n",
              "                        <td id=\"T_4fb81a80_852d_11ea_8108_0242ac1c0002row2_col3\" class=\"data row2 col3\" >-0.021331</td>\n",
              "            </tr>\n",
              "            <tr>\n",
              "                        <th id=\"T_4fb81a80_852d_11ea_8108_0242ac1c0002level0_row3\" class=\"row_heading level0 row3\" >平均湿度</th>\n",
              "                        <td id=\"T_4fb81a80_852d_11ea_8108_0242ac1c0002row3_col0\" class=\"data row3 col0\" >0.340020</td>\n",
              "                        <td id=\"T_4fb81a80_852d_11ea_8108_0242ac1c0002row3_col1\" class=\"data row3 col1\" >0.884081</td>\n",
              "                        <td id=\"T_4fb81a80_852d_11ea_8108_0242ac1c0002row3_col2\" class=\"data row3 col2\" >0.185110</td>\n",
              "                        <td id=\"T_4fb81a80_852d_11ea_8108_0242ac1c0002row3_col3\" class=\"data row3 col3\" >0.002163</td>\n",
              "            </tr>\n",
              "            <tr>\n",
              "                        <th id=\"T_4fb81a80_852d_11ea_8108_0242ac1c0002level0_row4\" class=\"row_heading level0 row4\" >平均雲量</th>\n",
              "                        <td id=\"T_4fb81a80_852d_11ea_8108_0242ac1c0002row4_col0\" class=\"data row4 col0\" >0.857699</td>\n",
              "                        <td id=\"T_4fb81a80_852d_11ea_8108_0242ac1c0002row4_col1\" class=\"data row4 col1\" >0.425574</td>\n",
              "                        <td id=\"T_4fb81a80_852d_11ea_8108_0242ac1c0002row4_col2\" class=\"data row4 col2\" >0.265133</td>\n",
              "                        <td id=\"T_4fb81a80_852d_11ea_8108_0242ac1c0002row4_col3\" class=\"data row4 col3\" >0.089131</td>\n",
              "            </tr>\n",
              "    </tbody></table>"
            ],
            "text/plain": [
              "<pandas.io.formats.style.Styler at 0x7f649a3d8a20>"
            ]
          },
          "metadata": {
            "tags": []
          },
          "execution_count": 10
        }
      ]
    },
    {
      "cell_type": "code",
      "metadata": {
        "id": "NNW47zhH2Fud",
        "colab_type": "code",
        "colab": {
          "base_uri": "https://localhost:8080/",
          "height": 124
        },
        "outputId": "b5033b29-6b1b-4455-f5df-2fca3d85d31f"
      },
      "source": [
        "# Varimax回転の場合の因子数4での累積寄与率\n",
        "factor_index = list([])\n",
        "for i in range(n_factors):\n",
        "  factor_index.append('共通因子' + str(i))\n",
        "df_cumulative_variance = pd.DataFrame(fa_model.get_factor_variance()[2], index=factor_index)\n",
        "df_cumulative_variance.style.background_gradient(cmap=cm)"
      ],
      "execution_count": 11,
      "outputs": [
        {
          "output_type": "execute_result",
          "data": {
            "text/html": [
              "<style  type=\"text/css\" >\n",
              "    #T_7638d2be_8530_11ea_8108_0242ac1c0002row0_col0 {\n",
              "            background-color:  #ffe5e5;\n",
              "            color:  #000000;\n",
              "        }    #T_7638d2be_8530_11ea_8108_0242ac1c0002row1_col0 {\n",
              "            background-color:  #ff4242;\n",
              "            color:  #000000;\n",
              "        }    #T_7638d2be_8530_11ea_8108_0242ac1c0002row2_col0 {\n",
              "            background-color:  #ff0101;\n",
              "            color:  #f1f1f1;\n",
              "        }    #T_7638d2be_8530_11ea_8108_0242ac1c0002row3_col0 {\n",
              "            background-color:  #ff0000;\n",
              "            color:  #f1f1f1;\n",
              "        }</style><table id=\"T_7638d2be_8530_11ea_8108_0242ac1c0002\" ><thead>    <tr>        <th class=\"blank level0\" ></th>        <th class=\"col_heading level0 col0\" >0</th>    </tr></thead><tbody>\n",
              "                <tr>\n",
              "                        <th id=\"T_7638d2be_8530_11ea_8108_0242ac1c0002level0_row0\" class=\"row_heading level0 row0\" >共通因子0</th>\n",
              "                        <td id=\"T_7638d2be_8530_11ea_8108_0242ac1c0002row0_col0\" class=\"data row0 col0\" >0.491331</td>\n",
              "            </tr>\n",
              "            <tr>\n",
              "                        <th id=\"T_7638d2be_8530_11ea_8108_0242ac1c0002level0_row1\" class=\"row_heading level0 row1\" >共通因子1</th>\n",
              "                        <td id=\"T_7638d2be_8530_11ea_8108_0242ac1c0002row1_col0\" class=\"data row1 col0\" >0.748924</td>\n",
              "            </tr>\n",
              "            <tr>\n",
              "                        <th id=\"T_7638d2be_8530_11ea_8108_0242ac1c0002level0_row2\" class=\"row_heading level0 row2\" >共通因子2</th>\n",
              "                        <td id=\"T_7638d2be_8530_11ea_8108_0242ac1c0002row2_col0\" class=\"data row2 col0\" >0.851139</td>\n",
              "            </tr>\n",
              "            <tr>\n",
              "                        <th id=\"T_7638d2be_8530_11ea_8108_0242ac1c0002level0_row3\" class=\"row_heading level0 row3\" >共通因子3</th>\n",
              "                        <td id=\"T_7638d2be_8530_11ea_8108_0242ac1c0002row3_col0\" class=\"data row3 col0\" >0.853281</td>\n",
              "            </tr>\n",
              "    </tbody></table>"
            ],
            "text/plain": [
              "<pandas.io.formats.style.Styler at 0x7f649a3b1c50>"
            ]
          },
          "metadata": {
            "tags": []
          },
          "execution_count": 11
        }
      ]
    },
    {
      "cell_type": "code",
      "metadata": {
        "id": "4jtI1xbT33FI",
        "colab_type": "code",
        "colab": {
          "base_uri": "https://localhost:8080/",
          "height": 1000
        },
        "outputId": "c7f61a0c-0410-4675-ea3b-679d03d9d99b"
      },
      "source": [
        "# 因子分析関数は欠損値のある行を削除してくれたが，グラフで描く時には関係ないので，\n",
        "# まず欠損値のある行を削除して，再代入しておく\n",
        "df = df.dropna(how='any')\n",
        "\n",
        "# 因子分析の結果を使って，観測値を共通因子の値に変換する\n",
        "factors_df = pd.DataFrame(fa_model.transform(df.iloc[:, 1:]))\n",
        "num_of_row = df.values.shape[0]\n",
        "\n",
        "# 潜在変数の値をプロットしてみる\n",
        "akita = list([])\n",
        "miyako = list([])\n",
        "sakata = list([])\n",
        "ishinomaki = list([])\n",
        "for i in range(num_of_row):\n",
        "  if df.values[i][0] == '秋田':\n",
        "    akita.append(factors_df.iloc[i, :])\n",
        "  elif df.values[i][0] == '宮古':\n",
        "    miyako.append(factors_df.iloc[i, :])\n",
        "  elif df.values[i][0] == '酒田':\n",
        "    sakata.append(factors_df.iloc[i, :])\n",
        "  else:\n",
        "    ishinomaki.append(factors_df.iloc[i, :])\n",
        "\n",
        "df_akita = pd.DataFrame(akita)\n",
        "df_miyako = pd.DataFrame(miyako)\n",
        "df_sakata = pd.DataFrame(sakata)\n",
        "df_ishinomaki = pd.DataFrame(ishinomaki)\n",
        "\n",
        "import matplotlib.pyplot as plt\n",
        "\n",
        "plt.scatter(df_akita.iloc[:, 0], df_akita.iloc[:, 1], label='Akita')\n",
        "plt.scatter(df_sakata.iloc[:, 0], df_sakata.iloc[:, 1], label='Sakata')\n",
        "plt.scatter(df_miyako.iloc[:, 0], df_miyako.iloc[:, 1], label='Miyako')\n",
        "plt.scatter(df_ishinomaki.iloc[:, 0], df_ishinomaki.iloc[:, 1], label='Ishinomaki')\n",
        "\n",
        "plt.xlabel('Factor0')\n",
        "plt.ylabel('Factor1')\n",
        "plt.legend()\n",
        "plt.show()\n",
        "\n",
        "plt.scatter(df_akita.iloc[:, 0], df_akita.iloc[:, 2], label='Akita')\n",
        "plt.scatter(df_sakata.iloc[:, 0], df_sakata.iloc[:, 2], label='Sakata')\n",
        "plt.scatter(df_miyako.iloc[:, 0], df_miyako.iloc[:, 2], label='Miyako')\n",
        "plt.scatter(df_ishinomaki.iloc[:, 0], df_ishinomaki.iloc[:, 2], label='Ishinomaki')\n",
        "\n",
        "plt.xlabel('Factor0')\n",
        "plt.ylabel('Factor2')\n",
        "plt.legend()\n",
        "plt.show()\n",
        "\n",
        "plt.scatter(df_akita.iloc[:, 0], df_akita.iloc[:, 3], label='Akita')\n",
        "plt.scatter(df_sakata.iloc[:, 0], df_sakata.iloc[:, 3], label='Sakata')\n",
        "plt.scatter(df_miyako.iloc[:, 0], df_miyako.iloc[:, 3], label='Miyako')\n",
        "plt.scatter(df_ishinomaki.iloc[:, 0], df_ishinomaki.iloc[:, 3], label='Ishinomakii')\n",
        "\n",
        "plt.xlabel('Factor0')\n",
        "plt.ylabel('Factor3')\n",
        "plt.legend()\n",
        "plt.show()\n",
        "\n",
        "plt.scatter(df_akita.iloc[:, 1], df_akita.iloc[:, 2], label='Akita')\n",
        "plt.scatter(df_sakata.iloc[:, 1], df_sakata.iloc[:, 2], label='Sakata')\n",
        "plt.scatter(df_miyako.iloc[:, 1], df_miyako.iloc[:, 2], label='Miyako')\n",
        "plt.scatter(df_ishinomaki.iloc[:, 1], df_ishinomaki.iloc[:, 2], label='Ishinomaki')\n",
        "\n",
        "plt.xlabel('Factor1')\n",
        "plt.ylabel('Factor2')\n",
        "plt.legend()\n",
        "plt.show()\n",
        "\n",
        "plt.scatter(df_akita.iloc[:, 1], df_akita.iloc[:, 3], label='Akita')\n",
        "plt.scatter(df_sakata.iloc[:, 1], df_sakata.iloc[:, 3], label='Sakata')\n",
        "plt.scatter(df_miyako.iloc[:, 1], df_miyako.iloc[:, 3], label='Miyako')\n",
        "plt.scatter(df_ishinomaki.iloc[:, 1], df_ishinomaki.iloc[:, 3], label='Ishinomaki')\n",
        "\n",
        "plt.xlabel('Factor1')\n",
        "plt.ylabel('Factor3')\n",
        "plt.legend()\n",
        "plt.show()\n",
        "\n",
        "plt.scatter(df_akita.iloc[:, 2], df_akita.iloc[:, 3], label='Akita')\n",
        "plt.scatter(df_sakata.iloc[:, 2], df_sakata.iloc[:, 3], label='Sakata')\n",
        "plt.scatter(df_miyako.iloc[:, 2], df_miyako.iloc[:, 3], label='Miyako')\n",
        "plt.scatter(df_ishinomaki.iloc[:, 2], df_ishinomaki.iloc[:, 3], label='石巻')\n",
        "\n",
        "plt.xlabel('Factor2')\n",
        "plt.ylabel('Factor3')\n",
        "plt.legend()\n",
        "plt.show()"
      ],
      "execution_count": 17,
      "outputs": [
        {
          "output_type": "display_data",
          "data": {
            "image/png": "[encoded data removed]",
            "text/plain": [
              "<Figure size 432x288 with 1 Axes>"
            ]
          },
          "metadata": {
            "tags": [],
            "needs_background": "light"
          }
        },
        {
          "output_type": "display_data",
          "data": {
            "image/png": "[encoded data removed]",
            "text/plain": [
              "<Figure size 432x288 with 1 Axes>"
            ]
          },
          "metadata": {
            "tags": [],
            "needs_background": "light"
          }
        },
        {
          "output_type": "display_data",
          "data": {
            "image/png": "[encoded data removed]",
            "text/plain": [
              "<Figure size 432x288 with 1 Axes>"
            ]
          },
          "metadata": {
            "tags": [],
            "needs_background": "light"
          }
        },
        {
          "output_type": "display_data",
          "data": {
            "image/png": "[encoded data removed]",
            "text/plain": [
              "<Figure size 432x288 with 1 Axes>"
            ]
          },
          "metadata": {
            "tags": [],
            "needs_background": "light"
          }
        },
        {
          "output_type": "display_data",
          "data": {
            "image/png": "[encoded data removed]",
            "text/plain": [
              "<Figure size 432x288 with 1 Axes>"
            ]
          },
          "metadata": {
            "tags": [],
            "needs_background": "light"
          }
        },
        {
          "output_type": "stream",
          "text": [
            "/usr/local/lib/python3.6/dist-packages/matplotlib/backends/backend_agg.py:214: RuntimeWarning: Glyph 30707 missing from current font.\n",
            "  font.set_text(s, 0.0, flags=flags)\n",
            "/usr/local/lib/python3.6/dist-packages/matplotlib/backends/backend_agg.py:214: RuntimeWarning: Glyph 24059 missing from current font.\n",
            "  font.set_text(s, 0.0, flags=flags)\n",
            "/usr/local/lib/python3.6/dist-packages/matplotlib/backends/backend_agg.py:183: RuntimeWarning: Glyph 30707 missing from current font.\n",
            "  font.set_text(s, 0, flags=flags)\n",
            "/usr/local/lib/python3.6/dist-packages/matplotlib/backends/backend_agg.py:183: RuntimeWarning: Glyph 24059 missing from current font.\n",
            "  font.set_text(s, 0, flags=flags)\n"
          ],
          "name": "stderr"
        },
        {
          "output_type": "display_data",
          "data": {
            "image/png": "[encoded data removed]",
            "text/plain": [
              "<Figure size 432x288 with 1 Axes>"
            ]
          },
          "metadata": {
            "tags": [],
            "needs_background": "light"
          }
        }
      ]
    },
    {
      "cell_type": "code",
      "metadata": {
        "id": "yiunqmSA8FeT",
        "colab_type": "code",
        "colab": {
          "base_uri": "https://localhost:8080/",
          "height": 145
        },
        "outputId": "d56c3adb-76d2-4035-ef30-0afaf2ea21a3"
      },
      "source": [
        "# 共通因子数3の場合\n",
        "n_factors=3\n",
        "fa_model = FactorAnalyzer(n_factors=n_factors, method='ml', rotation='varimax', impute='drop')\n",
        "fa_model.fit(df.iloc[:, 1:])\n",
        "\n",
        "df_result = pd.DataFrame(fa_model.loadings_, index=x_label)\n",
        "\n",
        "cm = sns.light_palette('red', as_cmap=True)\n",
        "df_result.style.background_gradient(cmap=cm)"
      ],
      "execution_count": 18,
      "outputs": [
        {
          "output_type": "execute_result",
          "data": {
            "text/html": [
              "<style  type=\"text/css\" >\n",
              "    #T_4bdec150_8534_11ea_8108_0242ac1c0002row0_col0 {\n",
              "            background-color:  #ff1818;\n",
              "            color:  #f1f1f1;\n",
              "        }    #T_4bdec150_8534_11ea_8108_0242ac1c0002row0_col1 {\n",
              "            background-color:  #ff7878;\n",
              "            color:  #000000;\n",
              "        }    #T_4bdec150_8534_11ea_8108_0242ac1c0002row0_col2 {\n",
              "            background-color:  #ffe5e5;\n",
              "            color:  #000000;\n",
              "        }    #T_4bdec150_8534_11ea_8108_0242ac1c0002row1_col0 {\n",
              "            background-color:  #ffe5e5;\n",
              "            color:  #000000;\n",
              "        }    #T_4bdec150_8534_11ea_8108_0242ac1c0002row1_col1 {\n",
              "            background-color:  #ffe5e5;\n",
              "            color:  #000000;\n",
              "        }    #T_4bdec150_8534_11ea_8108_0242ac1c0002row1_col2 {\n",
              "            background-color:  #ff6666;\n",
              "            color:  #000000;\n",
              "        }    #T_4bdec150_8534_11ea_8108_0242ac1c0002row2_col0 {\n",
              "            background-color:  #ff1111;\n",
              "            color:  #f1f1f1;\n",
              "        }    #T_4bdec150_8534_11ea_8108_0242ac1c0002row2_col1 {\n",
              "            background-color:  #ff6060;\n",
              "            color:  #000000;\n",
              "        }    #T_4bdec150_8534_11ea_8108_0242ac1c0002row2_col2 {\n",
              "            background-color:  #ff0000;\n",
              "            color:  #f1f1f1;\n",
              "        }    #T_4bdec150_8534_11ea_8108_0242ac1c0002row3_col0 {\n",
              "            background-color:  #ff4242;\n",
              "            color:  #000000;\n",
              "        }    #T_4bdec150_8534_11ea_8108_0242ac1c0002row3_col1 {\n",
              "            background-color:  #ff0000;\n",
              "            color:  #f1f1f1;\n",
              "        }    #T_4bdec150_8534_11ea_8108_0242ac1c0002row3_col2 {\n",
              "            background-color:  #ff6c6c;\n",
              "            color:  #000000;\n",
              "        }    #T_4bdec150_8534_11ea_8108_0242ac1c0002row4_col0 {\n",
              "            background-color:  #ff0000;\n",
              "            color:  #f1f1f1;\n",
              "        }    #T_4bdec150_8534_11ea_8108_0242ac1c0002row4_col1 {\n",
              "            background-color:  #ff5c5c;\n",
              "            color:  #000000;\n",
              "        }    #T_4bdec150_8534_11ea_8108_0242ac1c0002row4_col2 {\n",
              "            background-color:  #ff1e1e;\n",
              "            color:  #f1f1f1;\n",
              "        }</style><table id=\"T_4bdec150_8534_11ea_8108_0242ac1c0002\" ><thead>    <tr>        <th class=\"blank level0\" ></th>        <th class=\"col_heading level0 col0\" >0</th>        <th class=\"col_heading level0 col1\" >1</th>        <th class=\"col_heading level0 col2\" >2</th>    </tr></thead><tbody>\n",
              "                <tr>\n",
              "                        <th id=\"T_4bdec150_8534_11ea_8108_0242ac1c0002level0_row0\" class=\"row_heading level0 row0\" >降水量の合計</th>\n",
              "                        <td id=\"T_4bdec150_8534_11ea_8108_0242ac1c0002row0_col0\" class=\"data row0 col0\" >0.685739</td>\n",
              "                        <td id=\"T_4bdec150_8534_11ea_8108_0242ac1c0002row0_col1\" class=\"data row0 col1\" >0.277842</td>\n",
              "                        <td id=\"T_4bdec150_8534_11ea_8108_0242ac1c0002row0_col2\" class=\"data row0 col2\" >-0.162052</td>\n",
              "            </tr>\n",
              "            <tr>\n",
              "                        <th id=\"T_4bdec150_8534_11ea_8108_0242ac1c0002level0_row1\" class=\"row_heading level0 row1\" >日照時間</th>\n",
              "                        <td id=\"T_4bdec150_8534_11ea_8108_0242ac1c0002row1_col0\" class=\"data row1 col0\" >-0.945632</td>\n",
              "                        <td id=\"T_4bdec150_8534_11ea_8108_0242ac1c0002row1_col1\" class=\"data row1 col1\" >-0.317458</td>\n",
              "                        <td id=\"T_4bdec150_8534_11ea_8108_0242ac1c0002row1_col2\" class=\"data row1 col2\" >-0.000909</td>\n",
              "            </tr>\n",
              "            <tr>\n",
              "                        <th id=\"T_4bdec150_8534_11ea_8108_0242ac1c0002level0_row2\" class=\"row_heading level0 row2\" >平均風速</th>\n",
              "                        <td id=\"T_4bdec150_8534_11ea_8108_0242ac1c0002row2_col0\" class=\"data row2 col0\" >0.747814</td>\n",
              "                        <td id=\"T_4bdec150_8534_11ea_8108_0242ac1c0002row2_col1\" class=\"data row2 col1\" >0.409399</td>\n",
              "                        <td id=\"T_4bdec150_8534_11ea_8108_0242ac1c0002row2_col2\" class=\"data row2 col2\" >0.126773</td>\n",
              "            </tr>\n",
              "            <tr>\n",
              "                        <th id=\"T_4bdec150_8534_11ea_8108_0242ac1c0002level0_row3\" class=\"row_heading level0 row3\" >平均湿度</th>\n",
              "                        <td id=\"T_4bdec150_8534_11ea_8108_0242ac1c0002row3_col0\" class=\"data row3 col0\" >0.356523</td>\n",
              "                        <td id=\"T_4bdec150_8534_11ea_8108_0242ac1c0002row3_col1\" class=\"data row3 col1\" >0.931560</td>\n",
              "                        <td id=\"T_4bdec150_8534_11ea_8108_0242ac1c0002row3_col2\" class=\"data row3 col2\" >-0.009350</td>\n",
              "            </tr>\n",
              "            <tr>\n",
              "                        <th id=\"T_4bdec150_8534_11ea_8108_0242ac1c0002level0_row4\" class=\"row_heading level0 row4\" >平均雲量</th>\n",
              "                        <td id=\"T_4bdec150_8534_11ea_8108_0242ac1c0002row4_col0\" class=\"data row4 col0\" >0.884472</td>\n",
              "                        <td id=\"T_4bdec150_8534_11ea_8108_0242ac1c0002row4_col1\" class=\"data row4 col1\" >0.432232</td>\n",
              "                        <td id=\"T_4bdec150_8534_11ea_8108_0242ac1c0002row4_col2\" class=\"data row4 col2\" >0.089476</td>\n",
              "            </tr>\n",
              "    </tbody></table>"
            ],
            "text/plain": [
              "<pandas.io.formats.style.Styler at 0x7f64970186a0>"
            ]
          },
          "metadata": {
            "tags": []
          },
          "execution_count": 18
        }
      ]
    },
    {
      "cell_type": "code",
      "metadata": {
        "id": "1iBcA9Ky9DWk",
        "colab_type": "code",
        "colab": {
          "base_uri": "https://localhost:8080/",
          "height": 103
        },
        "outputId": "478d79e8-3583-4864-f060-626599c989b4"
      },
      "source": [
        "# Varimax回転の時の共通因子数3での累積寄与率\n",
        "factor_index = list([])\n",
        "for i in range(n_factors):\n",
        "  factor_index.append('共通因子' + str(i))\n",
        "df_cumulative_variance = pd.DataFrame(fa_model.get_factor_variance()[2], index=factor_index)\n",
        "df_cumulative_variance.style.background_gradient(cmap=cm)"
      ],
      "execution_count": 19,
      "outputs": [
        {
          "output_type": "execute_result",
          "data": {
            "text/html": [
              "<style  type=\"text/css\" >\n",
              "    #T_ac984ec6_8534_11ea_8108_0242ac1c0002row0_col0 {\n",
              "            background-color:  #ffe5e5;\n",
              "            color:  #000000;\n",
              "        }    #T_ac984ec6_8534_11ea_8108_0242ac1c0002row1_col0 {\n",
              "            background-color:  #ff0707;\n",
              "            color:  #f1f1f1;\n",
              "        }    #T_ac984ec6_8534_11ea_8108_0242ac1c0002row2_col0 {\n",
              "            background-color:  #ff0000;\n",
              "            color:  #f1f1f1;\n",
              "        }</style><table id=\"T_ac984ec6_8534_11ea_8108_0242ac1c0002\" ><thead>    <tr>        <th class=\"blank level0\" ></th>        <th class=\"col_heading level0 col0\" >0</th>    </tr></thead><tbody>\n",
              "                <tr>\n",
              "                        <th id=\"T_ac984ec6_8534_11ea_8108_0242ac1c0002level0_row0\" class=\"row_heading level0 row0\" >共通因子0</th>\n",
              "                        <td id=\"T_ac984ec6_8534_11ea_8108_0242ac1c0002row0_col0\" class=\"data row0 col0\" >0.566617</td>\n",
              "            </tr>\n",
              "            <tr>\n",
              "                        <th id=\"T_ac984ec6_8534_11ea_8108_0242ac1c0002level0_row1\" class=\"row_heading level0 row1\" >共通因子1</th>\n",
              "                        <td id=\"T_ac984ec6_8534_11ea_8108_0242ac1c0002row1_col0\" class=\"data row1 col0\" >0.846659</td>\n",
              "            </tr>\n",
              "            <tr>\n",
              "                        <th id=\"T_ac984ec6_8534_11ea_8108_0242ac1c0002level0_row2\" class=\"row_heading level0 row2\" >共通因子2</th>\n",
              "                        <td id=\"T_ac984ec6_8534_11ea_8108_0242ac1c0002row2_col0\" class=\"data row2 col0\" >0.856744</td>\n",
              "            </tr>\n",
              "    </tbody></table>"
            ],
            "text/plain": [
              "<pandas.io.formats.style.Styler at 0x7f649774f668>"
            ]
          },
          "metadata": {
            "tags": []
          },
          "execution_count": 19
        }
      ]
    },
    {
      "cell_type": "code",
      "metadata": {
        "id": "mtStrqeZ9x6H",
        "colab_type": "code",
        "colab": {
          "base_uri": "https://localhost:8080/",
          "height": 145
        },
        "outputId": "787fd238-56a6-4703-826f-b68b90616bf0"
      },
      "source": [
        "# 共通因子数2の場合\n",
        "n_factors=2\n",
        "fa_model = FactorAnalyzer(n_factors=n_factors, method='ml', rotation='varimax', impute='drop')\n",
        "fa_model.fit(df.iloc[:, 1:])\n",
        "\n",
        "df_result = pd.DataFrame(fa_model.loadings_, index=x_label)\n",
        "\n",
        "cm = sns.light_palette('red', as_cmap=True)\n",
        "df_result.style.background_gradient(cmap=cm)"
      ],
      "execution_count": 20,
      "outputs": [
        {
          "output_type": "execute_result",
          "data": {
            "text/html": [
              "<style  type=\"text/css\" >\n",
              "    #T_1cef7f1e_8535_11ea_8108_0242ac1c0002row0_col0 {\n",
              "            background-color:  #ff1616;\n",
              "            color:  #f1f1f1;\n",
              "        }    #T_1cef7f1e_8535_11ea_8108_0242ac1c0002row0_col1 {\n",
              "            background-color:  #ff6666;\n",
              "            color:  #000000;\n",
              "        }    #T_1cef7f1e_8535_11ea_8108_0242ac1c0002row1_col0 {\n",
              "            background-color:  #ffe5e5;\n",
              "            color:  #000000;\n",
              "        }    #T_1cef7f1e_8535_11ea_8108_0242ac1c0002row1_col1 {\n",
              "            background-color:  #ffe5e5;\n",
              "            color:  #000000;\n",
              "        }    #T_1cef7f1e_8535_11ea_8108_0242ac1c0002row2_col0 {\n",
              "            background-color:  #ff1111;\n",
              "            color:  #f1f1f1;\n",
              "        }    #T_1cef7f1e_8535_11ea_8108_0242ac1c0002row2_col1 {\n",
              "            background-color:  #ff3e3e;\n",
              "            color:  #f1f1f1;\n",
              "        }    #T_1cef7f1e_8535_11ea_8108_0242ac1c0002row3_col0 {\n",
              "            background-color:  #ff3e3e;\n",
              "            color:  #f1f1f1;\n",
              "        }    #T_1cef7f1e_8535_11ea_8108_0242ac1c0002row3_col1 {\n",
              "            background-color:  #ff0000;\n",
              "            color:  #f1f1f1;\n",
              "        }    #T_1cef7f1e_8535_11ea_8108_0242ac1c0002row4_col0 {\n",
              "            background-color:  #ff0000;\n",
              "            color:  #f1f1f1;\n",
              "        }    #T_1cef7f1e_8535_11ea_8108_0242ac1c0002row4_col1 {\n",
              "            background-color:  #ff3a3a;\n",
              "            color:  #f1f1f1;\n",
              "        }</style><table id=\"T_1cef7f1e_8535_11ea_8108_0242ac1c0002\" ><thead>    <tr>        <th class=\"blank level0\" ></th>        <th class=\"col_heading level0 col0\" >0</th>        <th class=\"col_heading level0 col1\" >1</th>    </tr></thead><tbody>\n",
              "                <tr>\n",
              "                        <th id=\"T_1cef7f1e_8535_11ea_8108_0242ac1c0002level0_row0\" class=\"row_heading level0 row0\" >降水量の合計</th>\n",
              "                        <td id=\"T_1cef7f1e_8535_11ea_8108_0242ac1c0002row0_col0\" class=\"data row0 col0\" >0.678856</td>\n",
              "                        <td id=\"T_1cef7f1e_8535_11ea_8108_0242ac1c0002row0_col1\" class=\"data row0 col1\" >0.285942</td>\n",
              "            </tr>\n",
              "            <tr>\n",
              "                        <th id=\"T_1cef7f1e_8535_11ea_8108_0242ac1c0002level0_row1\" class=\"row_heading level0 row1\" >日照時間</th>\n",
              "                        <td id=\"T_1cef7f1e_8535_11ea_8108_0242ac1c0002row1_col0\" class=\"data row1 col0\" >-0.927082</td>\n",
              "                        <td id=\"T_1cef7f1e_8535_11ea_8108_0242ac1c0002row1_col1\" class=\"data row1 col1\" >-0.368165</td>\n",
              "            </tr>\n",
              "            <tr>\n",
              "                        <th id=\"T_1cef7f1e_8535_11ea_8108_0242ac1c0002level0_row2\" class=\"row_heading level0 row2\" >平均風速</th>\n",
              "                        <td id=\"T_1cef7f1e_8535_11ea_8108_0242ac1c0002row2_col0\" class=\"data row2 col0\" >0.710575</td>\n",
              "                        <td id=\"T_1cef7f1e_8535_11ea_8108_0242ac1c0002row2_col1\" class=\"data row2 col1\" >0.484701</td>\n",
              "            </tr>\n",
              "            <tr>\n",
              "                        <th id=\"T_1cef7f1e_8535_11ea_8108_0242ac1c0002level0_row3\" class=\"row_heading level0 row3\" >平均湿度</th>\n",
              "                        <td id=\"T_1cef7f1e_8535_11ea_8108_0242ac1c0002row3_col0\" class=\"data row3 col0\" >0.363824</td>\n",
              "                        <td id=\"T_1cef7f1e_8535_11ea_8108_0242ac1c0002row3_col1\" class=\"data row3 col1\" >0.803370</td>\n",
              "            </tr>\n",
              "            <tr>\n",
              "                        <th id=\"T_1cef7f1e_8535_11ea_8108_0242ac1c0002level0_row4\" class=\"row_heading level0 row4\" >平均雲量</th>\n",
              "                        <td id=\"T_1cef7f1e_8535_11ea_8108_0242ac1c0002row4_col0\" class=\"data row4 col0\" >0.848234</td>\n",
              "                        <td id=\"T_1cef7f1e_8535_11ea_8108_0242ac1c0002row4_col1\" class=\"data row4 col1\" >0.508556</td>\n",
              "            </tr>\n",
              "    </tbody></table>"
            ],
            "text/plain": [
              "<pandas.io.formats.style.Styler at 0x7f649774f160>"
            ]
          },
          "metadata": {
            "tags": []
          },
          "execution_count": 20
        }
      ]
    },
    {
      "cell_type": "code",
      "metadata": {
        "id": "Xd9ar0nA-EgU",
        "colab_type": "code",
        "colab": {
          "base_uri": "https://localhost:8080/",
          "height": 82
        },
        "outputId": "f85c7fb7-03e6-4c57-e12a-71e78ab37df8"
      },
      "source": [
        "# Varimax回転の時の共通因子数2での累積寄与率\n",
        "factor_index = list([])\n",
        "for i in range(n_factors):\n",
        "  factor_index.append('共通因子' + str(i))\n",
        "df_cumulative_variance = pd.DataFrame(fa_model.get_factor_variance()[2], index=factor_index)\n",
        "df_cumulative_variance.style.background_gradient(cmap=cm)"
      ],
      "execution_count": 21,
      "outputs": [
        {
          "output_type": "execute_result",
          "data": {
            "text/html": [
              "<style  type=\"text/css\" >\n",
              "    #T_4d4891d2_8535_11ea_8108_0242ac1c0002row0_col0 {\n",
              "            background-color:  #ffe5e5;\n",
              "            color:  #000000;\n",
              "        }    #T_4d4891d2_8535_11ea_8108_0242ac1c0002row1_col0 {\n",
              "            background-color:  #ff0000;\n",
              "            color:  #f1f1f1;\n",
              "        }</style><table id=\"T_4d4891d2_8535_11ea_8108_0242ac1c0002\" ><thead>    <tr>        <th class=\"blank level0\" ></th>        <th class=\"col_heading level0 col0\" >0</th>    </tr></thead><tbody>\n",
              "                <tr>\n",
              "                        <th id=\"T_4d4891d2_8535_11ea_8108_0242ac1c0002level0_row0\" class=\"row_heading level0 row0\" >共通因子0</th>\n",
              "                        <td id=\"T_4d4891d2_8535_11ea_8108_0242ac1c0002row0_col0\" class=\"data row0 col0\" >0.535422</td>\n",
              "            </tr>\n",
              "            <tr>\n",
              "                        <th id=\"T_4d4891d2_8535_11ea_8108_0242ac1c0002level0_row1\" class=\"row_heading level0 row1\" >共通因子1</th>\n",
              "                        <td id=\"T_4d4891d2_8535_11ea_8108_0242ac1c0002row1_col0\" class=\"data row1 col0\" >0.806678</td>\n",
              "            </tr>\n",
              "    </tbody></table>"
            ],
            "text/plain": [
              "<pandas.io.formats.style.Styler at 0x7f649774f7f0>"
            ]
          },
          "metadata": {
            "tags": []
          },
          "execution_count": 21
        }
      ]
    },
    {
      "cell_type": "code",
      "metadata": {
        "id": "Un9CNBpR-o35",
        "colab_type": "code",
        "colab": {
          "base_uri": "https://localhost:8080/",
          "height": 279
        },
        "outputId": "2af27773-e257-40a9-dd4c-3c1501e221cf"
      },
      "source": [
        "# 因子分析の結果を使って，観測値を共通因子の値に変換する\n",
        "factors_df = pd.DataFrame(fa_model.transform(df.iloc[:, 1:]))\n",
        "num_of_row = df.values.shape[0]\n",
        "\n",
        "# 潜在変数の値をプロットしてみる\n",
        "akita = list([])\n",
        "miyako = list([])\n",
        "sakata = list([])\n",
        "ishinomaki = list([])\n",
        "for i in range(num_of_row):\n",
        "  if df.values[i][0] == '秋田':\n",
        "    akita.append(factors_df.iloc[i, :])\n",
        "  elif df.values[i][0] == '宮古':\n",
        "    miyako.append(factors_df.iloc[i, :])\n",
        "  elif df.values[i][0] == '酒田':\n",
        "    sakata.append(factors_df.iloc[i, :])\n",
        "  else:\n",
        "    ishinomaki.append(factors_df.iloc[i, :])\n",
        "\n",
        "df_akita = pd.DataFrame(akita)\n",
        "df_miyako = pd.DataFrame(miyako)\n",
        "df_sakata = pd.DataFrame(sakata)\n",
        "df_ishinomaki = pd.DataFrame(ishinomaki)\n",
        "\n",
        "import matplotlib.pyplot as plt\n",
        "\n",
        "plt.scatter(df_akita.iloc[:, 0], df_akita.iloc[:, 1], label='Akita')\n",
        "plt.scatter(df_sakata.iloc[:, 0], df_sakata.iloc[:, 1], label='Sakata')\n",
        "plt.scatter(df_miyako.iloc[:, 0], df_miyako.iloc[:, 1], label='Miyako')\n",
        "plt.scatter(df_ishinomaki.iloc[:, 0], df_ishinomaki.iloc[:, 1], label='Ishinomaki')\n",
        "\n",
        "plt.xlabel('Factor0')\n",
        "plt.ylabel('Factor1')\n",
        "plt.legend()\n",
        "plt.show()"
      ],
      "execution_count": 22,
      "outputs": [
        {
          "output_type": "display_data",
          "data": {
            "image/png": "[encoded data removed]",
            "text/plain": [
              "<Figure size 432x288 with 1 Axes>"
            ]
          },
          "metadata": {
            "tags": [],
            "needs_background": "light"
          }
        }
      ]
    },
    {
      "cell_type": "code",
      "metadata": {
        "id": "8I2K9URBAbxO",
        "colab_type": "code",
        "colab": {
          "base_uri": "https://localhost:8080/",
          "height": 145
        },
        "outputId": "e020f2be-55e9-457c-af1c-d4d9f280df41"
      },
      "source": [
        "# 共通因子数2のPromax回転の場合\n",
        "n_factors=2\n",
        "fa_model = FactorAnalyzer(n_factors=n_factors, method='ml', rotation='promax', impute='drop')\n",
        "fa_model.fit(df.iloc[:, 1:])\n",
        "\n",
        "df_result = pd.DataFrame(fa_model.loadings_, index=x_label)\n",
        "cm = sns.light_palette('red', as_cmap=True)\n",
        "df_result.style.background_gradient(cmap=cm)"
      ],
      "execution_count": 25,
      "outputs": [
        {
          "output_type": "execute_result",
          "data": {
            "text/html": [
              "<style  type=\"text/css\" >\n",
              "    #T_6476e1a4_8537_11ea_8108_0242ac1c0002row0_col0 {\n",
              "            background-color:  #ff0b0b;\n",
              "            color:  #f1f1f1;\n",
              "        }    #T_6476e1a4_8537_11ea_8108_0242ac1c0002row0_col1 {\n",
              "            background-color:  #ffe5e5;\n",
              "            color:  #000000;\n",
              "        }    #T_6476e1a4_8537_11ea_8108_0242ac1c0002row1_col0 {\n",
              "            background-color:  #ffe5e5;\n",
              "            color:  #000000;\n",
              "        }    #T_6476e1a4_8537_11ea_8108_0242ac1c0002row1_col1 {\n",
              "            background-color:  #ffd2d2;\n",
              "            color:  #000000;\n",
              "        }    #T_6476e1a4_8537_11ea_8108_0242ac1c0002row2_col0 {\n",
              "            background-color:  #ff1515;\n",
              "            color:  #f1f1f1;\n",
              "        }    #T_6476e1a4_8537_11ea_8108_0242ac1c0002row2_col1 {\n",
              "            background-color:  #ffa6a6;\n",
              "            color:  #000000;\n",
              "        }    #T_6476e1a4_8537_11ea_8108_0242ac1c0002row3_col0 {\n",
              "            background-color:  #ff6767;\n",
              "            color:  #000000;\n",
              "        }    #T_6476e1a4_8537_11ea_8108_0242ac1c0002row3_col1 {\n",
              "            background-color:  #ff0000;\n",
              "            color:  #f1f1f1;\n",
              "        }    #T_6476e1a4_8537_11ea_8108_0242ac1c0002row4_col0 {\n",
              "            background-color:  #ff0000;\n",
              "            color:  #f1f1f1;\n",
              "        }    #T_6476e1a4_8537_11ea_8108_0242ac1c0002row4_col1 {\n",
              "            background-color:  #ffb2b2;\n",
              "            color:  #000000;\n",
              "        }</style><table id=\"T_6476e1a4_8537_11ea_8108_0242ac1c0002\" ><thead>    <tr>        <th class=\"blank level0\" ></th>        <th class=\"col_heading level0 col0\" >0</th>        <th class=\"col_heading level0 col1\" >1</th>    </tr></thead><tbody>\n",
              "                <tr>\n",
              "                        <th id=\"T_6476e1a4_8537_11ea_8108_0242ac1c0002level0_row0\" class=\"row_heading level0 row0\" >降水量の合計</th>\n",
              "                        <td id=\"T_6476e1a4_8537_11ea_8108_0242ac1c0002row0_col0\" class=\"data row0 col0\" >0.752158</td>\n",
              "                        <td id=\"T_6476e1a4_8537_11ea_8108_0242ac1c0002row0_col1\" class=\"data row0 col1\" >-0.021033</td>\n",
              "            </tr>\n",
              "            <tr>\n",
              "                        <th id=\"T_6476e1a4_8537_11ea_8108_0242ac1c0002level0_row1\" class=\"row_heading level0 row1\" >日照時間</th>\n",
              "                        <td id=\"T_6476e1a4_8537_11ea_8108_0242ac1c0002row1_col0\" class=\"data row1 col0\" >-1.040935</td>\n",
              "                        <td id=\"T_6476e1a4_8537_11ea_8108_0242ac1c0002row1_col1\" class=\"data row1 col1\" >0.059330</td>\n",
              "            </tr>\n",
              "            <tr>\n",
              "                        <th id=\"T_6476e1a4_8537_11ea_8108_0242ac1c0002level0_row2\" class=\"row_heading level0 row2\" >平均風速</th>\n",
              "                        <td id=\"T_6476e1a4_8537_11ea_8108_0242ac1c0002row2_col0\" class=\"data row2 col0\" >0.673172</td>\n",
              "                        <td id=\"T_6476e1a4_8537_11ea_8108_0242ac1c0002row2_col1\" class=\"data row2 col1\" >0.232083</td>\n",
              "            </tr>\n",
              "            <tr>\n",
              "                        <th id=\"T_6476e1a4_8537_11ea_8108_0242ac1c0002level0_row3\" class=\"row_heading level0 row3\" >平均湿度</th>\n",
              "                        <td id=\"T_6476e1a4_8537_11ea_8108_0242ac1c0002row3_col0\" class=\"data row3 col0\" >0.002900</td>\n",
              "                        <td id=\"T_6476e1a4_8537_11ea_8108_0242ac1c0002row3_col1\" class=\"data row3 col1\" >0.879751</td>\n",
              "            </tr>\n",
              "            <tr>\n",
              "                        <th id=\"T_6476e1a4_8537_11ea_8108_0242ac1c0002level0_row4\" class=\"row_heading level0 row4\" >平均雲量</th>\n",
              "                        <td id=\"T_6476e1a4_8537_11ea_8108_0242ac1c0002row4_col0\" class=\"data row4 col0\" >0.846705</td>\n",
              "                        <td id=\"T_6476e1a4_8537_11ea_8108_0242ac1c0002row4_col1\" class=\"data row4 col1\" >0.181042</td>\n",
              "            </tr>\n",
              "    </tbody></table>"
            ],
            "text/plain": [
              "<pandas.io.formats.style.Styler at 0x7f6496f032b0>"
            ]
          },
          "metadata": {
            "tags": []
          },
          "execution_count": 25
        }
      ]
    },
    {
      "cell_type": "code",
      "metadata": {
        "id": "pcad07icBYeb",
        "colab_type": "code",
        "colab": {
          "base_uri": "https://localhost:8080/",
          "height": 279
        },
        "outputId": "d14c2394-3083-4b8d-de21-8314ec09c7dd"
      },
      "source": [
        "# 因子分析の結果を使って，観測値を共通因子の値に変換する\n",
        "factors_df = pd.DataFrame(fa_model.transform(df.iloc[:, 1:]))\n",
        "num_of_row = df.values.shape[0]\n",
        "\n",
        "# 潜在変数の値をプロットしてみる\n",
        "akita = list([])\n",
        "miyako = list([])\n",
        "sakata = list([])\n",
        "ishinomaki = list([])\n",
        "for i in range(num_of_row):\n",
        "  if df.values[i][0] == '秋田':\n",
        "    akita.append(factors_df.iloc[i, :])\n",
        "  elif df.values[i][0] == '宮古':\n",
        "    miyako.append(factors_df.iloc[i, :])\n",
        "  elif df.values[i][0] == '酒田':\n",
        "    sakata.append(factors_df.iloc[i, :])\n",
        "  else:\n",
        "    ishinomaki.append(factors_df.iloc[i, :])\n",
        "\n",
        "df_akita = pd.DataFrame(akita)\n",
        "df_miyako = pd.DataFrame(miyako)\n",
        "df_sakata = pd.DataFrame(sakata)\n",
        "df_ishinomaki = pd.DataFrame(ishinomaki)\n",
        "\n",
        "plt.scatter(df_akita.iloc[:, 0], df_akita.iloc[:, 1], label='Akita')\n",
        "plt.scatter(df_sakata.iloc[:, 0], df_sakata.iloc[:, 1], label='Sakata')\n",
        "plt.scatter(df_miyako.iloc[:, 0], df_miyako.iloc[:, 1], label='Miyako')\n",
        "plt.scatter(df_ishinomaki.iloc[:, 0], df_ishinomaki.iloc[:, 1], label='Ishinomaki')\n",
        "\n",
        "plt.xlabel('Factor0')\n",
        "plt.ylabel('Factor1')\n",
        "plt.legend()\n",
        "plt.show()"
      ],
      "execution_count": 26,
      "outputs": [
        {
          "output_type": "display_data",
          "data": {
            "image/png": "[encoded data removed]",
            "text/plain": [
              "<Figure size 432x288 with 1 Axes>"
            ]
          },
          "metadata": {
            "tags": [],
            "needs_background": "light"
          }
        }
      ]
    }
  ]
}